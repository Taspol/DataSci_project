{
 "cells": [
  {
   "cell_type": "code",
   "execution_count": 1,
   "metadata": {},
   "outputs": [],
   "source": [
    "# pip install networkx\n",
    "# pip install nbformat"
   ]
  },
  {
   "cell_type": "code",
   "execution_count": 2,
   "metadata": {},
   "outputs": [],
   "source": [
    "import pandas as pd\n",
    "import plotly.express as px\n",
    "import plotly.graph_objects as go\n",
    "import networkx as nx\n",
    "from collections import Counter\n"
   ]
  },
  {
   "cell_type": "code",
   "execution_count": 3,
   "metadata": {},
   "outputs": [],
   "source": [
    "df = pd.read_csv(\"dataset/updated_with_year.csv\")"
   ]
  },
  {
   "cell_type": "code",
   "execution_count": 4,
   "metadata": {},
   "outputs": [
    {
     "data": {
      "text/html": [
       "<div>\n",
       "<style scoped>\n",
       "    .dataframe tbody tr th:only-of-type {\n",
       "        vertical-align: middle;\n",
       "    }\n",
       "\n",
       "    .dataframe tbody tr th {\n",
       "        vertical-align: top;\n",
       "    }\n",
       "\n",
       "    .dataframe thead th {\n",
       "        text-align: right;\n",
       "    }\n",
       "</style>\n",
       "<table border=\"1\" class=\"dataframe\">\n",
       "  <thead>\n",
       "    <tr style=\"text-align: right;\">\n",
       "      <th></th>\n",
       "      <th>0</th>\n",
       "      <th>1</th>\n",
       "      <th>2</th>\n",
       "      <th>3</th>\n",
       "      <th>4</th>\n",
       "      <th>5</th>\n",
       "      <th>6</th>\n",
       "      <th>7</th>\n",
       "      <th>8</th>\n",
       "      <th>9</th>\n",
       "      <th>...</th>\n",
       "      <th>20163</th>\n",
       "      <th>20164</th>\n",
       "      <th>20165</th>\n",
       "      <th>20166</th>\n",
       "      <th>20167</th>\n",
       "      <th>20168</th>\n",
       "      <th>20169</th>\n",
       "      <th>20170</th>\n",
       "      <th>20171</th>\n",
       "      <th>20172</th>\n",
       "    </tr>\n",
       "  </thead>\n",
       "  <tbody>\n",
       "    <tr>\n",
       "      <th>srctype</th>\n",
       "      <td>b</td>\n",
       "      <td>p</td>\n",
       "      <td>j</td>\n",
       "      <td>j</td>\n",
       "      <td>j</td>\n",
       "      <td>j</td>\n",
       "      <td>j</td>\n",
       "      <td>b</td>\n",
       "      <td>p</td>\n",
       "      <td>j</td>\n",
       "      <td>...</td>\n",
       "      <td>j</td>\n",
       "      <td>j</td>\n",
       "      <td>j</td>\n",
       "      <td>j</td>\n",
       "      <td>j</td>\n",
       "      <td>j</td>\n",
       "      <td>j</td>\n",
       "      <td>j</td>\n",
       "      <td>j</td>\n",
       "      <td>j</td>\n",
       "    </tr>\n",
       "    <tr>\n",
       "      <th>eid</th>\n",
       "      <td>2-s2.0-85077976956</td>\n",
       "      <td>2-s2.0-85060936020</td>\n",
       "      <td>2-s2.0-85052201238</td>\n",
       "      <td>2-s2.0-85051498032</td>\n",
       "      <td>2-s2.0-85050678366</td>\n",
       "      <td>2-s2.0-85059846549</td>\n",
       "      <td>2-s2.0-85053455291</td>\n",
       "      <td>2-s2.0-85078621193</td>\n",
       "      <td>2-s2.0-85061529820</td>\n",
       "      <td>2-s2.0-85058878790</td>\n",
       "      <td>...</td>\n",
       "      <td>2-s2.0-85118303218</td>\n",
       "      <td>2-s2.0-85118233030</td>\n",
       "      <td>2-s2.0-85115381484</td>\n",
       "      <td>2-s2.0-85112113039</td>\n",
       "      <td>2-s2.0-85111945558</td>\n",
       "      <td>2-s2.0-85111408415</td>\n",
       "      <td>2-s2.0-85110903700</td>\n",
       "      <td>2-s2.0-85106740832</td>\n",
       "      <td>2-s2.0-85106046890</td>\n",
       "      <td>2-s2.0-85170238281</td>\n",
       "    </tr>\n",
       "    <tr>\n",
       "      <th>prism:coverDate</th>\n",
       "      <td>2018-12-31</td>\n",
       "      <td>2018-12-31</td>\n",
       "      <td>2018-12-31</td>\n",
       "      <td>2018-12-31</td>\n",
       "      <td>2018-12-31</td>\n",
       "      <td>2018-12-30</td>\n",
       "      <td>2018-12-30</td>\n",
       "      <td>2018-12-28</td>\n",
       "      <td>2018-12-27</td>\n",
       "      <td>2018-12-26</td>\n",
       "      <td>...</td>\n",
       "      <td>2023-01-01</td>\n",
       "      <td>2023-01-01</td>\n",
       "      <td>2023-01-01</td>\n",
       "      <td>2023-01-01</td>\n",
       "      <td>2023-01-01</td>\n",
       "      <td>2023-01-01</td>\n",
       "      <td>2023-01-01</td>\n",
       "      <td>2023-01-01</td>\n",
       "      <td>2023-01-01</td>\n",
       "      <td>2023-12-31</td>\n",
       "    </tr>\n",
       "    <tr>\n",
       "      <th>prism:aggregationType</th>\n",
       "      <td>Book</td>\n",
       "      <td>Conference Proceeding</td>\n",
       "      <td>Journal</td>\n",
       "      <td>Journal</td>\n",
       "      <td>Journal</td>\n",
       "      <td>Journal</td>\n",
       "      <td>Journal</td>\n",
       "      <td>Book</td>\n",
       "      <td>Conference Proceeding</td>\n",
       "      <td>Journal</td>\n",
       "      <td>...</td>\n",
       "      <td>Journal</td>\n",
       "      <td>Journal</td>\n",
       "      <td>Journal</td>\n",
       "      <td>Journal</td>\n",
       "      <td>Journal</td>\n",
       "      <td>Journal</td>\n",
       "      <td>Journal</td>\n",
       "      <td>Journal</td>\n",
       "      <td>Journal</td>\n",
       "      <td>Journal</td>\n",
       "    </tr>\n",
       "    <tr>\n",
       "      <th>prism:url</th>\n",
       "      <td>https://api.elsevier.com/content/abstract/scop...</td>\n",
       "      <td>https://api.elsevier.com/content/abstract/scop...</td>\n",
       "      <td>https://api.elsevier.com/content/abstract/scop...</td>\n",
       "      <td>https://api.elsevier.com/content/abstract/scop...</td>\n",
       "      <td>https://api.elsevier.com/content/abstract/scop...</td>\n",
       "      <td>https://api.elsevier.com/content/abstract/scop...</td>\n",
       "      <td>https://api.elsevier.com/content/abstract/scop...</td>\n",
       "      <td>https://api.elsevier.com/content/abstract/scop...</td>\n",
       "      <td>https://api.elsevier.com/content/abstract/scop...</td>\n",
       "      <td>https://api.elsevier.com/content/abstract/scop...</td>\n",
       "      <td>...</td>\n",
       "      <td>https://api.elsevier.com/content/abstract/scop...</td>\n",
       "      <td>https://api.elsevier.com/content/abstract/scop...</td>\n",
       "      <td>https://api.elsevier.com/content/abstract/scop...</td>\n",
       "      <td>https://api.elsevier.com/content/abstract/scop...</td>\n",
       "      <td>https://api.elsevier.com/content/abstract/scop...</td>\n",
       "      <td>https://api.elsevier.com/content/abstract/scop...</td>\n",
       "      <td>https://api.elsevier.com/content/abstract/scop...</td>\n",
       "      <td>https://api.elsevier.com/content/abstract/scop...</td>\n",
       "      <td>https://api.elsevier.com/content/abstract/scop...</td>\n",
       "      <td>https://api.elsevier.com/content/abstract/scop...</td>\n",
       "    </tr>\n",
       "    <tr>\n",
       "      <th>subtypeDescription</th>\n",
       "      <td>Book Chapter</td>\n",
       "      <td>Conference Paper</td>\n",
       "      <td>Article</td>\n",
       "      <td>Article</td>\n",
       "      <td>Article</td>\n",
       "      <td>Article</td>\n",
       "      <td>Article</td>\n",
       "      <td>Book Chapter</td>\n",
       "      <td>Conference Paper</td>\n",
       "      <td>Article</td>\n",
       "      <td>...</td>\n",
       "      <td>Article</td>\n",
       "      <td>Article</td>\n",
       "      <td>Article</td>\n",
       "      <td>Article</td>\n",
       "      <td>Article</td>\n",
       "      <td>Review</td>\n",
       "      <td>Article</td>\n",
       "      <td>Article</td>\n",
       "      <td>Article</td>\n",
       "      <td>Article</td>\n",
       "    </tr>\n",
       "    <tr>\n",
       "      <th>prism:isbn</th>\n",
       "      <td>[{'$': '9783319984858'}, {'$': '9783319984841'}]</td>\n",
       "      <td>9784885523151</td>\n",
       "      <td>NaN</td>\n",
       "      <td>NaN</td>\n",
       "      <td>NaN</td>\n",
       "      <td>NaN</td>\n",
       "      <td>NaN</td>\n",
       "      <td>[{'$': '9783319996844'}, {'$': '9783319996820'}]</td>\n",
       "      <td>9781538676783</td>\n",
       "      <td>NaN</td>\n",
       "      <td>...</td>\n",
       "      <td>NaN</td>\n",
       "      <td>NaN</td>\n",
       "      <td>NaN</td>\n",
       "      <td>NaN</td>\n",
       "      <td>NaN</td>\n",
       "      <td>NaN</td>\n",
       "      <td>NaN</td>\n",
       "      <td>NaN</td>\n",
       "      <td>NaN</td>\n",
       "      <td>NaN</td>\n",
       "    </tr>\n",
       "    <tr>\n",
       "      <th>prism:publicationName</th>\n",
       "      <td>Radiology in Global Health: Strategies, Implem...</td>\n",
       "      <td>Progress in Electromagnetics Research Symposium</td>\n",
       "      <td>Chemical Engineering Science</td>\n",
       "      <td>Applied Surface Science</td>\n",
       "      <td>Analytica Chimica Acta</td>\n",
       "      <td>Polish Journal of Management Studies</td>\n",
       "      <td>Gene</td>\n",
       "      <td>Essentials of Interventional Cancer Pain Manag...</td>\n",
       "      <td>Proceedings of the 5th Asian Conference on Def...</td>\n",
       "      <td>Langmuir</td>\n",
       "      <td>...</td>\n",
       "      <td>JDR Clinical and Translational Research</td>\n",
       "      <td>IEEE Transactions on Services Computing</td>\n",
       "      <td>Applied Economics Letters</td>\n",
       "      <td>International Journal of Construction Management</td>\n",
       "      <td>Catalysis Today</td>\n",
       "      <td>Critical Reviews in Analytical Chemistry</td>\n",
       "      <td>Compare</td>\n",
       "      <td>Journal of Applied Aquaculture</td>\n",
       "      <td>Journal of the Asia Pacific Economy</td>\n",
       "      <td>International Journal of Biological Macromolec...</td>\n",
       "    </tr>\n",
       "    <tr>\n",
       "      <th>source-id</th>\n",
       "      <td>21100942340</td>\n",
       "      <td>21000195302</td>\n",
       "      <td>16413</td>\n",
       "      <td>28983</td>\n",
       "      <td>23911</td>\n",
       "      <td>21100326278</td>\n",
       "      <td>15636</td>\n",
       "      <td>21100958129</td>\n",
       "      <td>21100898525</td>\n",
       "      <td>26987</td>\n",
       "      <td>...</td>\n",
       "      <td>21100869243</td>\n",
       "      <td>18300156728</td>\n",
       "      <td>18769</td>\n",
       "      <td>18800156713</td>\n",
       "      <td>16377</td>\n",
       "      <td>23973</td>\n",
       "      <td>12860</td>\n",
       "      <td>13512</td>\n",
       "      <td>22754</td>\n",
       "      <td>17544</td>\n",
       "    </tr>\n",
       "    <tr>\n",
       "      <th>citedby-count</th>\n",
       "      <td>1.0</td>\n",
       "      <td>1.0</td>\n",
       "      <td>21.0</td>\n",
       "      <td>37.0</td>\n",
       "      <td>68.0</td>\n",
       "      <td>15.0</td>\n",
       "      <td>13.0</td>\n",
       "      <td>0.0</td>\n",
       "      <td>24.0</td>\n",
       "      <td>3.0</td>\n",
       "      <td>...</td>\n",
       "      <td>0.0</td>\n",
       "      <td>4.0</td>\n",
       "      <td>1.0</td>\n",
       "      <td>5.0</td>\n",
       "      <td>3.0</td>\n",
       "      <td>11.0</td>\n",
       "      <td>5.0</td>\n",
       "      <td>6.0</td>\n",
       "      <td>3.0</td>\n",
       "      <td>0.0</td>\n",
       "    </tr>\n",
       "    <tr>\n",
       "      <th>subtype</th>\n",
       "      <td>ch</td>\n",
       "      <td>cp</td>\n",
       "      <td>ar</td>\n",
       "      <td>ar</td>\n",
       "      <td>ar</td>\n",
       "      <td>ar</td>\n",
       "      <td>ar</td>\n",
       "      <td>ch</td>\n",
       "      <td>cp</td>\n",
       "      <td>ar</td>\n",
       "      <td>...</td>\n",
       "      <td>ar</td>\n",
       "      <td>ar</td>\n",
       "      <td>ar</td>\n",
       "      <td>ar</td>\n",
       "      <td>ar</td>\n",
       "      <td>re</td>\n",
       "      <td>ar</td>\n",
       "      <td>ar</td>\n",
       "      <td>ar</td>\n",
       "      <td>ar</td>\n",
       "    </tr>\n",
       "    <tr>\n",
       "      <th>prism:pageRange</th>\n",
       "      <td>175-183</td>\n",
       "      <td>1538-1541</td>\n",
       "      <td>1041-1057</td>\n",
       "      <td>164-174</td>\n",
       "      <td>102-109</td>\n",
       "      <td>300-310</td>\n",
       "      <td>377-381</td>\n",
       "      <td>339-352</td>\n",
       "      <td>50-55</td>\n",
       "      <td>15820-15826</td>\n",
       "      <td>...</td>\n",
       "      <td>76-84</td>\n",
       "      <td>757-772</td>\n",
       "      <td>275-279</td>\n",
       "      <td>1148-1162</td>\n",
       "      <td>260-273</td>\n",
       "      <td>233-252</td>\n",
       "      <td>710-727</td>\n",
       "      <td>1-15</td>\n",
       "      <td>502-526</td>\n",
       "      <td>NaN</td>\n",
       "    </tr>\n",
       "    <tr>\n",
       "      <th>dc:title</th>\n",
       "      <td>Public health and international epidemiology f...</td>\n",
       "      <td>Flexible Printed Active Antenna for Digital Te...</td>\n",
       "      <td>Parametric study of hydrogen production via so...</td>\n",
       "      <td>Superhydrophobic coating from fluoroalkylsilan...</td>\n",
       "      <td>Electrochemical impedance-based DNA sensor usi...</td>\n",
       "      <td>Evaluation of outsourcing transportation contr...</td>\n",
       "      <td>The phenotypic and mutational spectrum of Thai...</td>\n",
       "      <td>External beam radiotherapy in the treatment of...</td>\n",
       "      <td>Predicting judicial decisions of criminal case...</td>\n",
       "      <td>PH Variation as a Simple and Selective Pathway...</td>\n",
       "      <td>...</td>\n",
       "      <td>Dentists’ Attitudes Toward Dental Implant Main...</td>\n",
       "      <td>Service Workflow: State-of-the-Art and Future ...</td>\n",
       "      <td>Investment tax incentives and firm productivit...</td>\n",
       "      <td>RSIAM risk profile for managing risk factors o...</td>\n",
       "      <td>Long-chain bio-olefins production via oxidativ...</td>\n",
       "      <td>Recent Developments and Applications of Microf...</td>\n",
       "      <td>Social justice, education and peacebuilding: c...</td>\n",
       "      <td>Effects of black soldier fly (Hermetia illucen...</td>\n",
       "      <td>Effects of remittances on household poverty an...</td>\n",
       "      <td>Graphene oxide-alginate hydrogel-based indicat...</td>\n",
       "    </tr>\n",
       "    <tr>\n",
       "      <th>prism:endingPage</th>\n",
       "      <td>183</td>\n",
       "      <td>1541</td>\n",
       "      <td>1057</td>\n",
       "      <td>174</td>\n",
       "      <td>109</td>\n",
       "      <td>310</td>\n",
       "      <td>381</td>\n",
       "      <td>352</td>\n",
       "      <td>55</td>\n",
       "      <td>15826</td>\n",
       "      <td>...</td>\n",
       "      <td>84</td>\n",
       "      <td>772</td>\n",
       "      <td>279</td>\n",
       "      <td>1162</td>\n",
       "      <td>273</td>\n",
       "      <td>252</td>\n",
       "      <td>727</td>\n",
       "      <td>15</td>\n",
       "      <td>526</td>\n",
       "      <td>NaN</td>\n",
       "    </tr>\n",
       "    <tr>\n",
       "      <th>openaccess</th>\n",
       "      <td>0.0</td>\n",
       "      <td>0.0</td>\n",
       "      <td>0.0</td>\n",
       "      <td>0.0</td>\n",
       "      <td>0.0</td>\n",
       "      <td>1.0</td>\n",
       "      <td>0.0</td>\n",
       "      <td>0.0</td>\n",
       "      <td>0.0</td>\n",
       "      <td>0.0</td>\n",
       "      <td>...</td>\n",
       "      <td>0.0</td>\n",
       "      <td>1.0</td>\n",
       "      <td>0.0</td>\n",
       "      <td>0.0</td>\n",
       "      <td>0.0</td>\n",
       "      <td>0.0</td>\n",
       "      <td>1.0</td>\n",
       "      <td>0.0</td>\n",
       "      <td>0.0</td>\n",
       "      <td>0.0</td>\n",
       "    </tr>\n",
       "    <tr>\n",
       "      <th>openaccessFlag</th>\n",
       "      <td>False</td>\n",
       "      <td>False</td>\n",
       "      <td>False</td>\n",
       "      <td>False</td>\n",
       "      <td>False</td>\n",
       "      <td>True</td>\n",
       "      <td>False</td>\n",
       "      <td>False</td>\n",
       "      <td>False</td>\n",
       "      <td>False</td>\n",
       "      <td>...</td>\n",
       "      <td>False</td>\n",
       "      <td>True</td>\n",
       "      <td>False</td>\n",
       "      <td>False</td>\n",
       "      <td>False</td>\n",
       "      <td>False</td>\n",
       "      <td>True</td>\n",
       "      <td>False</td>\n",
       "      <td>False</td>\n",
       "      <td>False</td>\n",
       "    </tr>\n",
       "    <tr>\n",
       "      <th>prism:doi</th>\n",
       "      <td>10.1007/978-3-319-98485-8_15</td>\n",
       "      <td>10.23919/PIERS.2018.8597669</td>\n",
       "      <td>10.1016/j.ces.2018.08.042</td>\n",
       "      <td>10.1016/j.apsusc.2018.08.059</td>\n",
       "      <td>10.1016/j.aca.2018.07.045</td>\n",
       "      <td>10.17512/pjms.2018.18.2.24</td>\n",
       "      <td>10.1016/j.gene.2018.09.026</td>\n",
       "      <td>10.1007/978-3-319-99684-4_38</td>\n",
       "      <td>10.1109/ACDT.2018.8592948</td>\n",
       "      <td>10.1021/acs.langmuir.8b03443</td>\n",
       "      <td>...</td>\n",
       "      <td>10.1177/23800844211049405</td>\n",
       "      <td>10.1109/TSC.2021.3121394</td>\n",
       "      <td>10.1080/13504851.2021.1983135</td>\n",
       "      <td>10.1080/15623599.2021.1957753</td>\n",
       "      <td>10.1016/j.cattod.2021.07.034</td>\n",
       "      <td>10.1080/10408347.2021.1949695</td>\n",
       "      <td>10.1080/03057925.2021.1951666</td>\n",
       "      <td>10.1080/10454438.2021.1923609</td>\n",
       "      <td>10.1080/13547860.2021.1905200</td>\n",
       "      <td>10.1016/j.ijbiomac.2023.126316</td>\n",
       "    </tr>\n",
       "    <tr>\n",
       "      <th>prism:startingPage</th>\n",
       "      <td>175</td>\n",
       "      <td>1538</td>\n",
       "      <td>1041</td>\n",
       "      <td>164</td>\n",
       "      <td>102</td>\n",
       "      <td>300</td>\n",
       "      <td>377</td>\n",
       "      <td>339</td>\n",
       "      <td>50</td>\n",
       "      <td>15820</td>\n",
       "      <td>...</td>\n",
       "      <td>76</td>\n",
       "      <td>757</td>\n",
       "      <td>275</td>\n",
       "      <td>1148</td>\n",
       "      <td>260</td>\n",
       "      <td>233</td>\n",
       "      <td>710</td>\n",
       "      <td>1</td>\n",
       "      <td>502</td>\n",
       "      <td>NaN</td>\n",
       "    </tr>\n",
       "    <tr>\n",
       "      <th>dc:identifier</th>\n",
       "      <td>SCOPUS_ID:85077976956</td>\n",
       "      <td>SCOPUS_ID:85060936020</td>\n",
       "      <td>SCOPUS_ID:85052201238</td>\n",
       "      <td>SCOPUS_ID:85051498032</td>\n",
       "      <td>SCOPUS_ID:85050678366</td>\n",
       "      <td>SCOPUS_ID:85059846549</td>\n",
       "      <td>SCOPUS_ID:85053455291</td>\n",
       "      <td>SCOPUS_ID:85078621193</td>\n",
       "      <td>SCOPUS_ID:85061529820</td>\n",
       "      <td>SCOPUS_ID:85058878790</td>\n",
       "      <td>...</td>\n",
       "      <td>SCOPUS_ID:85118303218</td>\n",
       "      <td>SCOPUS_ID:85118233030</td>\n",
       "      <td>SCOPUS_ID:85115381484</td>\n",
       "      <td>SCOPUS_ID:85112113039</td>\n",
       "      <td>SCOPUS_ID:85111945558</td>\n",
       "      <td>SCOPUS_ID:85111408415</td>\n",
       "      <td>SCOPUS_ID:85110903700</td>\n",
       "      <td>SCOPUS_ID:85106740832</td>\n",
       "      <td>SCOPUS_ID:85106046890</td>\n",
       "      <td>SCOPUS_ID:85170238281</td>\n",
       "    </tr>\n",
       "    <tr>\n",
       "      <th>dc:publisher</th>\n",
       "      <td>Springer International Publishing</td>\n",
       "      <td>Institute of Electrical and Electronics Engine...</td>\n",
       "      <td>Elsevier Ltd</td>\n",
       "      <td>Elsevier B.V.</td>\n",
       "      <td>Elsevier B.V.</td>\n",
       "      <td>Czestochowa University of Technologyajanas@adm...</td>\n",
       "      <td>Elsevier B.V.</td>\n",
       "      <td>Springer International Publishing</td>\n",
       "      <td>Institute of Electrical and Electronics Engine...</td>\n",
       "      <td>American Chemical Societyservice@acs.org</td>\n",
       "      <td>...</td>\n",
       "      <td>SAGE Publications Ltd</td>\n",
       "      <td>Institute of Electrical and Electronics Engine...</td>\n",
       "      <td>Routledge</td>\n",
       "      <td>Taylor and Francis Ltd.</td>\n",
       "      <td>Elsevier B.V.</td>\n",
       "      <td>Taylor and Francis Ltd.</td>\n",
       "      <td>Routledge</td>\n",
       "      <td>Taylor and Francis Ltd.</td>\n",
       "      <td>Routledge</td>\n",
       "      <td>Elsevier B.V.</td>\n",
       "    </tr>\n",
       "    <tr>\n",
       "      <th>creator_given_name</th>\n",
       "      <td>Krit</td>\n",
       "      <td>Teerapong</td>\n",
       "      <td>Kiattikhoon</td>\n",
       "      <td>Jittraporn</td>\n",
       "      <td>Prinjaporn</td>\n",
       "      <td>Siri-On</td>\n",
       "      <td>Voranush</td>\n",
       "      <td>Candice</td>\n",
       "      <td>Kankawin</td>\n",
       "      <td>Chutamart</td>\n",
       "      <td>...</td>\n",
       "      <td>NaN</td>\n",
       "      <td>Wattana</td>\n",
       "      <td>Athiphat</td>\n",
       "      <td>Sy Tien</td>\n",
       "      <td>Duy</td>\n",
       "      <td>Waleed</td>\n",
       "      <td>Tejendra</td>\n",
       "      <td>Ratchaneegorn</td>\n",
       "      <td>Vatana</td>\n",
       "      <td>Siraprapa</td>\n",
       "    </tr>\n",
       "    <tr>\n",
       "      <th>creator_surname</th>\n",
       "      <td>Pongpirul</td>\n",
       "      <td>Pratumsiri</td>\n",
       "      <td>Phuakpunk</td>\n",
       "      <td>Saengkaew</td>\n",
       "      <td>Teengam</td>\n",
       "      <td>Setamanit</td>\n",
       "      <td>Chongsrisawat</td>\n",
       "      <td>Johnstone</td>\n",
       "      <td>Kowsrihawat</td>\n",
       "      <td>Pitakchatwong</td>\n",
       "      <td>...</td>\n",
       "      <td>Rudeejaraswan</td>\n",
       "      <td>Viriyasitavat</td>\n",
       "      <td>Muthitacharoen</td>\n",
       "      <td>Do</td>\n",
       "      <td>Le</td>\n",
       "      <td>Alahmad</td>\n",
       "      <td>Pherali</td>\n",
       "      <td>Mapanao</td>\n",
       "      <td>Chea</td>\n",
       "      <td>Boobphahom</td>\n",
       "    </tr>\n",
       "    <tr>\n",
       "      <th>creator_auid</th>\n",
       "      <td>14720203700</td>\n",
       "      <td>57192376216</td>\n",
       "      <td>57202924002</td>\n",
       "      <td>57203385584</td>\n",
       "      <td>56524669400</td>\n",
       "      <td>6504603029</td>\n",
       "      <td>7003640663</td>\n",
       "      <td>55821824800</td>\n",
       "      <td>56938866500</td>\n",
       "      <td>57193796935</td>\n",
       "      <td>...</td>\n",
       "      <td>57318374800</td>\n",
       "      <td>57224272289</td>\n",
       "      <td>6508047023</td>\n",
       "      <td>57220520498</td>\n",
       "      <td>57190429582</td>\n",
       "      <td>57190164722</td>\n",
       "      <td>36931205600</td>\n",
       "      <td>57190616745</td>\n",
       "      <td>57223009056</td>\n",
       "      <td>57204796013</td>\n",
       "    </tr>\n",
       "    <tr>\n",
       "      <th>link_self</th>\n",
       "      <td>https://api.elsevier.com/content/abstract/scop...</td>\n",
       "      <td>https://api.elsevier.com/content/abstract/scop...</td>\n",
       "      <td>https://api.elsevier.com/content/abstract/scop...</td>\n",
       "      <td>https://api.elsevier.com/content/abstract/scop...</td>\n",
       "      <td>https://api.elsevier.com/content/abstract/scop...</td>\n",
       "      <td>https://api.elsevier.com/content/abstract/scop...</td>\n",
       "      <td>https://api.elsevier.com/content/abstract/scop...</td>\n",
       "      <td>https://api.elsevier.com/content/abstract/scop...</td>\n",
       "      <td>https://api.elsevier.com/content/abstract/scop...</td>\n",
       "      <td>https://api.elsevier.com/content/abstract/scop...</td>\n",
       "      <td>...</td>\n",
       "      <td>https://api.elsevier.com/content/abstract/scop...</td>\n",
       "      <td>https://api.elsevier.com/content/abstract/scop...</td>\n",
       "      <td>https://api.elsevier.com/content/abstract/scop...</td>\n",
       "      <td>https://api.elsevier.com/content/abstract/scop...</td>\n",
       "      <td>https://api.elsevier.com/content/abstract/scop...</td>\n",
       "      <td>https://api.elsevier.com/content/abstract/scop...</td>\n",
       "      <td>https://api.elsevier.com/content/abstract/scop...</td>\n",
       "      <td>https://api.elsevier.com/content/abstract/scop...</td>\n",
       "      <td>https://api.elsevier.com/content/abstract/scop...</td>\n",
       "      <td>https://api.elsevier.com/content/abstract/scop...</td>\n",
       "    </tr>\n",
       "    <tr>\n",
       "      <th>link_scopus</th>\n",
       "      <td>https://www.scopus.com/inward/record.uri?partn...</td>\n",
       "      <td>https://www.scopus.com/inward/record.uri?partn...</td>\n",
       "      <td>https://www.scopus.com/inward/record.uri?partn...</td>\n",
       "      <td>https://www.scopus.com/inward/record.uri?partn...</td>\n",
       "      <td>https://www.scopus.com/inward/record.uri?partn...</td>\n",
       "      <td>https://www.scopus.com/inward/record.uri?partn...</td>\n",
       "      <td>https://www.scopus.com/inward/record.uri?partn...</td>\n",
       "      <td>https://www.scopus.com/inward/record.uri?partn...</td>\n",
       "      <td>https://www.scopus.com/inward/record.uri?partn...</td>\n",
       "      <td>https://www.scopus.com/inward/record.uri?partn...</td>\n",
       "      <td>...</td>\n",
       "      <td>https://www.scopus.com/inward/record.uri?partn...</td>\n",
       "      <td>https://www.scopus.com/inward/record.uri?partn...</td>\n",
       "      <td>https://www.scopus.com/inward/record.uri?partn...</td>\n",
       "      <td>https://www.scopus.com/inward/record.uri?partn...</td>\n",
       "      <td>https://www.scopus.com/inward/record.uri?partn...</td>\n",
       "      <td>https://www.scopus.com/inward/record.uri?partn...</td>\n",
       "      <td>https://www.scopus.com/inward/record.uri?partn...</td>\n",
       "      <td>https://www.scopus.com/inward/record.uri?partn...</td>\n",
       "      <td>https://www.scopus.com/inward/record.uri?partn...</td>\n",
       "      <td>https://www.scopus.com/inward/record.uri?partn...</td>\n",
       "    </tr>\n",
       "    <tr>\n",
       "      <th>Countries</th>\n",
       "      <td>Thailand,United States,Thailand,United States,...</td>\n",
       "      <td>Thailand</td>\n",
       "      <td>Thailand,Thailand,Thailand,Thailand,Thailand</td>\n",
       "      <td>Thailand,Japan,Japan,Thailand,Thailand,Thailand</td>\n",
       "      <td>Thailand,Thailand,Thailand,Thailand,Thailand,U...</td>\n",
       "      <td>Thailand</td>\n",
       "      <td>Thailand,Thailand,Thailand</td>\n",
       "      <td>United States,United States,Thailand</td>\n",
       "      <td>Thailand,Thailand</td>\n",
       "      <td>Thailand,Thailand</td>\n",
       "      <td>...</td>\n",
       "      <td>Thailand,Thailand,Sweden</td>\n",
       "      <td>Thailand,United States,India,United States</td>\n",
       "      <td>Thailand</td>\n",
       "      <td>Viet Nam,Viet Nam,Viet Nam,Thailand</td>\n",
       "      <td>Thailand,Thailand,Thailand,Thailand,Thailand</td>\n",
       "      <td>Thailand</td>\n",
       "      <td>United Kingdom,Thailand</td>\n",
       "      <td>Thailand,Thailand</td>\n",
       "      <td>Cambodia,Thailand</td>\n",
       "      <td>Thailand,Thailand,Thailand</td>\n",
       "    </tr>\n",
       "    <tr>\n",
       "      <th>Organizations</th>\n",
       "      <td>Department of Preventive and Social Medicine,F...</td>\n",
       "      <td>Department of Electrical Engineering,Wireless ...</td>\n",
       "      <td>Center of Excellence in Catalysis and Catalyti...</td>\n",
       "      <td>Department of Chemistry,Faculty of Science and...</td>\n",
       "      <td>Program in Petrochemistry,Faculty of Science,C...</td>\n",
       "      <td>Chulalongkorn Business School,Chulalongkorn Un...</td>\n",
       "      <td>Department of Pediatrics,Faculty of Medicine,C...</td>\n",
       "      <td>Department of Radiation Oncology,Medical Colle...</td>\n",
       "      <td>Department of Computer Engineering,Faculty of ...</td>\n",
       "      <td>Petroleum and Petrochemical College,Chulalongk...</td>\n",
       "      <td>...</td>\n",
       "      <td>Department of Oral and Maxillofacial Surgery,F...</td>\n",
       "      <td>Chulalongkorn University,Statistics,Old Domini...</td>\n",
       "      <td>Faculty of Economics,Chulalongkorn University</td>\n",
       "      <td>Faculty of Civil Engineering,Ho Chi Minh City ...</td>\n",
       "      <td>Department of Chemical Technology,Faculty of S...</td>\n",
       "      <td>Department of Chemistry,Faculty of Science,Chu...</td>\n",
       "      <td>Centre for Education and International Develop...</td>\n",
       "      <td>Program of Fisheries Science,Faculty of Interd...</td>\n",
       "      <td>Faculty of Applied Science and Center for Prof...</td>\n",
       "      <td>Metallurgy and Materials Science Research Inst...</td>\n",
       "    </tr>\n",
       "    <tr>\n",
       "      <th>Funding Agencies</th>\n",
       "      <td>NaN</td>\n",
       "      <td>NaN</td>\n",
       "      <td>Center of Excellence in Catalysis and Catalyti...</td>\n",
       "      <td>Center of Scientific Equipment for Advanced Sc...</td>\n",
       "      <td>Colorado State University,Chulalongkorn Univer...</td>\n",
       "      <td>NaN</td>\n",
       "      <td>Chulalongkorn Academic Advancement,Thailand Re...</td>\n",
       "      <td>NaN</td>\n",
       "      <td>NaN</td>\n",
       "      <td>Center of Excellence on Petrochemical and Mate...</td>\n",
       "      <td>...</td>\n",
       "      <td>NaN</td>\n",
       "      <td>NaN</td>\n",
       "      <td>Thailand Research Fund</td>\n",
       "      <td>VNU-HCM</td>\n",
       "      <td>Program Management Unit for Human Resources &amp; ...</td>\n",
       "      <td>Chulalongkorn University</td>\n",
       "      <td>Chawin Pongpajon,Chulalongkorn University</td>\n",
       "      <td>Khon Kaen University</td>\n",
       "      <td>Chulalongkorn University</td>\n",
       "      <td>NSRF,Chulalongkorn University,Thailand Science...</td>\n",
       "    </tr>\n",
       "    <tr>\n",
       "      <th>auth-keywords</th>\n",
       "      <td>NaN</td>\n",
       "      <td>NaN</td>\n",
       "      <td>Circulating fluidized bed,Computational fluid ...</td>\n",
       "      <td>Encapsulation,Fluoroalkylsilane,Natural rubber...</td>\n",
       "      <td>acpcPNA,Electrochemical impedance spectroscopy...</td>\n",
       "      <td>Design of experiment,Optimal fleet size,Outsou...</td>\n",
       "      <td>Female,Hyperammonemia,Novel mutations,Ornithin...</td>\n",
       "      <td>NaN</td>\n",
       "      <td>Attention mechanism,Bi-directional GRU,crimina...</td>\n",
       "      <td>NaN</td>\n",
       "      <td>...</td>\n",
       "      <td>dental care,dental education,dental implantati...</td>\n",
       "      <td>Business process management,Internet-of-Things...</td>\n",
       "      <td>competition,developing country,productivity,Ta...</td>\n",
       "      <td>construction projects,international constructi...</td>\n",
       "      <td>Long-chain olefins,Mesoporous KIT-6,Oleic acid...</td>\n",
       "      <td>Biological hazards,chemical hazards,food conta...</td>\n",
       "      <td>conflict,Education,peacebuilding,social justic...</td>\n",
       "      <td>Anabas testudineus,Black soldier fly,fish meal...</td>\n",
       "      <td>Cambodia,consumption,expenditure,Impact,inequa...</td>\n",
       "      <td>Alzheimer's disease,Hydrogel colorimetric sens...</td>\n",
       "    </tr>\n",
       "    <tr>\n",
       "      <th>dc:description</th>\n",
       "      <td>NaN</td>\n",
       "      <td>This paper presents the development of a flexi...</td>\n",
       "      <td>Computational fluid dynamics was applied for s...</td>\n",
       "      <td>A superhydrophobic/superoleophilic mesh was su...</td>\n",
       "      <td>A label-free electrochemical DNA sensor based ...</td>\n",
       "      <td>This paper aims to develop an approach to iden...</td>\n",
       "      <td>Ornithine transcarbamylase deficiency (OTCD) i...</td>\n",
       "      <td>NaN</td>\n",
       "      <td>Predicting court judgement has gained growing ...</td>\n",
       "      <td>The fabrication of polysaccharides to be nanop...</td>\n",
       "      <td>...</td>\n",
       "      <td>Introduction: As implant therapy is a widely a...</td>\n",
       "      <td>Workflow is used to support and connect busine...</td>\n",
       "      <td>Developing countries often employ tax incentiv...</td>\n",
       "      <td>The international construction joint venture (...</td>\n",
       "      <td>Long-chain α-olefins (≥ C10) are normally appl...</td>\n",
       "      <td>Nowadays, food safety has become a major conce...</td>\n",
       "      <td>Education is increasingly becoming central to ...</td>\n",
       "      <td>The effects of replacing fish meal protein wit...</td>\n",
       "      <td>The author uses data from the Cambodia Socio-E...</td>\n",
       "      <td>Pyrocatechol violet/copper ion-graphene oxide/...</td>\n",
       "    </tr>\n",
       "    <tr>\n",
       "      <th>prism:volume</th>\n",
       "      <td>NaN</td>\n",
       "      <td>2018-August</td>\n",
       "      <td>192</td>\n",
       "      <td>462</td>\n",
       "      <td>1044</td>\n",
       "      <td>18</td>\n",
       "      <td>679</td>\n",
       "      <td>NaN</td>\n",
       "      <td>NaN</td>\n",
       "      <td>34</td>\n",
       "      <td>...</td>\n",
       "      <td>8</td>\n",
       "      <td>16</td>\n",
       "      <td>30</td>\n",
       "      <td>23</td>\n",
       "      <td>407</td>\n",
       "      <td>53</td>\n",
       "      <td>53</td>\n",
       "      <td>35</td>\n",
       "      <td>28</td>\n",
       "      <td>253</td>\n",
       "    </tr>\n",
       "    <tr>\n",
       "      <th>prism:issn</th>\n",
       "      <td>NaN</td>\n",
       "      <td>19317360 15599450</td>\n",
       "      <td>00092509</td>\n",
       "      <td>01694332</td>\n",
       "      <td>18734324 00032670</td>\n",
       "      <td>20817452</td>\n",
       "      <td>18790038 03781119</td>\n",
       "      <td>NaN</td>\n",
       "      <td>NaN</td>\n",
       "      <td>15205827 07437463</td>\n",
       "      <td>...</td>\n",
       "      <td>23800852 23800844</td>\n",
       "      <td>19391374</td>\n",
       "      <td>14664291 13504851</td>\n",
       "      <td>15623599</td>\n",
       "      <td>09205861</td>\n",
       "      <td>15476510 10408347</td>\n",
       "      <td>14693623 03057925</td>\n",
       "      <td>15450805 10454438</td>\n",
       "      <td>14699648 13547860</td>\n",
       "      <td>18790003 01418130</td>\n",
       "    </tr>\n",
       "    <tr>\n",
       "      <th>publishercopyright</th>\n",
       "      <td>NaN</td>\n",
       "      <td>© 2018 The Institute of Electronics, Informati...</td>\n",
       "      <td>© 2018 Elsevier Ltd</td>\n",
       "      <td>© 2018 Elsevier B.V.</td>\n",
       "      <td>© 2018 Elsevier B.V.</td>\n",
       "      <td>© 2018, Czestochowa University of Technology. ...</td>\n",
       "      <td>© 2018 Elsevier B.V.</td>\n",
       "      <td>NaN</td>\n",
       "      <td>© 2018 IEEE.</td>\n",
       "      <td>© 2018 American Chemical Society.</td>\n",
       "      <td>...</td>\n",
       "      <td>© International Association for Dental Researc...</td>\n",
       "      <td>© 2008-2012 IEEE.</td>\n",
       "      <td>© 2021 Informa UK Limited, trading as Taylor &amp;...</td>\n",
       "      <td>© 2021 Informa UK Limited, trading as Taylor &amp;...</td>\n",
       "      <td>© 2021 Elsevier B.V.</td>\n",
       "      <td>© 2021 Taylor &amp; Francis Group, LLC.</td>\n",
       "      <td>© 2021 The Author(s). Published by Informa UK ...</td>\n",
       "      <td>© 2021 Taylor &amp; Francis.</td>\n",
       "      <td>© 2021 Informa UK Limited, trading as Taylor &amp;...</td>\n",
       "      <td>© 2023 Elsevier B.V.</td>\n",
       "    </tr>\n",
       "    <tr>\n",
       "      <th>article-number</th>\n",
       "      <td>NaN</td>\n",
       "      <td>8597669</td>\n",
       "      <td>NaN</td>\n",
       "      <td>NaN</td>\n",
       "      <td>NaN</td>\n",
       "      <td>NaN</td>\n",
       "      <td>NaN</td>\n",
       "      <td>NaN</td>\n",
       "      <td>8592948</td>\n",
       "      <td>NaN</td>\n",
       "      <td>...</td>\n",
       "      <td>NaN</td>\n",
       "      <td>NaN</td>\n",
       "      <td>NaN</td>\n",
       "      <td>NaN</td>\n",
       "      <td>NaN</td>\n",
       "      <td>NaN</td>\n",
       "      <td>NaN</td>\n",
       "      <td>NaN</td>\n",
       "      <td>NaN</td>\n",
       "      <td>126316</td>\n",
       "    </tr>\n",
       "    <tr>\n",
       "      <th>pii</th>\n",
       "      <td>NaN</td>\n",
       "      <td>NaN</td>\n",
       "      <td>S0009250918306183</td>\n",
       "      <td>S0169433218321792</td>\n",
       "      <td>S0003267018309097</td>\n",
       "      <td>NaN</td>\n",
       "      <td>S0378111918309855</td>\n",
       "      <td>NaN</td>\n",
       "      <td>NaN</td>\n",
       "      <td>NaN</td>\n",
       "      <td>...</td>\n",
       "      <td>NaN</td>\n",
       "      <td>NaN</td>\n",
       "      <td>NaN</td>\n",
       "      <td>NaN</td>\n",
       "      <td>S0920586121003497</td>\n",
       "      <td>NaN</td>\n",
       "      <td>NaN</td>\n",
       "      <td>NaN</td>\n",
       "      <td>NaN</td>\n",
       "      <td>S0141813023032129</td>\n",
       "    </tr>\n",
       "    <tr>\n",
       "      <th>pubmed-id</th>\n",
       "      <td>NaN</td>\n",
       "      <td>NaN</td>\n",
       "      <td>NaN</td>\n",
       "      <td>NaN</td>\n",
       "      <td>30442390.0</td>\n",
       "      <td>NaN</td>\n",
       "      <td>30223008.0</td>\n",
       "      <td>NaN</td>\n",
       "      <td>NaN</td>\n",
       "      <td>30509073.0</td>\n",
       "      <td>...</td>\n",
       "      <td>NaN</td>\n",
       "      <td>NaN</td>\n",
       "      <td>NaN</td>\n",
       "      <td>NaN</td>\n",
       "      <td>NaN</td>\n",
       "      <td>34304654.0</td>\n",
       "      <td>NaN</td>\n",
       "      <td>NaN</td>\n",
       "      <td>NaN</td>\n",
       "      <td>37633552.0</td>\n",
       "    </tr>\n",
       "    <tr>\n",
       "      <th>prism:issueIdentifier</th>\n",
       "      <td>NaN</td>\n",
       "      <td>NaN</td>\n",
       "      <td>NaN</td>\n",
       "      <td>NaN</td>\n",
       "      <td>NaN</td>\n",
       "      <td>2</td>\n",
       "      <td>NaN</td>\n",
       "      <td>NaN</td>\n",
       "      <td>NaN</td>\n",
       "      <td>51</td>\n",
       "      <td>...</td>\n",
       "      <td>1</td>\n",
       "      <td>1</td>\n",
       "      <td>3</td>\n",
       "      <td>7</td>\n",
       "      <td>NaN</td>\n",
       "      <td>2</td>\n",
       "      <td>4</td>\n",
       "      <td>1</td>\n",
       "      <td>2</td>\n",
       "      <td>NaN</td>\n",
       "    </tr>\n",
       "    <tr>\n",
       "      <th>year</th>\n",
       "      <td>2018</td>\n",
       "      <td>2018</td>\n",
       "      <td>2018</td>\n",
       "      <td>2018</td>\n",
       "      <td>2018</td>\n",
       "      <td>2018</td>\n",
       "      <td>2018</td>\n",
       "      <td>2018</td>\n",
       "      <td>2018</td>\n",
       "      <td>2018</td>\n",
       "      <td>...</td>\n",
       "      <td>2023</td>\n",
       "      <td>2023</td>\n",
       "      <td>2023</td>\n",
       "      <td>2023</td>\n",
       "      <td>2023</td>\n",
       "      <td>2023</td>\n",
       "      <td>2023</td>\n",
       "      <td>2023</td>\n",
       "      <td>2023</td>\n",
       "      <td>2023</td>\n",
       "    </tr>\n",
       "  </tbody>\n",
       "</table>\n",
       "<p>38 rows × 20173 columns</p>\n",
       "</div>"
      ],
      "text/plain": [
       "                                                                   0      \\\n",
       "srctype                                                                b   \n",
       "eid                                                   2-s2.0-85077976956   \n",
       "prism:coverDate                                               2018-12-31   \n",
       "prism:aggregationType                                               Book   \n",
       "prism:url              https://api.elsevier.com/content/abstract/scop...   \n",
       "subtypeDescription                                          Book Chapter   \n",
       "prism:isbn              [{'$': '9783319984858'}, {'$': '9783319984841'}]   \n",
       "prism:publicationName  Radiology in Global Health: Strategies, Implem...   \n",
       "source-id                                                    21100942340   \n",
       "citedby-count                                                        1.0   \n",
       "subtype                                                               ch   \n",
       "prism:pageRange                                                  175-183   \n",
       "dc:title               Public health and international epidemiology f...   \n",
       "prism:endingPage                                                     183   \n",
       "openaccess                                                           0.0   \n",
       "openaccessFlag                                                     False   \n",
       "prism:doi                                   10.1007/978-3-319-98485-8_15   \n",
       "prism:startingPage                                                   175   \n",
       "dc:identifier                                      SCOPUS_ID:85077976956   \n",
       "dc:publisher                           Springer International Publishing   \n",
       "creator_given_name                                                  Krit   \n",
       "creator_surname                                                Pongpirul   \n",
       "creator_auid                                                 14720203700   \n",
       "link_self              https://api.elsevier.com/content/abstract/scop...   \n",
       "link_scopus            https://www.scopus.com/inward/record.uri?partn...   \n",
       "Countries              Thailand,United States,Thailand,United States,...   \n",
       "Organizations          Department of Preventive and Social Medicine,F...   \n",
       "Funding Agencies                                                     NaN   \n",
       "auth-keywords                                                        NaN   \n",
       "dc:description                                                       NaN   \n",
       "prism:volume                                                         NaN   \n",
       "prism:issn                                                           NaN   \n",
       "publishercopyright                                                   NaN   \n",
       "article-number                                                       NaN   \n",
       "pii                                                                  NaN   \n",
       "pubmed-id                                                            NaN   \n",
       "prism:issueIdentifier                                                NaN   \n",
       "year                                                                2018   \n",
       "\n",
       "                                                                   1      \\\n",
       "srctype                                                                p   \n",
       "eid                                                   2-s2.0-85060936020   \n",
       "prism:coverDate                                               2018-12-31   \n",
       "prism:aggregationType                              Conference Proceeding   \n",
       "prism:url              https://api.elsevier.com/content/abstract/scop...   \n",
       "subtypeDescription                                      Conference Paper   \n",
       "prism:isbn                                                 9784885523151   \n",
       "prism:publicationName    Progress in Electromagnetics Research Symposium   \n",
       "source-id                                                    21000195302   \n",
       "citedby-count                                                        1.0   \n",
       "subtype                                                               cp   \n",
       "prism:pageRange                                                1538-1541   \n",
       "dc:title               Flexible Printed Active Antenna for Digital Te...   \n",
       "prism:endingPage                                                    1541   \n",
       "openaccess                                                           0.0   \n",
       "openaccessFlag                                                     False   \n",
       "prism:doi                                    10.23919/PIERS.2018.8597669   \n",
       "prism:startingPage                                                  1538   \n",
       "dc:identifier                                      SCOPUS_ID:85060936020   \n",
       "dc:publisher           Institute of Electrical and Electronics Engine...   \n",
       "creator_given_name                                             Teerapong   \n",
       "creator_surname                                               Pratumsiri   \n",
       "creator_auid                                                 57192376216   \n",
       "link_self              https://api.elsevier.com/content/abstract/scop...   \n",
       "link_scopus            https://www.scopus.com/inward/record.uri?partn...   \n",
       "Countries                                                       Thailand   \n",
       "Organizations          Department of Electrical Engineering,Wireless ...   \n",
       "Funding Agencies                                                     NaN   \n",
       "auth-keywords                                                        NaN   \n",
       "dc:description         This paper presents the development of a flexi...   \n",
       "prism:volume                                                 2018-August   \n",
       "prism:issn                                             19317360 15599450   \n",
       "publishercopyright     © 2018 The Institute of Electronics, Informati...   \n",
       "article-number                                                   8597669   \n",
       "pii                                                                  NaN   \n",
       "pubmed-id                                                            NaN   \n",
       "prism:issueIdentifier                                                NaN   \n",
       "year                                                                2018   \n",
       "\n",
       "                                                                   2      \\\n",
       "srctype                                                                j   \n",
       "eid                                                   2-s2.0-85052201238   \n",
       "prism:coverDate                                               2018-12-31   \n",
       "prism:aggregationType                                            Journal   \n",
       "prism:url              https://api.elsevier.com/content/abstract/scop...   \n",
       "subtypeDescription                                               Article   \n",
       "prism:isbn                                                           NaN   \n",
       "prism:publicationName                       Chemical Engineering Science   \n",
       "source-id                                                          16413   \n",
       "citedby-count                                                       21.0   \n",
       "subtype                                                               ar   \n",
       "prism:pageRange                                                1041-1057   \n",
       "dc:title               Parametric study of hydrogen production via so...   \n",
       "prism:endingPage                                                    1057   \n",
       "openaccess                                                           0.0   \n",
       "openaccessFlag                                                     False   \n",
       "prism:doi                                      10.1016/j.ces.2018.08.042   \n",
       "prism:startingPage                                                  1041   \n",
       "dc:identifier                                      SCOPUS_ID:85052201238   \n",
       "dc:publisher                                                Elsevier Ltd   \n",
       "creator_given_name                                           Kiattikhoon   \n",
       "creator_surname                                                Phuakpunk   \n",
       "creator_auid                                                 57202924002   \n",
       "link_self              https://api.elsevier.com/content/abstract/scop...   \n",
       "link_scopus            https://www.scopus.com/inward/record.uri?partn...   \n",
       "Countries                   Thailand,Thailand,Thailand,Thailand,Thailand   \n",
       "Organizations          Center of Excellence in Catalysis and Catalyti...   \n",
       "Funding Agencies       Center of Excellence in Catalysis and Catalyti...   \n",
       "auth-keywords          Circulating fluidized bed,Computational fluid ...   \n",
       "dc:description         Computational fluid dynamics was applied for s...   \n",
       "prism:volume                                                         192   \n",
       "prism:issn                                                      00092509   \n",
       "publishercopyright                                   © 2018 Elsevier Ltd   \n",
       "article-number                                                       NaN   \n",
       "pii                                                    S0009250918306183   \n",
       "pubmed-id                                                            NaN   \n",
       "prism:issueIdentifier                                                NaN   \n",
       "year                                                                2018   \n",
       "\n",
       "                                                                   3      \\\n",
       "srctype                                                                j   \n",
       "eid                                                   2-s2.0-85051498032   \n",
       "prism:coverDate                                               2018-12-31   \n",
       "prism:aggregationType                                            Journal   \n",
       "prism:url              https://api.elsevier.com/content/abstract/scop...   \n",
       "subtypeDescription                                               Article   \n",
       "prism:isbn                                                           NaN   \n",
       "prism:publicationName                            Applied Surface Science   \n",
       "source-id                                                          28983   \n",
       "citedby-count                                                       37.0   \n",
       "subtype                                                               ar   \n",
       "prism:pageRange                                                  164-174   \n",
       "dc:title               Superhydrophobic coating from fluoroalkylsilan...   \n",
       "prism:endingPage                                                     174   \n",
       "openaccess                                                           0.0   \n",
       "openaccessFlag                                                     False   \n",
       "prism:doi                                   10.1016/j.apsusc.2018.08.059   \n",
       "prism:startingPage                                                   164   \n",
       "dc:identifier                                      SCOPUS_ID:85051498032   \n",
       "dc:publisher                                               Elsevier B.V.   \n",
       "creator_given_name                                            Jittraporn   \n",
       "creator_surname                                                Saengkaew   \n",
       "creator_auid                                                 57203385584   \n",
       "link_self              https://api.elsevier.com/content/abstract/scop...   \n",
       "link_scopus            https://www.scopus.com/inward/record.uri?partn...   \n",
       "Countries                Thailand,Japan,Japan,Thailand,Thailand,Thailand   \n",
       "Organizations          Department of Chemistry,Faculty of Science and...   \n",
       "Funding Agencies       Center of Scientific Equipment for Advanced Sc...   \n",
       "auth-keywords          Encapsulation,Fluoroalkylsilane,Natural rubber...   \n",
       "dc:description         A superhydrophobic/superoleophilic mesh was su...   \n",
       "prism:volume                                                         462   \n",
       "prism:issn                                                      01694332   \n",
       "publishercopyright                                  © 2018 Elsevier B.V.   \n",
       "article-number                                                       NaN   \n",
       "pii                                                    S0169433218321792   \n",
       "pubmed-id                                                            NaN   \n",
       "prism:issueIdentifier                                                NaN   \n",
       "year                                                                2018   \n",
       "\n",
       "                                                                   4      \\\n",
       "srctype                                                                j   \n",
       "eid                                                   2-s2.0-85050678366   \n",
       "prism:coverDate                                               2018-12-31   \n",
       "prism:aggregationType                                            Journal   \n",
       "prism:url              https://api.elsevier.com/content/abstract/scop...   \n",
       "subtypeDescription                                               Article   \n",
       "prism:isbn                                                           NaN   \n",
       "prism:publicationName                             Analytica Chimica Acta   \n",
       "source-id                                                          23911   \n",
       "citedby-count                                                       68.0   \n",
       "subtype                                                               ar   \n",
       "prism:pageRange                                                  102-109   \n",
       "dc:title               Electrochemical impedance-based DNA sensor usi...   \n",
       "prism:endingPage                                                     109   \n",
       "openaccess                                                           0.0   \n",
       "openaccessFlag                                                     False   \n",
       "prism:doi                                      10.1016/j.aca.2018.07.045   \n",
       "prism:startingPage                                                   102   \n",
       "dc:identifier                                      SCOPUS_ID:85050678366   \n",
       "dc:publisher                                               Elsevier B.V.   \n",
       "creator_given_name                                            Prinjaporn   \n",
       "creator_surname                                                  Teengam   \n",
       "creator_auid                                                 56524669400   \n",
       "link_self              https://api.elsevier.com/content/abstract/scop...   \n",
       "link_scopus            https://www.scopus.com/inward/record.uri?partn...   \n",
       "Countries              Thailand,Thailand,Thailand,Thailand,Thailand,U...   \n",
       "Organizations          Program in Petrochemistry,Faculty of Science,C...   \n",
       "Funding Agencies       Colorado State University,Chulalongkorn Univer...   \n",
       "auth-keywords          acpcPNA,Electrochemical impedance spectroscopy...   \n",
       "dc:description         A label-free electrochemical DNA sensor based ...   \n",
       "prism:volume                                                        1044   \n",
       "prism:issn                                             18734324 00032670   \n",
       "publishercopyright                                  © 2018 Elsevier B.V.   \n",
       "article-number                                                       NaN   \n",
       "pii                                                    S0003267018309097   \n",
       "pubmed-id                                                     30442390.0   \n",
       "prism:issueIdentifier                                                NaN   \n",
       "year                                                                2018   \n",
       "\n",
       "                                                                   5      \\\n",
       "srctype                                                                j   \n",
       "eid                                                   2-s2.0-85059846549   \n",
       "prism:coverDate                                               2018-12-30   \n",
       "prism:aggregationType                                            Journal   \n",
       "prism:url              https://api.elsevier.com/content/abstract/scop...   \n",
       "subtypeDescription                                               Article   \n",
       "prism:isbn                                                           NaN   \n",
       "prism:publicationName               Polish Journal of Management Studies   \n",
       "source-id                                                    21100326278   \n",
       "citedby-count                                                       15.0   \n",
       "subtype                                                               ar   \n",
       "prism:pageRange                                                  300-310   \n",
       "dc:title               Evaluation of outsourcing transportation contr...   \n",
       "prism:endingPage                                                     310   \n",
       "openaccess                                                           1.0   \n",
       "openaccessFlag                                                      True   \n",
       "prism:doi                                     10.17512/pjms.2018.18.2.24   \n",
       "prism:startingPage                                                   300   \n",
       "dc:identifier                                      SCOPUS_ID:85059846549   \n",
       "dc:publisher           Czestochowa University of Technologyajanas@adm...   \n",
       "creator_given_name                                               Siri-On   \n",
       "creator_surname                                                Setamanit   \n",
       "creator_auid                                                  6504603029   \n",
       "link_self              https://api.elsevier.com/content/abstract/scop...   \n",
       "link_scopus            https://www.scopus.com/inward/record.uri?partn...   \n",
       "Countries                                                       Thailand   \n",
       "Organizations          Chulalongkorn Business School,Chulalongkorn Un...   \n",
       "Funding Agencies                                                     NaN   \n",
       "auth-keywords          Design of experiment,Optimal fleet size,Outsou...   \n",
       "dc:description         This paper aims to develop an approach to iden...   \n",
       "prism:volume                                                          18   \n",
       "prism:issn                                                      20817452   \n",
       "publishercopyright     © 2018, Czestochowa University of Technology. ...   \n",
       "article-number                                                       NaN   \n",
       "pii                                                                  NaN   \n",
       "pubmed-id                                                            NaN   \n",
       "prism:issueIdentifier                                                  2   \n",
       "year                                                                2018   \n",
       "\n",
       "                                                                   6      \\\n",
       "srctype                                                                j   \n",
       "eid                                                   2-s2.0-85053455291   \n",
       "prism:coverDate                                               2018-12-30   \n",
       "prism:aggregationType                                            Journal   \n",
       "prism:url              https://api.elsevier.com/content/abstract/scop...   \n",
       "subtypeDescription                                               Article   \n",
       "prism:isbn                                                           NaN   \n",
       "prism:publicationName                                               Gene   \n",
       "source-id                                                          15636   \n",
       "citedby-count                                                       13.0   \n",
       "subtype                                                               ar   \n",
       "prism:pageRange                                                  377-381   \n",
       "dc:title               The phenotypic and mutational spectrum of Thai...   \n",
       "prism:endingPage                                                     381   \n",
       "openaccess                                                           0.0   \n",
       "openaccessFlag                                                     False   \n",
       "prism:doi                                     10.1016/j.gene.2018.09.026   \n",
       "prism:startingPage                                                   377   \n",
       "dc:identifier                                      SCOPUS_ID:85053455291   \n",
       "dc:publisher                                               Elsevier B.V.   \n",
       "creator_given_name                                              Voranush   \n",
       "creator_surname                                            Chongsrisawat   \n",
       "creator_auid                                                  7003640663   \n",
       "link_self              https://api.elsevier.com/content/abstract/scop...   \n",
       "link_scopus            https://www.scopus.com/inward/record.uri?partn...   \n",
       "Countries                                     Thailand,Thailand,Thailand   \n",
       "Organizations          Department of Pediatrics,Faculty of Medicine,C...   \n",
       "Funding Agencies       Chulalongkorn Academic Advancement,Thailand Re...   \n",
       "auth-keywords          Female,Hyperammonemia,Novel mutations,Ornithin...   \n",
       "dc:description         Ornithine transcarbamylase deficiency (OTCD) i...   \n",
       "prism:volume                                                         679   \n",
       "prism:issn                                             18790038 03781119   \n",
       "publishercopyright                                  © 2018 Elsevier B.V.   \n",
       "article-number                                                       NaN   \n",
       "pii                                                    S0378111918309855   \n",
       "pubmed-id                                                     30223008.0   \n",
       "prism:issueIdentifier                                                NaN   \n",
       "year                                                                2018   \n",
       "\n",
       "                                                                   7      \\\n",
       "srctype                                                                b   \n",
       "eid                                                   2-s2.0-85078621193   \n",
       "prism:coverDate                                               2018-12-28   \n",
       "prism:aggregationType                                               Book   \n",
       "prism:url              https://api.elsevier.com/content/abstract/scop...   \n",
       "subtypeDescription                                          Book Chapter   \n",
       "prism:isbn              [{'$': '9783319996844'}, {'$': '9783319996820'}]   \n",
       "prism:publicationName  Essentials of Interventional Cancer Pain Manag...   \n",
       "source-id                                                    21100958129   \n",
       "citedby-count                                                        0.0   \n",
       "subtype                                                               ch   \n",
       "prism:pageRange                                                  339-352   \n",
       "dc:title               External beam radiotherapy in the treatment of...   \n",
       "prism:endingPage                                                     352   \n",
       "openaccess                                                           0.0   \n",
       "openaccessFlag                                                     False   \n",
       "prism:doi                                   10.1007/978-3-319-99684-4_38   \n",
       "prism:startingPage                                                   339   \n",
       "dc:identifier                                      SCOPUS_ID:85078621193   \n",
       "dc:publisher                           Springer International Publishing   \n",
       "creator_given_name                                               Candice   \n",
       "creator_surname                                                Johnstone   \n",
       "creator_auid                                                 55821824800   \n",
       "link_self              https://api.elsevier.com/content/abstract/scop...   \n",
       "link_scopus            https://www.scopus.com/inward/record.uri?partn...   \n",
       "Countries                           United States,United States,Thailand   \n",
       "Organizations          Department of Radiation Oncology,Medical Colle...   \n",
       "Funding Agencies                                                     NaN   \n",
       "auth-keywords                                                        NaN   \n",
       "dc:description                                                       NaN   \n",
       "prism:volume                                                         NaN   \n",
       "prism:issn                                                           NaN   \n",
       "publishercopyright                                                   NaN   \n",
       "article-number                                                       NaN   \n",
       "pii                                                                  NaN   \n",
       "pubmed-id                                                            NaN   \n",
       "prism:issueIdentifier                                                NaN   \n",
       "year                                                                2018   \n",
       "\n",
       "                                                                   8      \\\n",
       "srctype                                                                p   \n",
       "eid                                                   2-s2.0-85061529820   \n",
       "prism:coverDate                                               2018-12-27   \n",
       "prism:aggregationType                              Conference Proceeding   \n",
       "prism:url              https://api.elsevier.com/content/abstract/scop...   \n",
       "subtypeDescription                                      Conference Paper   \n",
       "prism:isbn                                                 9781538676783   \n",
       "prism:publicationName  Proceedings of the 5th Asian Conference on Def...   \n",
       "source-id                                                    21100898525   \n",
       "citedby-count                                                       24.0   \n",
       "subtype                                                               cp   \n",
       "prism:pageRange                                                    50-55   \n",
       "dc:title               Predicting judicial decisions of criminal case...   \n",
       "prism:endingPage                                                      55   \n",
       "openaccess                                                           0.0   \n",
       "openaccessFlag                                                     False   \n",
       "prism:doi                                      10.1109/ACDT.2018.8592948   \n",
       "prism:startingPage                                                    50   \n",
       "dc:identifier                                      SCOPUS_ID:85061529820   \n",
       "dc:publisher           Institute of Electrical and Electronics Engine...   \n",
       "creator_given_name                                              Kankawin   \n",
       "creator_surname                                              Kowsrihawat   \n",
       "creator_auid                                                 56938866500   \n",
       "link_self              https://api.elsevier.com/content/abstract/scop...   \n",
       "link_scopus            https://www.scopus.com/inward/record.uri?partn...   \n",
       "Countries                                              Thailand,Thailand   \n",
       "Organizations          Department of Computer Engineering,Faculty of ...   \n",
       "Funding Agencies                                                     NaN   \n",
       "auth-keywords          Attention mechanism,Bi-directional GRU,crimina...   \n",
       "dc:description         Predicting court judgement has gained growing ...   \n",
       "prism:volume                                                         NaN   \n",
       "prism:issn                                                           NaN   \n",
       "publishercopyright                                          © 2018 IEEE.   \n",
       "article-number                                                   8592948   \n",
       "pii                                                                  NaN   \n",
       "pubmed-id                                                            NaN   \n",
       "prism:issueIdentifier                                                NaN   \n",
       "year                                                                2018   \n",
       "\n",
       "                                                                   9      ...  \\\n",
       "srctype                                                                j  ...   \n",
       "eid                                                   2-s2.0-85058878790  ...   \n",
       "prism:coverDate                                               2018-12-26  ...   \n",
       "prism:aggregationType                                            Journal  ...   \n",
       "prism:url              https://api.elsevier.com/content/abstract/scop...  ...   \n",
       "subtypeDescription                                               Article  ...   \n",
       "prism:isbn                                                           NaN  ...   \n",
       "prism:publicationName                                           Langmuir  ...   \n",
       "source-id                                                          26987  ...   \n",
       "citedby-count                                                        3.0  ...   \n",
       "subtype                                                               ar  ...   \n",
       "prism:pageRange                                              15820-15826  ...   \n",
       "dc:title               PH Variation as a Simple and Selective Pathway...  ...   \n",
       "prism:endingPage                                                   15826  ...   \n",
       "openaccess                                                           0.0  ...   \n",
       "openaccessFlag                                                     False  ...   \n",
       "prism:doi                                   10.1021/acs.langmuir.8b03443  ...   \n",
       "prism:startingPage                                                 15820  ...   \n",
       "dc:identifier                                      SCOPUS_ID:85058878790  ...   \n",
       "dc:publisher                    American Chemical Societyservice@acs.org  ...   \n",
       "creator_given_name                                             Chutamart  ...   \n",
       "creator_surname                                            Pitakchatwong  ...   \n",
       "creator_auid                                                 57193796935  ...   \n",
       "link_self              https://api.elsevier.com/content/abstract/scop...  ...   \n",
       "link_scopus            https://www.scopus.com/inward/record.uri?partn...  ...   \n",
       "Countries                                              Thailand,Thailand  ...   \n",
       "Organizations          Petroleum and Petrochemical College,Chulalongk...  ...   \n",
       "Funding Agencies       Center of Excellence on Petrochemical and Mate...  ...   \n",
       "auth-keywords                                                        NaN  ...   \n",
       "dc:description         The fabrication of polysaccharides to be nanop...  ...   \n",
       "prism:volume                                                          34  ...   \n",
       "prism:issn                                             15205827 07437463  ...   \n",
       "publishercopyright                     © 2018 American Chemical Society.  ...   \n",
       "article-number                                                       NaN  ...   \n",
       "pii                                                                  NaN  ...   \n",
       "pubmed-id                                                     30509073.0  ...   \n",
       "prism:issueIdentifier                                                 51  ...   \n",
       "year                                                                2018  ...   \n",
       "\n",
       "                                                                   20163  \\\n",
       "srctype                                                                j   \n",
       "eid                                                   2-s2.0-85118303218   \n",
       "prism:coverDate                                               2023-01-01   \n",
       "prism:aggregationType                                            Journal   \n",
       "prism:url              https://api.elsevier.com/content/abstract/scop...   \n",
       "subtypeDescription                                               Article   \n",
       "prism:isbn                                                           NaN   \n",
       "prism:publicationName            JDR Clinical and Translational Research   \n",
       "source-id                                                    21100869243   \n",
       "citedby-count                                                        0.0   \n",
       "subtype                                                               ar   \n",
       "prism:pageRange                                                    76-84   \n",
       "dc:title               Dentists’ Attitudes Toward Dental Implant Main...   \n",
       "prism:endingPage                                                      84   \n",
       "openaccess                                                           0.0   \n",
       "openaccessFlag                                                     False   \n",
       "prism:doi                                      10.1177/23800844211049405   \n",
       "prism:startingPage                                                    76   \n",
       "dc:identifier                                      SCOPUS_ID:85118303218   \n",
       "dc:publisher                                       SAGE Publications Ltd   \n",
       "creator_given_name                                                   NaN   \n",
       "creator_surname                                            Rudeejaraswan   \n",
       "creator_auid                                                 57318374800   \n",
       "link_self              https://api.elsevier.com/content/abstract/scop...   \n",
       "link_scopus            https://www.scopus.com/inward/record.uri?partn...   \n",
       "Countries                                       Thailand,Thailand,Sweden   \n",
       "Organizations          Department of Oral and Maxillofacial Surgery,F...   \n",
       "Funding Agencies                                                     NaN   \n",
       "auth-keywords          dental care,dental education,dental implantati...   \n",
       "dc:description         Introduction: As implant therapy is a widely a...   \n",
       "prism:volume                                                           8   \n",
       "prism:issn                                             23800852 23800844   \n",
       "publishercopyright     © International Association for Dental Researc...   \n",
       "article-number                                                       NaN   \n",
       "pii                                                                  NaN   \n",
       "pubmed-id                                                            NaN   \n",
       "prism:issueIdentifier                                                  1   \n",
       "year                                                                2023   \n",
       "\n",
       "                                                                   20164  \\\n",
       "srctype                                                                j   \n",
       "eid                                                   2-s2.0-85118233030   \n",
       "prism:coverDate                                               2023-01-01   \n",
       "prism:aggregationType                                            Journal   \n",
       "prism:url              https://api.elsevier.com/content/abstract/scop...   \n",
       "subtypeDescription                                               Article   \n",
       "prism:isbn                                                           NaN   \n",
       "prism:publicationName            IEEE Transactions on Services Computing   \n",
       "source-id                                                    18300156728   \n",
       "citedby-count                                                        4.0   \n",
       "subtype                                                               ar   \n",
       "prism:pageRange                                                  757-772   \n",
       "dc:title               Service Workflow: State-of-the-Art and Future ...   \n",
       "prism:endingPage                                                     772   \n",
       "openaccess                                                           1.0   \n",
       "openaccessFlag                                                      True   \n",
       "prism:doi                                       10.1109/TSC.2021.3121394   \n",
       "prism:startingPage                                                   757   \n",
       "dc:identifier                                      SCOPUS_ID:85118233030   \n",
       "dc:publisher           Institute of Electrical and Electronics Engine...   \n",
       "creator_given_name                                               Wattana   \n",
       "creator_surname                                            Viriyasitavat   \n",
       "creator_auid                                                 57224272289   \n",
       "link_self              https://api.elsevier.com/content/abstract/scop...   \n",
       "link_scopus            https://www.scopus.com/inward/record.uri?partn...   \n",
       "Countries                     Thailand,United States,India,United States   \n",
       "Organizations          Chulalongkorn University,Statistics,Old Domini...   \n",
       "Funding Agencies                                                     NaN   \n",
       "auth-keywords          Business process management,Internet-of-Things...   \n",
       "dc:description         Workflow is used to support and connect busine...   \n",
       "prism:volume                                                          16   \n",
       "prism:issn                                                      19391374   \n",
       "publishercopyright                                     © 2008-2012 IEEE.   \n",
       "article-number                                                       NaN   \n",
       "pii                                                                  NaN   \n",
       "pubmed-id                                                            NaN   \n",
       "prism:issueIdentifier                                                  1   \n",
       "year                                                                2023   \n",
       "\n",
       "                                                                   20165  \\\n",
       "srctype                                                                j   \n",
       "eid                                                   2-s2.0-85115381484   \n",
       "prism:coverDate                                               2023-01-01   \n",
       "prism:aggregationType                                            Journal   \n",
       "prism:url              https://api.elsevier.com/content/abstract/scop...   \n",
       "subtypeDescription                                               Article   \n",
       "prism:isbn                                                           NaN   \n",
       "prism:publicationName                          Applied Economics Letters   \n",
       "source-id                                                          18769   \n",
       "citedby-count                                                        1.0   \n",
       "subtype                                                               ar   \n",
       "prism:pageRange                                                  275-279   \n",
       "dc:title               Investment tax incentives and firm productivit...   \n",
       "prism:endingPage                                                     279   \n",
       "openaccess                                                           0.0   \n",
       "openaccessFlag                                                     False   \n",
       "prism:doi                                  10.1080/13504851.2021.1983135   \n",
       "prism:startingPage                                                   275   \n",
       "dc:identifier                                      SCOPUS_ID:85115381484   \n",
       "dc:publisher                                                   Routledge   \n",
       "creator_given_name                                              Athiphat   \n",
       "creator_surname                                           Muthitacharoen   \n",
       "creator_auid                                                  6508047023   \n",
       "link_self              https://api.elsevier.com/content/abstract/scop...   \n",
       "link_scopus            https://www.scopus.com/inward/record.uri?partn...   \n",
       "Countries                                                       Thailand   \n",
       "Organizations              Faculty of Economics,Chulalongkorn University   \n",
       "Funding Agencies                                  Thailand Research Fund   \n",
       "auth-keywords          competition,developing country,productivity,Ta...   \n",
       "dc:description         Developing countries often employ tax incentiv...   \n",
       "prism:volume                                                          30   \n",
       "prism:issn                                             14664291 13504851   \n",
       "publishercopyright     © 2021 Informa UK Limited, trading as Taylor &...   \n",
       "article-number                                                       NaN   \n",
       "pii                                                                  NaN   \n",
       "pubmed-id                                                            NaN   \n",
       "prism:issueIdentifier                                                  3   \n",
       "year                                                                2023   \n",
       "\n",
       "                                                                   20166  \\\n",
       "srctype                                                                j   \n",
       "eid                                                   2-s2.0-85112113039   \n",
       "prism:coverDate                                               2023-01-01   \n",
       "prism:aggregationType                                            Journal   \n",
       "prism:url              https://api.elsevier.com/content/abstract/scop...   \n",
       "subtypeDescription                                               Article   \n",
       "prism:isbn                                                           NaN   \n",
       "prism:publicationName   International Journal of Construction Management   \n",
       "source-id                                                    18800156713   \n",
       "citedby-count                                                        5.0   \n",
       "subtype                                                               ar   \n",
       "prism:pageRange                                                1148-1162   \n",
       "dc:title               RSIAM risk profile for managing risk factors o...   \n",
       "prism:endingPage                                                    1162   \n",
       "openaccess                                                           0.0   \n",
       "openaccessFlag                                                     False   \n",
       "prism:doi                                  10.1080/15623599.2021.1957753   \n",
       "prism:startingPage                                                  1148   \n",
       "dc:identifier                                      SCOPUS_ID:85112113039   \n",
       "dc:publisher                                     Taylor and Francis Ltd.   \n",
       "creator_given_name                                               Sy Tien   \n",
       "creator_surname                                                       Do   \n",
       "creator_auid                                                 57220520498   \n",
       "link_self              https://api.elsevier.com/content/abstract/scop...   \n",
       "link_scopus            https://www.scopus.com/inward/record.uri?partn...   \n",
       "Countries                            Viet Nam,Viet Nam,Viet Nam,Thailand   \n",
       "Organizations          Faculty of Civil Engineering,Ho Chi Minh City ...   \n",
       "Funding Agencies                                                 VNU-HCM   \n",
       "auth-keywords          construction projects,international constructi...   \n",
       "dc:description         The international construction joint venture (...   \n",
       "prism:volume                                                          23   \n",
       "prism:issn                                                      15623599   \n",
       "publishercopyright     © 2021 Informa UK Limited, trading as Taylor &...   \n",
       "article-number                                                       NaN   \n",
       "pii                                                                  NaN   \n",
       "pubmed-id                                                            NaN   \n",
       "prism:issueIdentifier                                                  7   \n",
       "year                                                                2023   \n",
       "\n",
       "                                                                   20167  \\\n",
       "srctype                                                                j   \n",
       "eid                                                   2-s2.0-85111945558   \n",
       "prism:coverDate                                               2023-01-01   \n",
       "prism:aggregationType                                            Journal   \n",
       "prism:url              https://api.elsevier.com/content/abstract/scop...   \n",
       "subtypeDescription                                               Article   \n",
       "prism:isbn                                                           NaN   \n",
       "prism:publicationName                                    Catalysis Today   \n",
       "source-id                                                          16377   \n",
       "citedby-count                                                        3.0   \n",
       "subtype                                                               ar   \n",
       "prism:pageRange                                                  260-273   \n",
       "dc:title               Long-chain bio-olefins production via oxidativ...   \n",
       "prism:endingPage                                                     273   \n",
       "openaccess                                                           0.0   \n",
       "openaccessFlag                                                     False   \n",
       "prism:doi                                   10.1016/j.cattod.2021.07.034   \n",
       "prism:startingPage                                                   260   \n",
       "dc:identifier                                      SCOPUS_ID:85111945558   \n",
       "dc:publisher                                               Elsevier B.V.   \n",
       "creator_given_name                                                   Duy   \n",
       "creator_surname                                                       Le   \n",
       "creator_auid                                                 57190429582   \n",
       "link_self              https://api.elsevier.com/content/abstract/scop...   \n",
       "link_scopus            https://www.scopus.com/inward/record.uri?partn...   \n",
       "Countries                   Thailand,Thailand,Thailand,Thailand,Thailand   \n",
       "Organizations          Department of Chemical Technology,Faculty of S...   \n",
       "Funding Agencies       Program Management Unit for Human Resources & ...   \n",
       "auth-keywords          Long-chain olefins,Mesoporous KIT-6,Oleic acid...   \n",
       "dc:description         Long-chain α-olefins (≥ C10) are normally appl...   \n",
       "prism:volume                                                         407   \n",
       "prism:issn                                                      09205861   \n",
       "publishercopyright                                  © 2021 Elsevier B.V.   \n",
       "article-number                                                       NaN   \n",
       "pii                                                    S0920586121003497   \n",
       "pubmed-id                                                            NaN   \n",
       "prism:issueIdentifier                                                NaN   \n",
       "year                                                                2023   \n",
       "\n",
       "                                                                   20168  \\\n",
       "srctype                                                                j   \n",
       "eid                                                   2-s2.0-85111408415   \n",
       "prism:coverDate                                               2023-01-01   \n",
       "prism:aggregationType                                            Journal   \n",
       "prism:url              https://api.elsevier.com/content/abstract/scop...   \n",
       "subtypeDescription                                                Review   \n",
       "prism:isbn                                                           NaN   \n",
       "prism:publicationName           Critical Reviews in Analytical Chemistry   \n",
       "source-id                                                          23973   \n",
       "citedby-count                                                       11.0   \n",
       "subtype                                                               re   \n",
       "prism:pageRange                                                  233-252   \n",
       "dc:title               Recent Developments and Applications of Microf...   \n",
       "prism:endingPage                                                     252   \n",
       "openaccess                                                           0.0   \n",
       "openaccessFlag                                                     False   \n",
       "prism:doi                                  10.1080/10408347.2021.1949695   \n",
       "prism:startingPage                                                   233   \n",
       "dc:identifier                                      SCOPUS_ID:85111408415   \n",
       "dc:publisher                                     Taylor and Francis Ltd.   \n",
       "creator_given_name                                                Waleed   \n",
       "creator_surname                                                  Alahmad   \n",
       "creator_auid                                                 57190164722   \n",
       "link_self              https://api.elsevier.com/content/abstract/scop...   \n",
       "link_scopus            https://www.scopus.com/inward/record.uri?partn...   \n",
       "Countries                                                       Thailand   \n",
       "Organizations          Department of Chemistry,Faculty of Science,Chu...   \n",
       "Funding Agencies                                Chulalongkorn University   \n",
       "auth-keywords          Biological hazards,chemical hazards,food conta...   \n",
       "dc:description         Nowadays, food safety has become a major conce...   \n",
       "prism:volume                                                          53   \n",
       "prism:issn                                             15476510 10408347   \n",
       "publishercopyright                   © 2021 Taylor & Francis Group, LLC.   \n",
       "article-number                                                       NaN   \n",
       "pii                                                                  NaN   \n",
       "pubmed-id                                                     34304654.0   \n",
       "prism:issueIdentifier                                                  2   \n",
       "year                                                                2023   \n",
       "\n",
       "                                                                   20169  \\\n",
       "srctype                                                                j   \n",
       "eid                                                   2-s2.0-85110903700   \n",
       "prism:coverDate                                               2023-01-01   \n",
       "prism:aggregationType                                            Journal   \n",
       "prism:url              https://api.elsevier.com/content/abstract/scop...   \n",
       "subtypeDescription                                               Article   \n",
       "prism:isbn                                                           NaN   \n",
       "prism:publicationName                                            Compare   \n",
       "source-id                                                          12860   \n",
       "citedby-count                                                        5.0   \n",
       "subtype                                                               ar   \n",
       "prism:pageRange                                                  710-727   \n",
       "dc:title               Social justice, education and peacebuilding: c...   \n",
       "prism:endingPage                                                     727   \n",
       "openaccess                                                           1.0   \n",
       "openaccessFlag                                                      True   \n",
       "prism:doi                                  10.1080/03057925.2021.1951666   \n",
       "prism:startingPage                                                   710   \n",
       "dc:identifier                                      SCOPUS_ID:85110903700   \n",
       "dc:publisher                                                   Routledge   \n",
       "creator_given_name                                              Tejendra   \n",
       "creator_surname                                                  Pherali   \n",
       "creator_auid                                                 36931205600   \n",
       "link_self              https://api.elsevier.com/content/abstract/scop...   \n",
       "link_scopus            https://www.scopus.com/inward/record.uri?partn...   \n",
       "Countries                                        United Kingdom,Thailand   \n",
       "Organizations          Centre for Education and International Develop...   \n",
       "Funding Agencies               Chawin Pongpajon,Chulalongkorn University   \n",
       "auth-keywords          conflict,Education,peacebuilding,social justic...   \n",
       "dc:description         Education is increasingly becoming central to ...   \n",
       "prism:volume                                                          53   \n",
       "prism:issn                                             14693623 03057925   \n",
       "publishercopyright     © 2021 The Author(s). Published by Informa UK ...   \n",
       "article-number                                                       NaN   \n",
       "pii                                                                  NaN   \n",
       "pubmed-id                                                            NaN   \n",
       "prism:issueIdentifier                                                  4   \n",
       "year                                                                2023   \n",
       "\n",
       "                                                                   20170  \\\n",
       "srctype                                                                j   \n",
       "eid                                                   2-s2.0-85106740832   \n",
       "prism:coverDate                                               2023-01-01   \n",
       "prism:aggregationType                                            Journal   \n",
       "prism:url              https://api.elsevier.com/content/abstract/scop...   \n",
       "subtypeDescription                                               Article   \n",
       "prism:isbn                                                           NaN   \n",
       "prism:publicationName                     Journal of Applied Aquaculture   \n",
       "source-id                                                          13512   \n",
       "citedby-count                                                        6.0   \n",
       "subtype                                                               ar   \n",
       "prism:pageRange                                                     1-15   \n",
       "dc:title               Effects of black soldier fly (Hermetia illucen...   \n",
       "prism:endingPage                                                      15   \n",
       "openaccess                                                           0.0   \n",
       "openaccessFlag                                                     False   \n",
       "prism:doi                                  10.1080/10454438.2021.1923609   \n",
       "prism:startingPage                                                     1   \n",
       "dc:identifier                                      SCOPUS_ID:85106740832   \n",
       "dc:publisher                                     Taylor and Francis Ltd.   \n",
       "creator_given_name                                         Ratchaneegorn   \n",
       "creator_surname                                                  Mapanao   \n",
       "creator_auid                                                 57190616745   \n",
       "link_self              https://api.elsevier.com/content/abstract/scop...   \n",
       "link_scopus            https://www.scopus.com/inward/record.uri?partn...   \n",
       "Countries                                              Thailand,Thailand   \n",
       "Organizations          Program of Fisheries Science,Faculty of Interd...   \n",
       "Funding Agencies                                    Khon Kaen University   \n",
       "auth-keywords          Anabas testudineus,Black soldier fly,fish meal...   \n",
       "dc:description         The effects of replacing fish meal protein wit...   \n",
       "prism:volume                                                          35   \n",
       "prism:issn                                             15450805 10454438   \n",
       "publishercopyright                              © 2021 Taylor & Francis.   \n",
       "article-number                                                       NaN   \n",
       "pii                                                                  NaN   \n",
       "pubmed-id                                                            NaN   \n",
       "prism:issueIdentifier                                                  1   \n",
       "year                                                                2023   \n",
       "\n",
       "                                                                   20171  \\\n",
       "srctype                                                                j   \n",
       "eid                                                   2-s2.0-85106046890   \n",
       "prism:coverDate                                               2023-01-01   \n",
       "prism:aggregationType                                            Journal   \n",
       "prism:url              https://api.elsevier.com/content/abstract/scop...   \n",
       "subtypeDescription                                               Article   \n",
       "prism:isbn                                                           NaN   \n",
       "prism:publicationName                Journal of the Asia Pacific Economy   \n",
       "source-id                                                          22754   \n",
       "citedby-count                                                        3.0   \n",
       "subtype                                                               ar   \n",
       "prism:pageRange                                                  502-526   \n",
       "dc:title               Effects of remittances on household poverty an...   \n",
       "prism:endingPage                                                     526   \n",
       "openaccess                                                           0.0   \n",
       "openaccessFlag                                                     False   \n",
       "prism:doi                                  10.1080/13547860.2021.1905200   \n",
       "prism:startingPage                                                   502   \n",
       "dc:identifier                                      SCOPUS_ID:85106046890   \n",
       "dc:publisher                                                   Routledge   \n",
       "creator_given_name                                                Vatana   \n",
       "creator_surname                                                     Chea   \n",
       "creator_auid                                                 57223009056   \n",
       "link_self              https://api.elsevier.com/content/abstract/scop...   \n",
       "link_scopus            https://www.scopus.com/inward/record.uri?partn...   \n",
       "Countries                                              Cambodia,Thailand   \n",
       "Organizations          Faculty of Applied Science and Center for Prof...   \n",
       "Funding Agencies                                Chulalongkorn University   \n",
       "auth-keywords          Cambodia,consumption,expenditure,Impact,inequa...   \n",
       "dc:description         The author uses data from the Cambodia Socio-E...   \n",
       "prism:volume                                                          28   \n",
       "prism:issn                                             14699648 13547860   \n",
       "publishercopyright     © 2021 Informa UK Limited, trading as Taylor &...   \n",
       "article-number                                                       NaN   \n",
       "pii                                                                  NaN   \n",
       "pubmed-id                                                            NaN   \n",
       "prism:issueIdentifier                                                  2   \n",
       "year                                                                2023   \n",
       "\n",
       "                                                                   20172  \n",
       "srctype                                                                j  \n",
       "eid                                                   2-s2.0-85170238281  \n",
       "prism:coverDate                                               2023-12-31  \n",
       "prism:aggregationType                                            Journal  \n",
       "prism:url              https://api.elsevier.com/content/abstract/scop...  \n",
       "subtypeDescription                                               Article  \n",
       "prism:isbn                                                           NaN  \n",
       "prism:publicationName  International Journal of Biological Macromolec...  \n",
       "source-id                                                          17544  \n",
       "citedby-count                                                        0.0  \n",
       "subtype                                                               ar  \n",
       "prism:pageRange                                                      NaN  \n",
       "dc:title               Graphene oxide-alginate hydrogel-based indicat...  \n",
       "prism:endingPage                                                     NaN  \n",
       "openaccess                                                           0.0  \n",
       "openaccessFlag                                                     False  \n",
       "prism:doi                                 10.1016/j.ijbiomac.2023.126316  \n",
       "prism:startingPage                                                   NaN  \n",
       "dc:identifier                                      SCOPUS_ID:85170238281  \n",
       "dc:publisher                                               Elsevier B.V.  \n",
       "creator_given_name                                             Siraprapa  \n",
       "creator_surname                                               Boobphahom  \n",
       "creator_auid                                                 57204796013  \n",
       "link_self              https://api.elsevier.com/content/abstract/scop...  \n",
       "link_scopus            https://www.scopus.com/inward/record.uri?partn...  \n",
       "Countries                                     Thailand,Thailand,Thailand  \n",
       "Organizations          Metallurgy and Materials Science Research Inst...  \n",
       "Funding Agencies       NSRF,Chulalongkorn University,Thailand Science...  \n",
       "auth-keywords          Alzheimer's disease,Hydrogel colorimetric sens...  \n",
       "dc:description         Pyrocatechol violet/copper ion-graphene oxide/...  \n",
       "prism:volume                                                         253  \n",
       "prism:issn                                             18790003 01418130  \n",
       "publishercopyright                                  © 2023 Elsevier B.V.  \n",
       "article-number                                                    126316  \n",
       "pii                                                    S0141813023032129  \n",
       "pubmed-id                                                     37633552.0  \n",
       "prism:issueIdentifier                                                NaN  \n",
       "year                                                                2023  \n",
       "\n",
       "[38 rows x 20173 columns]"
      ]
     },
     "execution_count": 4,
     "metadata": {},
     "output_type": "execute_result"
    }
   ],
   "source": [
    "df.T"
   ]
  },
  {
   "cell_type": "code",
   "execution_count": 5,
   "metadata": {},
   "outputs": [
    {
     "name": "stdout",
     "output_type": "stream",
     "text": [
      "<class 'pandas.core.frame.DataFrame'>\n",
      "RangeIndex: 20173 entries, 0 to 20172\n",
      "Data columns (total 38 columns):\n",
      " #   Column                 Non-Null Count  Dtype  \n",
      "---  ------                 --------------  -----  \n",
      " 0   srctype                20173 non-null  object \n",
      " 1   eid                    20173 non-null  object \n",
      " 2   prism:coverDate        20173 non-null  object \n",
      " 3   prism:aggregationType  20173 non-null  object \n",
      " 4   prism:url              20173 non-null  object \n",
      " 5   subtypeDescription     20173 non-null  object \n",
      " 6   prism:isbn             1648 non-null   object \n",
      " 7   prism:publicationName  20173 non-null  object \n",
      " 8   source-id              20173 non-null  int64  \n",
      " 9   citedby-count          20169 non-null  float64\n",
      " 10  subtype                20173 non-null  object \n",
      " 11  prism:pageRange        12052 non-null  object \n",
      " 12  dc:title               20172 non-null  object \n",
      " 13  prism:endingPage       12052 non-null  object \n",
      " 14  openaccess             18509 non-null  float64\n",
      " 15  openaccessFlag         17702 non-null  object \n",
      " 16  prism:doi              18994 non-null  object \n",
      " 17  prism:startingPage     12225 non-null  object \n",
      " 18  dc:identifier          20173 non-null  object \n",
      " 19  dc:publisher           20162 non-null  object \n",
      " 20  creator_given_name     18689 non-null  object \n",
      " 21  creator_surname        20173 non-null  object \n",
      " 22  creator_auid           20173 non-null  int64  \n",
      " 23  link_self              20173 non-null  object \n",
      " 24  link_scopus            20173 non-null  object \n",
      " 25  Countries              20140 non-null  object \n",
      " 26  Organizations          20151 non-null  object \n",
      " 27  Funding Agencies       13902 non-null  object \n",
      " 28  auth-keywords          16411 non-null  object \n",
      " 29  dc:description         19510 non-null  object \n",
      " 30  prism:volume           18465 non-null  object \n",
      " 31  prism:issn             18892 non-null  object \n",
      " 32  publishercopyright     19438 non-null  object \n",
      " 33  article-number         7805 non-null   object \n",
      " 34  pii                    4480 non-null   object \n",
      " 35  pubmed-id              7107 non-null   float64\n",
      " 36  prism:issueIdentifier  13479 non-null  object \n",
      " 37  year                   20173 non-null  int64  \n",
      "dtypes: float64(3), int64(3), object(32)\n",
      "memory usage: 5.8+ MB\n"
     ]
    }
   ],
   "source": [
    "import pandas as pd\n",
    "\n",
    "# Load the uploaded CSV file to inspect its structure and contents\n",
    "file_path = 'dataset/updated_with_year.csv'\n",
    "data = pd.read_csv(file_path)\n",
    "data.info()\n"
   ]
  },
  {
   "cell_type": "code",
   "execution_count": 6,
   "metadata": {},
   "outputs": [
    {
     "name": "stdout",
     "output_type": "stream",
     "text": [
      "Index(['Journal of High Ener...', 'Scientific Reports',\n",
      "       'Physics Letters, Sec...', 'European Physical Jo...',\n",
      "       'Physical Review Lett...', 'Physical Review D',\n",
      "       'Asian Pacific Journa...', 'PLoS ONE', 'International Journa...',\n",
      "       'Molecular Neurobiolo...'],\n",
      "      dtype='object', name='prism:publicationName')\n"
     ]
    },
    {
     "data": {
      "application/vnd.plotly.v1+json": {
       "config": {
        "plotlyServerURL": "https://plot.ly"
       },
       "data": [
        {
         "alignmentgroup": "True",
         "hovertemplate": "prism:publicationName=%{x}<br>Total Citations=%{y}<extra></extra>",
         "legendgroup": "Journal of High Ener...",
         "marker": {
          "color": "skyblue",
          "pattern": {
           "shape": ""
          }
         },
         "name": "Journal of High Ener...",
         "offsetgroup": "Journal of High Ener...",
         "orientation": "v",
         "showlegend": true,
         "textposition": "auto",
         "type": "bar",
         "x": [
          "Journal of High Ener..."
         ],
         "xaxis": "x",
         "y": [
          5887
         ],
         "yaxis": "y"
        },
        {
         "alignmentgroup": "True",
         "hovertemplate": "prism:publicationName=%{x}<br>Total Citations=%{y}<extra></extra>",
         "legendgroup": "Scientific Reports",
         "marker": {
          "color": "skyblue",
          "pattern": {
           "shape": ""
          }
         },
         "name": "Scientific Reports",
         "offsetgroup": "Scientific Reports",
         "orientation": "v",
         "showlegend": true,
         "textposition": "auto",
         "type": "bar",
         "x": [
          "Scientific Reports"
         ],
         "xaxis": "x",
         "y": [
          4409
         ],
         "yaxis": "y"
        },
        {
         "alignmentgroup": "True",
         "hovertemplate": "prism:publicationName=%{x}<br>Total Citations=%{y}<extra></extra>",
         "legendgroup": "Physics Letters, Sec...",
         "marker": {
          "color": "skyblue",
          "pattern": {
           "shape": ""
          }
         },
         "name": "Physics Letters, Sec...",
         "offsetgroup": "Physics Letters, Sec...",
         "orientation": "v",
         "showlegend": true,
         "textposition": "auto",
         "type": "bar",
         "x": [
          "Physics Letters, Sec..."
         ],
         "xaxis": "x",
         "y": [
          3570
         ],
         "yaxis": "y"
        },
        {
         "alignmentgroup": "True",
         "hovertemplate": "prism:publicationName=%{x}<br>Total Citations=%{y}<extra></extra>",
         "legendgroup": "European Physical Jo...",
         "marker": {
          "color": "skyblue",
          "pattern": {
           "shape": ""
          }
         },
         "name": "European Physical Jo...",
         "offsetgroup": "European Physical Jo...",
         "orientation": "v",
         "showlegend": true,
         "textposition": "auto",
         "type": "bar",
         "x": [
          "European Physical Jo..."
         ],
         "xaxis": "x",
         "y": [
          2790
         ],
         "yaxis": "y"
        },
        {
         "alignmentgroup": "True",
         "hovertemplate": "prism:publicationName=%{x}<br>Total Citations=%{y}<extra></extra>",
         "legendgroup": "Physical Review Lett...",
         "marker": {
          "color": "skyblue",
          "pattern": {
           "shape": ""
          }
         },
         "name": "Physical Review Lett...",
         "offsetgroup": "Physical Review Lett...",
         "orientation": "v",
         "showlegend": true,
         "textposition": "auto",
         "type": "bar",
         "x": [
          "Physical Review Lett..."
         ],
         "xaxis": "x",
         "y": [
          2418
         ],
         "yaxis": "y"
        },
        {
         "alignmentgroup": "True",
         "hovertemplate": "prism:publicationName=%{x}<br>Total Citations=%{y}<extra></extra>",
         "legendgroup": "Physical Review D",
         "marker": {
          "color": "skyblue",
          "pattern": {
           "shape": ""
          }
         },
         "name": "Physical Review D",
         "offsetgroup": "Physical Review D",
         "orientation": "v",
         "showlegend": true,
         "textposition": "auto",
         "type": "bar",
         "x": [
          "Physical Review D"
         ],
         "xaxis": "x",
         "y": [
          2075
         ],
         "yaxis": "y"
        },
        {
         "alignmentgroup": "True",
         "hovertemplate": "prism:publicationName=%{x}<br>Total Citations=%{y}<extra></extra>",
         "legendgroup": "Asian Pacific Journa...",
         "marker": {
          "color": "skyblue",
          "pattern": {
           "shape": ""
          }
         },
         "name": "Asian Pacific Journa...",
         "offsetgroup": "Asian Pacific Journa...",
         "orientation": "v",
         "showlegend": true,
         "textposition": "auto",
         "type": "bar",
         "x": [
          "Asian Pacific Journa..."
         ],
         "xaxis": "x",
         "y": [
          1864
         ],
         "yaxis": "y"
        },
        {
         "alignmentgroup": "True",
         "hovertemplate": "prism:publicationName=%{x}<br>Total Citations=%{y}<extra></extra>",
         "legendgroup": "PLoS ONE",
         "marker": {
          "color": "skyblue",
          "pattern": {
           "shape": ""
          }
         },
         "name": "PLoS ONE",
         "offsetgroup": "PLoS ONE",
         "orientation": "v",
         "showlegend": true,
         "textposition": "auto",
         "type": "bar",
         "x": [
          "PLoS ONE"
         ],
         "xaxis": "x",
         "y": [
          1793
         ],
         "yaxis": "y"
        },
        {
         "alignmentgroup": "True",
         "hovertemplate": "prism:publicationName=%{x}<br>Total Citations=%{y}<extra></extra>",
         "legendgroup": "International Journa...",
         "marker": {
          "color": "skyblue",
          "pattern": {
           "shape": ""
          }
         },
         "name": "International Journa...",
         "offsetgroup": "International Journa...",
         "orientation": "v",
         "showlegend": true,
         "textposition": "auto",
         "type": "bar",
         "x": [
          "International Journa..."
         ],
         "xaxis": "x",
         "y": [
          1629
         ],
         "yaxis": "y"
        },
        {
         "alignmentgroup": "True",
         "hovertemplate": "prism:publicationName=%{x}<br>Total Citations=%{y}<extra></extra>",
         "legendgroup": "Molecular Neurobiolo...",
         "marker": {
          "color": "skyblue",
          "pattern": {
           "shape": ""
          }
         },
         "name": "Molecular Neurobiolo...",
         "offsetgroup": "Molecular Neurobiolo...",
         "orientation": "v",
         "showlegend": true,
         "textposition": "auto",
         "type": "bar",
         "x": [
          "Molecular Neurobiolo..."
         ],
         "xaxis": "x",
         "y": [
          1466
         ],
         "yaxis": "y"
        }
       ],
       "layout": {
        "barmode": "relative",
        "legend": {
         "title": {
          "text": "prism:publicationName"
         },
         "tracegroupgap": 0
        },
        "template": {
         "data": {
          "bar": [
           {
            "error_x": {
             "color": "#2a3f5f"
            },
            "error_y": {
             "color": "#2a3f5f"
            },
            "marker": {
             "line": {
              "color": "#E5ECF6",
              "width": 0.5
             },
             "pattern": {
              "fillmode": "overlay",
              "size": 10,
              "solidity": 0.2
             }
            },
            "type": "bar"
           }
          ],
          "barpolar": [
           {
            "marker": {
             "line": {
              "color": "#E5ECF6",
              "width": 0.5
             },
             "pattern": {
              "fillmode": "overlay",
              "size": 10,
              "solidity": 0.2
             }
            },
            "type": "barpolar"
           }
          ],
          "carpet": [
           {
            "aaxis": {
             "endlinecolor": "#2a3f5f",
             "gridcolor": "white",
             "linecolor": "white",
             "minorgridcolor": "white",
             "startlinecolor": "#2a3f5f"
            },
            "baxis": {
             "endlinecolor": "#2a3f5f",
             "gridcolor": "white",
             "linecolor": "white",
             "minorgridcolor": "white",
             "startlinecolor": "#2a3f5f"
            },
            "type": "carpet"
           }
          ],
          "choropleth": [
           {
            "colorbar": {
             "outlinewidth": 0,
             "ticks": ""
            },
            "type": "choropleth"
           }
          ],
          "contour": [
           {
            "colorbar": {
             "outlinewidth": 0,
             "ticks": ""
            },
            "colorscale": [
             [
              0,
              "#0d0887"
             ],
             [
              0.1111111111111111,
              "#46039f"
             ],
             [
              0.2222222222222222,
              "#7201a8"
             ],
             [
              0.3333333333333333,
              "#9c179e"
             ],
             [
              0.4444444444444444,
              "#bd3786"
             ],
             [
              0.5555555555555556,
              "#d8576b"
             ],
             [
              0.6666666666666666,
              "#ed7953"
             ],
             [
              0.7777777777777778,
              "#fb9f3a"
             ],
             [
              0.8888888888888888,
              "#fdca26"
             ],
             [
              1,
              "#f0f921"
             ]
            ],
            "type": "contour"
           }
          ],
          "contourcarpet": [
           {
            "colorbar": {
             "outlinewidth": 0,
             "ticks": ""
            },
            "type": "contourcarpet"
           }
          ],
          "heatmap": [
           {
            "colorbar": {
             "outlinewidth": 0,
             "ticks": ""
            },
            "colorscale": [
             [
              0,
              "#0d0887"
             ],
             [
              0.1111111111111111,
              "#46039f"
             ],
             [
              0.2222222222222222,
              "#7201a8"
             ],
             [
              0.3333333333333333,
              "#9c179e"
             ],
             [
              0.4444444444444444,
              "#bd3786"
             ],
             [
              0.5555555555555556,
              "#d8576b"
             ],
             [
              0.6666666666666666,
              "#ed7953"
             ],
             [
              0.7777777777777778,
              "#fb9f3a"
             ],
             [
              0.8888888888888888,
              "#fdca26"
             ],
             [
              1,
              "#f0f921"
             ]
            ],
            "type": "heatmap"
           }
          ],
          "heatmapgl": [
           {
            "colorbar": {
             "outlinewidth": 0,
             "ticks": ""
            },
            "colorscale": [
             [
              0,
              "#0d0887"
             ],
             [
              0.1111111111111111,
              "#46039f"
             ],
             [
              0.2222222222222222,
              "#7201a8"
             ],
             [
              0.3333333333333333,
              "#9c179e"
             ],
             [
              0.4444444444444444,
              "#bd3786"
             ],
             [
              0.5555555555555556,
              "#d8576b"
             ],
             [
              0.6666666666666666,
              "#ed7953"
             ],
             [
              0.7777777777777778,
              "#fb9f3a"
             ],
             [
              0.8888888888888888,
              "#fdca26"
             ],
             [
              1,
              "#f0f921"
             ]
            ],
            "type": "heatmapgl"
           }
          ],
          "histogram": [
           {
            "marker": {
             "pattern": {
              "fillmode": "overlay",
              "size": 10,
              "solidity": 0.2
             }
            },
            "type": "histogram"
           }
          ],
          "histogram2d": [
           {
            "colorbar": {
             "outlinewidth": 0,
             "ticks": ""
            },
            "colorscale": [
             [
              0,
              "#0d0887"
             ],
             [
              0.1111111111111111,
              "#46039f"
             ],
             [
              0.2222222222222222,
              "#7201a8"
             ],
             [
              0.3333333333333333,
              "#9c179e"
             ],
             [
              0.4444444444444444,
              "#bd3786"
             ],
             [
              0.5555555555555556,
              "#d8576b"
             ],
             [
              0.6666666666666666,
              "#ed7953"
             ],
             [
              0.7777777777777778,
              "#fb9f3a"
             ],
             [
              0.8888888888888888,
              "#fdca26"
             ],
             [
              1,
              "#f0f921"
             ]
            ],
            "type": "histogram2d"
           }
          ],
          "histogram2dcontour": [
           {
            "colorbar": {
             "outlinewidth": 0,
             "ticks": ""
            },
            "colorscale": [
             [
              0,
              "#0d0887"
             ],
             [
              0.1111111111111111,
              "#46039f"
             ],
             [
              0.2222222222222222,
              "#7201a8"
             ],
             [
              0.3333333333333333,
              "#9c179e"
             ],
             [
              0.4444444444444444,
              "#bd3786"
             ],
             [
              0.5555555555555556,
              "#d8576b"
             ],
             [
              0.6666666666666666,
              "#ed7953"
             ],
             [
              0.7777777777777778,
              "#fb9f3a"
             ],
             [
              0.8888888888888888,
              "#fdca26"
             ],
             [
              1,
              "#f0f921"
             ]
            ],
            "type": "histogram2dcontour"
           }
          ],
          "mesh3d": [
           {
            "colorbar": {
             "outlinewidth": 0,
             "ticks": ""
            },
            "type": "mesh3d"
           }
          ],
          "parcoords": [
           {
            "line": {
             "colorbar": {
              "outlinewidth": 0,
              "ticks": ""
             }
            },
            "type": "parcoords"
           }
          ],
          "pie": [
           {
            "automargin": true,
            "type": "pie"
           }
          ],
          "scatter": [
           {
            "fillpattern": {
             "fillmode": "overlay",
             "size": 10,
             "solidity": 0.2
            },
            "type": "scatter"
           }
          ],
          "scatter3d": [
           {
            "line": {
             "colorbar": {
              "outlinewidth": 0,
              "ticks": ""
             }
            },
            "marker": {
             "colorbar": {
              "outlinewidth": 0,
              "ticks": ""
             }
            },
            "type": "scatter3d"
           }
          ],
          "scattercarpet": [
           {
            "marker": {
             "colorbar": {
              "outlinewidth": 0,
              "ticks": ""
             }
            },
            "type": "scattercarpet"
           }
          ],
          "scattergeo": [
           {
            "marker": {
             "colorbar": {
              "outlinewidth": 0,
              "ticks": ""
             }
            },
            "type": "scattergeo"
           }
          ],
          "scattergl": [
           {
            "marker": {
             "colorbar": {
              "outlinewidth": 0,
              "ticks": ""
             }
            },
            "type": "scattergl"
           }
          ],
          "scattermapbox": [
           {
            "marker": {
             "colorbar": {
              "outlinewidth": 0,
              "ticks": ""
             }
            },
            "type": "scattermapbox"
           }
          ],
          "scatterpolar": [
           {
            "marker": {
             "colorbar": {
              "outlinewidth": 0,
              "ticks": ""
             }
            },
            "type": "scatterpolar"
           }
          ],
          "scatterpolargl": [
           {
            "marker": {
             "colorbar": {
              "outlinewidth": 0,
              "ticks": ""
             }
            },
            "type": "scatterpolargl"
           }
          ],
          "scatterternary": [
           {
            "marker": {
             "colorbar": {
              "outlinewidth": 0,
              "ticks": ""
             }
            },
            "type": "scatterternary"
           }
          ],
          "surface": [
           {
            "colorbar": {
             "outlinewidth": 0,
             "ticks": ""
            },
            "colorscale": [
             [
              0,
              "#0d0887"
             ],
             [
              0.1111111111111111,
              "#46039f"
             ],
             [
              0.2222222222222222,
              "#7201a8"
             ],
             [
              0.3333333333333333,
              "#9c179e"
             ],
             [
              0.4444444444444444,
              "#bd3786"
             ],
             [
              0.5555555555555556,
              "#d8576b"
             ],
             [
              0.6666666666666666,
              "#ed7953"
             ],
             [
              0.7777777777777778,
              "#fb9f3a"
             ],
             [
              0.8888888888888888,
              "#fdca26"
             ],
             [
              1,
              "#f0f921"
             ]
            ],
            "type": "surface"
           }
          ],
          "table": [
           {
            "cells": {
             "fill": {
              "color": "#EBF0F8"
             },
             "line": {
              "color": "white"
             }
            },
            "header": {
             "fill": {
              "color": "#C8D4E3"
             },
             "line": {
              "color": "white"
             }
            },
            "type": "table"
           }
          ]
         },
         "layout": {
          "annotationdefaults": {
           "arrowcolor": "#2a3f5f",
           "arrowhead": 0,
           "arrowwidth": 1
          },
          "autotypenumbers": "strict",
          "coloraxis": {
           "colorbar": {
            "outlinewidth": 0,
            "ticks": ""
           }
          },
          "colorscale": {
           "diverging": [
            [
             0,
             "#8e0152"
            ],
            [
             0.1,
             "#c51b7d"
            ],
            [
             0.2,
             "#de77ae"
            ],
            [
             0.3,
             "#f1b6da"
            ],
            [
             0.4,
             "#fde0ef"
            ],
            [
             0.5,
             "#f7f7f7"
            ],
            [
             0.6,
             "#e6f5d0"
            ],
            [
             0.7,
             "#b8e186"
            ],
            [
             0.8,
             "#7fbc41"
            ],
            [
             0.9,
             "#4d9221"
            ],
            [
             1,
             "#276419"
            ]
           ],
           "sequential": [
            [
             0,
             "#0d0887"
            ],
            [
             0.1111111111111111,
             "#46039f"
            ],
            [
             0.2222222222222222,
             "#7201a8"
            ],
            [
             0.3333333333333333,
             "#9c179e"
            ],
            [
             0.4444444444444444,
             "#bd3786"
            ],
            [
             0.5555555555555556,
             "#d8576b"
            ],
            [
             0.6666666666666666,
             "#ed7953"
            ],
            [
             0.7777777777777778,
             "#fb9f3a"
            ],
            [
             0.8888888888888888,
             "#fdca26"
            ],
            [
             1,
             "#f0f921"
            ]
           ],
           "sequentialminus": [
            [
             0,
             "#0d0887"
            ],
            [
             0.1111111111111111,
             "#46039f"
            ],
            [
             0.2222222222222222,
             "#7201a8"
            ],
            [
             0.3333333333333333,
             "#9c179e"
            ],
            [
             0.4444444444444444,
             "#bd3786"
            ],
            [
             0.5555555555555556,
             "#d8576b"
            ],
            [
             0.6666666666666666,
             "#ed7953"
            ],
            [
             0.7777777777777778,
             "#fb9f3a"
            ],
            [
             0.8888888888888888,
             "#fdca26"
            ],
            [
             1,
             "#f0f921"
            ]
           ]
          },
          "colorway": [
           "#636efa",
           "#EF553B",
           "#00cc96",
           "#ab63fa",
           "#FFA15A",
           "#19d3f3",
           "#FF6692",
           "#B6E880",
           "#FF97FF",
           "#FECB52"
          ],
          "font": {
           "color": "#2a3f5f"
          },
          "geo": {
           "bgcolor": "white",
           "lakecolor": "white",
           "landcolor": "#E5ECF6",
           "showlakes": true,
           "showland": true,
           "subunitcolor": "white"
          },
          "hoverlabel": {
           "align": "left"
          },
          "hovermode": "closest",
          "mapbox": {
           "style": "light"
          },
          "paper_bgcolor": "white",
          "plot_bgcolor": "#E5ECF6",
          "polar": {
           "angularaxis": {
            "gridcolor": "white",
            "linecolor": "white",
            "ticks": ""
           },
           "bgcolor": "#E5ECF6",
           "radialaxis": {
            "gridcolor": "white",
            "linecolor": "white",
            "ticks": ""
           }
          },
          "scene": {
           "xaxis": {
            "backgroundcolor": "#E5ECF6",
            "gridcolor": "white",
            "gridwidth": 2,
            "linecolor": "white",
            "showbackground": true,
            "ticks": "",
            "zerolinecolor": "white"
           },
           "yaxis": {
            "backgroundcolor": "#E5ECF6",
            "gridcolor": "white",
            "gridwidth": 2,
            "linecolor": "white",
            "showbackground": true,
            "ticks": "",
            "zerolinecolor": "white"
           },
           "zaxis": {
            "backgroundcolor": "#E5ECF6",
            "gridcolor": "white",
            "gridwidth": 2,
            "linecolor": "white",
            "showbackground": true,
            "ticks": "",
            "zerolinecolor": "white"
           }
          },
          "shapedefaults": {
           "line": {
            "color": "#2a3f5f"
           }
          },
          "ternary": {
           "aaxis": {
            "gridcolor": "white",
            "linecolor": "white",
            "ticks": ""
           },
           "baxis": {
            "gridcolor": "white",
            "linecolor": "white",
            "ticks": ""
           },
           "bgcolor": "#E5ECF6",
           "caxis": {
            "gridcolor": "white",
            "linecolor": "white",
            "ticks": ""
           }
          },
          "title": {
           "x": 0.05
          },
          "xaxis": {
           "automargin": true,
           "gridcolor": "white",
           "linecolor": "white",
           "ticks": "",
           "title": {
            "standoff": 15
           },
           "zerolinecolor": "white",
           "zerolinewidth": 2
          },
          "yaxis": {
           "automargin": true,
           "gridcolor": "white",
           "linecolor": "white",
           "ticks": "",
           "title": {
            "standoff": 15
           },
           "zerolinecolor": "white",
           "zerolinewidth": 2
          }
         }
        },
        "title": {
         "text": "Top 10 Journals by Total Citations"
        },
        "xaxis": {
         "anchor": "y",
         "categoryarray": [
          "Journal of High Ener...",
          "Scientific Reports",
          "Physics Letters, Sec...",
          "European Physical Jo...",
          "Physical Review Lett...",
          "Physical Review D",
          "Asian Pacific Journa...",
          "PLoS ONE",
          "International Journa...",
          "Molecular Neurobiolo..."
         ],
         "categoryorder": "array",
         "domain": [
          0,
          1
         ],
         "tickangle": -45,
         "tickmode": "array",
         "tickvals": [
          "Journal of High Ener...",
          "Scientific Reports",
          "Physics Letters, Sec...",
          "European Physical Jo...",
          "Physical Review Lett...",
          "Physical Review D",
          "Asian Pacific Journa...",
          "PLoS ONE",
          "International Journa...",
          "Molecular Neurobiolo..."
         ],
         "title": {
          "text": "Journal Name"
         }
        },
        "yaxis": {
         "anchor": "x",
         "domain": [
          0,
          1
         ],
         "title": {
          "text": "Total Citations"
         }
        }
       }
      }
     },
     "metadata": {},
     "output_type": "display_data"
    },
    {
     "data": {
      "application/vnd.plotly.v1+json": {
       "config": {
        "plotlyServerURL": "https://plot.ly"
       },
       "data": [
        {
         "customdata": [
          [
           true
          ],
          [
           false
          ]
         ],
         "domain": {
          "x": [
           0,
           1
          ],
          "y": [
           0,
           1
          ]
         },
         "hole": 0.3,
         "hovertemplate": "label=%{label}<br>value=%{value}<br>color=%{customdata[0]}<extra></extra>",
         "labels": [
          true,
          false
         ],
         "legendgroup": "",
         "marker": {
          "colors": [
           "lightgreen",
           "lightcoral"
          ]
         },
         "name": "",
         "pull": [
          0,
          0.1
         ],
         "showlegend": true,
         "textinfo": "percent+label",
         "type": "pie",
         "values": [
          9280,
          8422
         ]
        }
       ],
       "layout": {
        "legend": {
         "tracegroupgap": 0
        },
        "piecolorway": [
         "lightgreen",
         "lightcoral"
        ],
        "template": {
         "data": {
          "bar": [
           {
            "error_x": {
             "color": "#2a3f5f"
            },
            "error_y": {
             "color": "#2a3f5f"
            },
            "marker": {
             "line": {
              "color": "#E5ECF6",
              "width": 0.5
             },
             "pattern": {
              "fillmode": "overlay",
              "size": 10,
              "solidity": 0.2
             }
            },
            "type": "bar"
           }
          ],
          "barpolar": [
           {
            "marker": {
             "line": {
              "color": "#E5ECF6",
              "width": 0.5
             },
             "pattern": {
              "fillmode": "overlay",
              "size": 10,
              "solidity": 0.2
             }
            },
            "type": "barpolar"
           }
          ],
          "carpet": [
           {
            "aaxis": {
             "endlinecolor": "#2a3f5f",
             "gridcolor": "white",
             "linecolor": "white",
             "minorgridcolor": "white",
             "startlinecolor": "#2a3f5f"
            },
            "baxis": {
             "endlinecolor": "#2a3f5f",
             "gridcolor": "white",
             "linecolor": "white",
             "minorgridcolor": "white",
             "startlinecolor": "#2a3f5f"
            },
            "type": "carpet"
           }
          ],
          "choropleth": [
           {
            "colorbar": {
             "outlinewidth": 0,
             "ticks": ""
            },
            "type": "choropleth"
           }
          ],
          "contour": [
           {
            "colorbar": {
             "outlinewidth": 0,
             "ticks": ""
            },
            "colorscale": [
             [
              0,
              "#0d0887"
             ],
             [
              0.1111111111111111,
              "#46039f"
             ],
             [
              0.2222222222222222,
              "#7201a8"
             ],
             [
              0.3333333333333333,
              "#9c179e"
             ],
             [
              0.4444444444444444,
              "#bd3786"
             ],
             [
              0.5555555555555556,
              "#d8576b"
             ],
             [
              0.6666666666666666,
              "#ed7953"
             ],
             [
              0.7777777777777778,
              "#fb9f3a"
             ],
             [
              0.8888888888888888,
              "#fdca26"
             ],
             [
              1,
              "#f0f921"
             ]
            ],
            "type": "contour"
           }
          ],
          "contourcarpet": [
           {
            "colorbar": {
             "outlinewidth": 0,
             "ticks": ""
            },
            "type": "contourcarpet"
           }
          ],
          "heatmap": [
           {
            "colorbar": {
             "outlinewidth": 0,
             "ticks": ""
            },
            "colorscale": [
             [
              0,
              "#0d0887"
             ],
             [
              0.1111111111111111,
              "#46039f"
             ],
             [
              0.2222222222222222,
              "#7201a8"
             ],
             [
              0.3333333333333333,
              "#9c179e"
             ],
             [
              0.4444444444444444,
              "#bd3786"
             ],
             [
              0.5555555555555556,
              "#d8576b"
             ],
             [
              0.6666666666666666,
              "#ed7953"
             ],
             [
              0.7777777777777778,
              "#fb9f3a"
             ],
             [
              0.8888888888888888,
              "#fdca26"
             ],
             [
              1,
              "#f0f921"
             ]
            ],
            "type": "heatmap"
           }
          ],
          "heatmapgl": [
           {
            "colorbar": {
             "outlinewidth": 0,
             "ticks": ""
            },
            "colorscale": [
             [
              0,
              "#0d0887"
             ],
             [
              0.1111111111111111,
              "#46039f"
             ],
             [
              0.2222222222222222,
              "#7201a8"
             ],
             [
              0.3333333333333333,
              "#9c179e"
             ],
             [
              0.4444444444444444,
              "#bd3786"
             ],
             [
              0.5555555555555556,
              "#d8576b"
             ],
             [
              0.6666666666666666,
              "#ed7953"
             ],
             [
              0.7777777777777778,
              "#fb9f3a"
             ],
             [
              0.8888888888888888,
              "#fdca26"
             ],
             [
              1,
              "#f0f921"
             ]
            ],
            "type": "heatmapgl"
           }
          ],
          "histogram": [
           {
            "marker": {
             "pattern": {
              "fillmode": "overlay",
              "size": 10,
              "solidity": 0.2
             }
            },
            "type": "histogram"
           }
          ],
          "histogram2d": [
           {
            "colorbar": {
             "outlinewidth": 0,
             "ticks": ""
            },
            "colorscale": [
             [
              0,
              "#0d0887"
             ],
             [
              0.1111111111111111,
              "#46039f"
             ],
             [
              0.2222222222222222,
              "#7201a8"
             ],
             [
              0.3333333333333333,
              "#9c179e"
             ],
             [
              0.4444444444444444,
              "#bd3786"
             ],
             [
              0.5555555555555556,
              "#d8576b"
             ],
             [
              0.6666666666666666,
              "#ed7953"
             ],
             [
              0.7777777777777778,
              "#fb9f3a"
             ],
             [
              0.8888888888888888,
              "#fdca26"
             ],
             [
              1,
              "#f0f921"
             ]
            ],
            "type": "histogram2d"
           }
          ],
          "histogram2dcontour": [
           {
            "colorbar": {
             "outlinewidth": 0,
             "ticks": ""
            },
            "colorscale": [
             [
              0,
              "#0d0887"
             ],
             [
              0.1111111111111111,
              "#46039f"
             ],
             [
              0.2222222222222222,
              "#7201a8"
             ],
             [
              0.3333333333333333,
              "#9c179e"
             ],
             [
              0.4444444444444444,
              "#bd3786"
             ],
             [
              0.5555555555555556,
              "#d8576b"
             ],
             [
              0.6666666666666666,
              "#ed7953"
             ],
             [
              0.7777777777777778,
              "#fb9f3a"
             ],
             [
              0.8888888888888888,
              "#fdca26"
             ],
             [
              1,
              "#f0f921"
             ]
            ],
            "type": "histogram2dcontour"
           }
          ],
          "mesh3d": [
           {
            "colorbar": {
             "outlinewidth": 0,
             "ticks": ""
            },
            "type": "mesh3d"
           }
          ],
          "parcoords": [
           {
            "line": {
             "colorbar": {
              "outlinewidth": 0,
              "ticks": ""
             }
            },
            "type": "parcoords"
           }
          ],
          "pie": [
           {
            "automargin": true,
            "type": "pie"
           }
          ],
          "scatter": [
           {
            "fillpattern": {
             "fillmode": "overlay",
             "size": 10,
             "solidity": 0.2
            },
            "type": "scatter"
           }
          ],
          "scatter3d": [
           {
            "line": {
             "colorbar": {
              "outlinewidth": 0,
              "ticks": ""
             }
            },
            "marker": {
             "colorbar": {
              "outlinewidth": 0,
              "ticks": ""
             }
            },
            "type": "scatter3d"
           }
          ],
          "scattercarpet": [
           {
            "marker": {
             "colorbar": {
              "outlinewidth": 0,
              "ticks": ""
             }
            },
            "type": "scattercarpet"
           }
          ],
          "scattergeo": [
           {
            "marker": {
             "colorbar": {
              "outlinewidth": 0,
              "ticks": ""
             }
            },
            "type": "scattergeo"
           }
          ],
          "scattergl": [
           {
            "marker": {
             "colorbar": {
              "outlinewidth": 0,
              "ticks": ""
             }
            },
            "type": "scattergl"
           }
          ],
          "scattermapbox": [
           {
            "marker": {
             "colorbar": {
              "outlinewidth": 0,
              "ticks": ""
             }
            },
            "type": "scattermapbox"
           }
          ],
          "scatterpolar": [
           {
            "marker": {
             "colorbar": {
              "outlinewidth": 0,
              "ticks": ""
             }
            },
            "type": "scatterpolar"
           }
          ],
          "scatterpolargl": [
           {
            "marker": {
             "colorbar": {
              "outlinewidth": 0,
              "ticks": ""
             }
            },
            "type": "scatterpolargl"
           }
          ],
          "scatterternary": [
           {
            "marker": {
             "colorbar": {
              "outlinewidth": 0,
              "ticks": ""
             }
            },
            "type": "scatterternary"
           }
          ],
          "surface": [
           {
            "colorbar": {
             "outlinewidth": 0,
             "ticks": ""
            },
            "colorscale": [
             [
              0,
              "#0d0887"
             ],
             [
              0.1111111111111111,
              "#46039f"
             ],
             [
              0.2222222222222222,
              "#7201a8"
             ],
             [
              0.3333333333333333,
              "#9c179e"
             ],
             [
              0.4444444444444444,
              "#bd3786"
             ],
             [
              0.5555555555555556,
              "#d8576b"
             ],
             [
              0.6666666666666666,
              "#ed7953"
             ],
             [
              0.7777777777777778,
              "#fb9f3a"
             ],
             [
              0.8888888888888888,
              "#fdca26"
             ],
             [
              1,
              "#f0f921"
             ]
            ],
            "type": "surface"
           }
          ],
          "table": [
           {
            "cells": {
             "fill": {
              "color": "#EBF0F8"
             },
             "line": {
              "color": "white"
             }
            },
            "header": {
             "fill": {
              "color": "#C8D4E3"
             },
             "line": {
              "color": "white"
             }
            },
            "type": "table"
           }
          ]
         },
         "layout": {
          "annotationdefaults": {
           "arrowcolor": "#2a3f5f",
           "arrowhead": 0,
           "arrowwidth": 1
          },
          "autotypenumbers": "strict",
          "coloraxis": {
           "colorbar": {
            "outlinewidth": 0,
            "ticks": ""
           }
          },
          "colorscale": {
           "diverging": [
            [
             0,
             "#8e0152"
            ],
            [
             0.1,
             "#c51b7d"
            ],
            [
             0.2,
             "#de77ae"
            ],
            [
             0.3,
             "#f1b6da"
            ],
            [
             0.4,
             "#fde0ef"
            ],
            [
             0.5,
             "#f7f7f7"
            ],
            [
             0.6,
             "#e6f5d0"
            ],
            [
             0.7,
             "#b8e186"
            ],
            [
             0.8,
             "#7fbc41"
            ],
            [
             0.9,
             "#4d9221"
            ],
            [
             1,
             "#276419"
            ]
           ],
           "sequential": [
            [
             0,
             "#0d0887"
            ],
            [
             0.1111111111111111,
             "#46039f"
            ],
            [
             0.2222222222222222,
             "#7201a8"
            ],
            [
             0.3333333333333333,
             "#9c179e"
            ],
            [
             0.4444444444444444,
             "#bd3786"
            ],
            [
             0.5555555555555556,
             "#d8576b"
            ],
            [
             0.6666666666666666,
             "#ed7953"
            ],
            [
             0.7777777777777778,
             "#fb9f3a"
            ],
            [
             0.8888888888888888,
             "#fdca26"
            ],
            [
             1,
             "#f0f921"
            ]
           ],
           "sequentialminus": [
            [
             0,
             "#0d0887"
            ],
            [
             0.1111111111111111,
             "#46039f"
            ],
            [
             0.2222222222222222,
             "#7201a8"
            ],
            [
             0.3333333333333333,
             "#9c179e"
            ],
            [
             0.4444444444444444,
             "#bd3786"
            ],
            [
             0.5555555555555556,
             "#d8576b"
            ],
            [
             0.6666666666666666,
             "#ed7953"
            ],
            [
             0.7777777777777778,
             "#fb9f3a"
            ],
            [
             0.8888888888888888,
             "#fdca26"
            ],
            [
             1,
             "#f0f921"
            ]
           ]
          },
          "colorway": [
           "#636efa",
           "#EF553B",
           "#00cc96",
           "#ab63fa",
           "#FFA15A",
           "#19d3f3",
           "#FF6692",
           "#B6E880",
           "#FF97FF",
           "#FECB52"
          ],
          "font": {
           "color": "#2a3f5f"
          },
          "geo": {
           "bgcolor": "white",
           "lakecolor": "white",
           "landcolor": "#E5ECF6",
           "showlakes": true,
           "showland": true,
           "subunitcolor": "white"
          },
          "hoverlabel": {
           "align": "left"
          },
          "hovermode": "closest",
          "mapbox": {
           "style": "light"
          },
          "paper_bgcolor": "white",
          "plot_bgcolor": "#E5ECF6",
          "polar": {
           "angularaxis": {
            "gridcolor": "white",
            "linecolor": "white",
            "ticks": ""
           },
           "bgcolor": "#E5ECF6",
           "radialaxis": {
            "gridcolor": "white",
            "linecolor": "white",
            "ticks": ""
           }
          },
          "scene": {
           "xaxis": {
            "backgroundcolor": "#E5ECF6",
            "gridcolor": "white",
            "gridwidth": 2,
            "linecolor": "white",
            "showbackground": true,
            "ticks": "",
            "zerolinecolor": "white"
           },
           "yaxis": {
            "backgroundcolor": "#E5ECF6",
            "gridcolor": "white",
            "gridwidth": 2,
            "linecolor": "white",
            "showbackground": true,
            "ticks": "",
            "zerolinecolor": "white"
           },
           "zaxis": {
            "backgroundcolor": "#E5ECF6",
            "gridcolor": "white",
            "gridwidth": 2,
            "linecolor": "white",
            "showbackground": true,
            "ticks": "",
            "zerolinecolor": "white"
           }
          },
          "shapedefaults": {
           "line": {
            "color": "#2a3f5f"
           }
          },
          "ternary": {
           "aaxis": {
            "gridcolor": "white",
            "linecolor": "white",
            "ticks": ""
           },
           "baxis": {
            "gridcolor": "white",
            "linecolor": "white",
            "ticks": ""
           },
           "bgcolor": "#E5ECF6",
           "caxis": {
            "gridcolor": "white",
            "linecolor": "white",
            "ticks": ""
           }
          },
          "title": {
           "x": 0.05
          },
          "xaxis": {
           "automargin": true,
           "gridcolor": "white",
           "linecolor": "white",
           "ticks": "",
           "title": {
            "standoff": 15
           },
           "zerolinecolor": "white",
           "zerolinewidth": 2
          },
          "yaxis": {
           "automargin": true,
           "gridcolor": "white",
           "linecolor": "white",
           "ticks": "",
           "title": {
            "standoff": 15
           },
           "zerolinecolor": "white",
           "zerolinewidth": 2
          }
         }
        },
        "title": {
         "text": "Open Access vs Closed Access"
        }
       }
      }
     },
     "metadata": {},
     "output_type": "display_data"
    },
    {
     "name": "stdout",
     "output_type": "stream",
     "text": [
      "Top 10 Funding Agencies by Count:\n",
      "Funding Agencies\n",
      "Chulalongkorn University                                                    1321\n",
      "Thailand Research Fund                                                       209\n",
      "Chulalongkorn University,Thailand Research Fund                              157\n",
      "Second Century Fund,Chulalongkorn University                                 128\n",
      "Ratchadaphiseksomphot Endowment Fund,Chulalongkorn University                115\n",
      "National Research Council of Thailand                                        102\n",
      "Chulalongkorn University,National Research Council of Thailand                83\n",
      "Ratchadapisek Sompoch Endowment Fund,Chulalongkorn University                 66\n",
      "Mahidol University                                                            52\n",
      "Ratchadapiseksompotch Fund,Faculty of Medicine, Chulalongkorn University      43\n",
      "Name: count, dtype: int64\n"
     ]
    }
   ],
   "source": [
    "def analyze_top_cited_journals(data, top_n=10):\n",
    "    \"\"\"\n",
    "    Analyze and visualize the top-cited journals, handling long text labels.\n",
    "\n",
    "    Parameters:\n",
    "        data (DataFrame): The dataset containing journal and citation data.\n",
    "        top_n (int): The number of top-cited journals to visualize.\n",
    "    Returns:\n",
    "        None: Displays a bar chart of top-cited journals.\n",
    "    \"\"\"\n",
    "    # Identify top-cited journals\n",
    "    top_cited = data.groupby('prism:publicationName')['citedby-count'].sum().sort_values(ascending=False).head(top_n)\n",
    "    \n",
    "    # Truncate or format long journal names\n",
    "\n",
    "    top_cited.index = top_cited.index.map(str)\n",
    "    top_cited.index = top_cited.index.map(lambda x: x[:20] + \"...\" if len(x) > 20 else x)\n",
    "    print(top_cited.index)\n",
    "    # Plot the top-cited journals\n",
    "    fig = px.bar(\n",
    "        top_cited,\n",
    "        x=top_cited.index,\n",
    "        y=top_cited.values,\n",
    "        labels={'x': 'Journal Name', 'y': 'Total Citations'},\n",
    "        title=f\"Top {top_n} Journals by Total Citations\",\n",
    "        color=top_cited.index,\n",
    "        color_discrete_sequence=['skyblue']\n",
    "    )\n",
    "    fig.update_layout(\n",
    "        xaxis_title=\"Journal Name\",\n",
    "        yaxis_title=\"Total Citations\",\n",
    "        xaxis_tickangle=-45,\n",
    "        xaxis=dict(tickmode='array', tickvals=top_cited.index),\n",
    "    )\n",
    "    fig.show()\n",
    "\n",
    "def analyze_open_access_trends(data):\n",
    "    \"\"\"\n",
    "    Analyze and visualize the open-access trends.\n",
    "\n",
    "    Parameters:\n",
    "        data (DataFrame): The dataset containing open-access flag data.\n",
    "\n",
    "    Returns:\n",
    "        None: Displays a pie chart of open-access vs closed access trends.\n",
    "    \"\"\" \n",
    "    # Analyze open-access trends\n",
    "    open_access_trends = data['openaccessFlag'].value_counts()\n",
    "\n",
    "    # Plot open-access trends\n",
    "    fig = px.pie(\n",
    "        names=open_access_trends.index,\n",
    "        values=open_access_trends.values,\n",
    "        title=\"Open Access vs Closed Access\",\n",
    "        color=open_access_trends.index,\n",
    "        color_discrete_sequence=['lightgreen', 'lightcoral'],\n",
    "        hole=0.3\n",
    "    )\n",
    "    fig.update_traces(textinfo='percent+label', pull=[0, 0.1])\n",
    "    fig.show()\n",
    "\n",
    "\n",
    "def analyze_funding_agency_counts(data, top_n=10):\n",
    "    \"\"\"\n",
    "    Display the top funding agencies by count.\n",
    "\n",
    "    Parameters:\n",
    "        data (DataFrame): The dataset containing funding agency data.\n",
    "        top_n (int): The number of top funding agencies to display.\n",
    "\n",
    "    Returns:\n",
    "        None: Prints the top funding agencies by count.\n",
    "    \"\"\"\n",
    "    # Explore funding patterns\n",
    "    funding_counts = data['Funding Agencies'].value_counts().head(top_n)\n",
    "\n",
    "    print(f\"Top {top_n} Funding Agencies by Count:\")\n",
    "    print(funding_counts)\n",
    "\n",
    "\n",
    "# Usage example\n",
    "# Call each function with the dataset\n",
    "analyze_top_cited_journals(data, top_n=10)\n",
    "analyze_open_access_trends(data)\n",
    "analyze_funding_agency_counts(data, top_n=10)\n"
   ]
  },
  {
   "cell_type": "code",
   "execution_count": 7,
   "metadata": {},
   "outputs": [
    {
     "data": {
      "application/vnd.plotly.v1+json": {
       "config": {
        "plotlyServerURL": "https://plot.ly"
       },
       "data": [
        {
         "hoverinfo": "none",
         "line": {
          "color": "gray",
          "width": 0.5
         },
         "mode": "lines",
         "type": "scatter",
         "x": [
          -0.03187163483830564,
          -0.06233017344430309,
          -0.03187163483830564,
          -0.09662745844091798,
          -0.03187163483830564,
          -0.48042316343287245,
          -0.03187163483830564,
          -0.3263333703169403,
          -0.03187163483830564,
          0.37065479583500394,
          -0.03187163483830564,
          -0.6052177527444124,
          -0.03187163483830564,
          0.48929206420502575,
          -0.03187163483830564,
          0.19053882166508856,
          -0.03187163483830564,
          -0.28501707156783374,
          -0.03187163483830564,
          0.29527486874135966,
          -0.03187163483830564,
          -0.0651011976574184,
          -0.03187163483830564,
          0.10186147118683035,
          -0.03187163483830564,
          -0.129978497414068,
          -0.03187163483830564,
          0.1994874578530934,
          -0.03187163483830564,
          -0.3174674767783458,
          -0.03187163483830564,
          -0.059174296789491605,
          -0.03187163483830564,
          -0.03187163483830564,
          -0.03187163483830564,
          0.6024045339383101,
          -0.06233017344430309,
          0.29527486874135966,
          -0.06233017344430309,
          0.10186147118683035,
          -0.06233017344430309,
          -0.48042316343287245,
          -0.06233017344430309,
          -0.3263333703169403,
          -0.06233017344430309,
          -0.3174674767783458,
          -0.06233017344430309,
          -0.09662745844091798,
          -0.06233017344430309,
          -0.6052177527444124,
          -0.06233017344430309,
          0.19053882166508856,
          -0.06233017344430309,
          0.48929206420502575,
          -0.06233017344430309,
          -0.28501707156783374,
          -0.06233017344430309,
          0.37065479583500394,
          -0.06233017344430309,
          -0.0651011976574184,
          -0.06233017344430309,
          0.1994874578530934,
          -0.09662745844091798,
          0.48929206420502575,
          -0.09662745844091798,
          0.6024045339383101,
          -0.09662745844091798,
          0.29527486874135966,
          -0.09662745844091798,
          -0.3174674767783458,
          -0.09662745844091798,
          -0.28501707156783374,
          -0.09662745844091798,
          0.21002808000018955,
          -0.09662745844091798,
          0.10186147118683035,
          -0.09662745844091798,
          -0.059174296789491605,
          -0.09662745844091798,
          -0.129978497414068,
          -0.09662745844091798,
          0.1994874578530934,
          -0.09662745844091798,
          0.37065479583500394,
          0.19053882166508856,
          -0.0651011976574184,
          0.19053882166508856,
          -0.48042316343287245,
          0.19053882166508856,
          -0.3263333703169403,
          0.19053882166508856,
          -0.059174296789491605,
          0.19053882166508856,
          0.19053882166508856,
          0.19053882166508856,
          -0.6052177527444124,
          0.19053882166508856,
          0.37065479583500394,
          0.19053882166508856,
          -0.28501707156783374,
          0.19053882166508856,
          0.1994874578530934,
          -0.0651011976574184,
          -0.0651011976574184,
          -0.0651011976574184,
          -0.129978497414068,
          -0.0651011976574184,
          0.1994874578530934,
          -0.0651011976574184,
          -0.48042316343287245,
          -0.0651011976574184,
          -0.28501707156783374,
          -0.0651011976574184,
          -0.3263333703169403,
          -0.0651011976574184,
          0.37065479583500394,
          -0.0651011976574184,
          -0.6052177527444124,
          -0.48042316343287245,
          -0.3263333703169403,
          -0.48042316343287245,
          -0.6052177527444124,
          -0.48042316343287245,
          0.37065479583500394,
          -0.48042316343287245,
          -0.28501707156783374,
          -0.48042316343287245,
          0.1994874578530934,
          -0.48042316343287245,
          0.10186147118683035,
          -0.48042316343287245,
          -0.3174674767783458,
          0.6024045339383101,
          0.6024045339383101,
          0.6024045339383101,
          -0.059174296789491605,
          0.6024045339383101,
          0.48929206420502575,
          0.6024045339383101,
          -0.28501707156783374,
          0.6024045339383101,
          0.37065479583500394,
          0.6024045339383101,
          0.21002808000018955,
          0.6024045339383101,
          -0.129978497414068,
          0.6024045339383101,
          -0.3174674767783458,
          0.6024045339383101,
          0.1994874578530934,
          0.6024045339383101,
          0.29527486874135966,
          0.6024045339383101,
          0.10186147118683035,
          -0.129978497414068,
          0.48929206420502575,
          -0.129978497414068,
          -0.28501707156783374,
          -0.129978497414068,
          0.37065479583500394,
          -0.129978497414068,
          0.21002808000018955,
          -0.129978497414068,
          0.29527486874135966,
          -0.129978497414068,
          0.10186147118683035,
          -0.129978497414068,
          -0.129978497414068,
          -0.129978497414068,
          -0.3174674767783458,
          -0.129978497414068,
          0.1994874578530934,
          -0.129978497414068,
          -0.059174296789491605,
          0.48929206420502575,
          -0.28501707156783374,
          0.48929206420502575,
          0.1994874578530934,
          0.48929206420502575,
          0.21002808000018955,
          0.48929206420502575,
          0.37065479583500394,
          0.48929206420502575,
          0.48929206420502575,
          0.48929206420502575,
          0.29527486874135966,
          0.48929206420502575,
          -0.3174674767783458,
          0.48929206420502575,
          -0.059174296789491605,
          0.48929206420502575,
          0.10186147118683035,
          0.21002808000018955,
          0.37065479583500394,
          0.21002808000018955,
          -0.28501707156783374,
          0.21002808000018955,
          0.29527486874135966,
          0.21002808000018955,
          0.10186147118683035,
          0.21002808000018955,
          -0.3174674767783458,
          0.21002808000018955,
          0.1994874578530934,
          0.21002808000018955,
          0.21002808000018955,
          0.21002808000018955,
          -0.059174296789491605,
          0.37065479583500394,
          -0.059174296789491605,
          0.37065479583500394,
          -0.3174674767783458,
          0.37065479583500394,
          0.1994874578530934,
          0.37065479583500394,
          0.37065479583500394,
          0.37065479583500394,
          0.10186147118683035,
          0.37065479583500394,
          0.29527486874135966,
          0.37065479583500394,
          -0.28501707156783374,
          -0.3263333703169403,
          -0.6052177527444124,
          -0.3263333703169403,
          -0.28501707156783374,
          -0.3263333703169403,
          0.1994874578530934,
          -0.28501707156783374,
          0.1994874578530934,
          -0.28501707156783374,
          0.29527486874135966,
          -0.28501707156783374,
          0.10186147118683035,
          -0.28501707156783374,
          -0.3174674767783458,
          -0.28501707156783374,
          -0.059174296789491605,
          -0.28501707156783374,
          -0.6052177527444124,
          -0.059174296789491605,
          0.10186147118683035,
          -0.059174296789491605,
          0.29527486874135966,
          -0.059174296789491605,
          -0.3174674767783458,
          -0.059174296789491605,
          0.1994874578530934,
          0.1994874578530934,
          0.1994874578530934,
          0.1994874578530934,
          -0.3174674767783458,
          0.1994874578530934,
          0.29527486874135966,
          0.1994874578530934,
          0.10186147118683035,
          0.1994874578530934,
          -0.6052177527444124,
          0.29527486874135966,
          0.10186147118683035,
          0.29527486874135966,
          0.29527486874135966,
          0.29527486874135966,
          -0.3174674767783458,
          0.10186147118683035,
          -0.3174674767783458,
          0.10186147118683035,
          0.10186147118683035,
          -0.3174674767783458,
          -0.3174674767783458
         ],
         "y": [
          -0.28906570554180716,
          -0.14810557748919823,
          -0.28906570554180716,
          0.6895118840489681,
          -0.28906570554180716,
          -0.3899978284110005,
          -0.28906570554180716,
          -1,
          -0.28906570554180716,
          0.0217369968969749,
          -0.28906570554180716,
          -0.8023589122314593,
          -0.28906570554180716,
          0.4670668425299542,
          -0.28906570554180716,
          -0.7054139559616356,
          -0.28906570554180716,
          -0.009056632342542567,
          -0.28906570554180716,
          0.557982543225246,
          -0.28906570554180716,
          -0.7660102928517365,
          -0.28906570554180716,
          0.42980960163838094,
          -0.28906570554180716,
          0.13082903883167432,
          -0.28906570554180716,
          -0.14644342703862653,
          -0.28906570554180716,
          0.4629678215812413,
          -0.28906570554180716,
          0.31503229959011747,
          -0.28906570554180716,
          -0.28906570554180716,
          -0.28906570554180716,
          0.2878968280445714,
          -0.14810557748919823,
          0.557982543225246,
          -0.14810557748919823,
          0.42980960163838094,
          -0.14810557748919823,
          -0.3899978284110005,
          -0.14810557748919823,
          -1,
          -0.14810557748919823,
          0.4629678215812413,
          -0.14810557748919823,
          0.6895118840489681,
          -0.14810557748919823,
          -0.8023589122314593,
          -0.14810557748919823,
          -0.7054139559616356,
          -0.14810557748919823,
          0.4670668425299542,
          -0.14810557748919823,
          -0.009056632342542567,
          -0.14810557748919823,
          0.0217369968969749,
          -0.14810557748919823,
          -0.7660102928517365,
          -0.14810557748919823,
          -0.14644342703862653,
          0.6895118840489681,
          0.4670668425299542,
          0.6895118840489681,
          0.2878968280445714,
          0.6895118840489681,
          0.557982543225246,
          0.6895118840489681,
          0.4629678215812413,
          0.6895118840489681,
          -0.009056632342542567,
          0.6895118840489681,
          0.8936184754808779,
          0.6895118840489681,
          0.42980960163838094,
          0.6895118840489681,
          0.31503229959011747,
          0.6895118840489681,
          0.13082903883167432,
          0.6895118840489681,
          -0.14644342703862653,
          0.6895118840489681,
          0.0217369968969749,
          -0.7054139559616356,
          -0.7660102928517365,
          -0.7054139559616356,
          -0.3899978284110005,
          -0.7054139559616356,
          -1,
          -0.7054139559616356,
          0.31503229959011747,
          -0.7054139559616356,
          -0.7054139559616356,
          -0.7054139559616356,
          -0.8023589122314593,
          -0.7054139559616356,
          0.0217369968969749,
          -0.7054139559616356,
          -0.009056632342542567,
          -0.7054139559616356,
          -0.14644342703862653,
          -0.7660102928517365,
          -0.7660102928517365,
          -0.7660102928517365,
          0.13082903883167432,
          -0.7660102928517365,
          -0.14644342703862653,
          -0.7660102928517365,
          -0.3899978284110005,
          -0.7660102928517365,
          -0.009056632342542567,
          -0.7660102928517365,
          -1,
          -0.7660102928517365,
          0.0217369968969749,
          -0.7660102928517365,
          -0.8023589122314593,
          -0.3899978284110005,
          -1,
          -0.3899978284110005,
          -0.8023589122314593,
          -0.3899978284110005,
          0.0217369968969749,
          -0.3899978284110005,
          -0.009056632342542567,
          -0.3899978284110005,
          -0.14644342703862653,
          -0.3899978284110005,
          0.42980960163838094,
          -0.3899978284110005,
          0.4629678215812413,
          0.2878968280445714,
          0.2878968280445714,
          0.2878968280445714,
          0.31503229959011747,
          0.2878968280445714,
          0.4670668425299542,
          0.2878968280445714,
          -0.009056632342542567,
          0.2878968280445714,
          0.0217369968969749,
          0.2878968280445714,
          0.8936184754808779,
          0.2878968280445714,
          0.13082903883167432,
          0.2878968280445714,
          0.4629678215812413,
          0.2878968280445714,
          -0.14644342703862653,
          0.2878968280445714,
          0.557982543225246,
          0.2878968280445714,
          0.42980960163838094,
          0.13082903883167432,
          0.4670668425299542,
          0.13082903883167432,
          -0.009056632342542567,
          0.13082903883167432,
          0.0217369968969749,
          0.13082903883167432,
          0.8936184754808779,
          0.13082903883167432,
          0.557982543225246,
          0.13082903883167432,
          0.42980960163838094,
          0.13082903883167432,
          0.13082903883167432,
          0.13082903883167432,
          0.4629678215812413,
          0.13082903883167432,
          -0.14644342703862653,
          0.13082903883167432,
          0.31503229959011747,
          0.4670668425299542,
          -0.009056632342542567,
          0.4670668425299542,
          -0.14644342703862653,
          0.4670668425299542,
          0.8936184754808779,
          0.4670668425299542,
          0.0217369968969749,
          0.4670668425299542,
          0.4670668425299542,
          0.4670668425299542,
          0.557982543225246,
          0.4670668425299542,
          0.4629678215812413,
          0.4670668425299542,
          0.31503229959011747,
          0.4670668425299542,
          0.42980960163838094,
          0.8936184754808779,
          0.0217369968969749,
          0.8936184754808779,
          -0.009056632342542567,
          0.8936184754808779,
          0.557982543225246,
          0.8936184754808779,
          0.42980960163838094,
          0.8936184754808779,
          0.4629678215812413,
          0.8936184754808779,
          -0.14644342703862653,
          0.8936184754808779,
          0.8936184754808779,
          0.8936184754808779,
          0.31503229959011747,
          0.0217369968969749,
          0.31503229959011747,
          0.0217369968969749,
          0.4629678215812413,
          0.0217369968969749,
          -0.14644342703862653,
          0.0217369968969749,
          0.0217369968969749,
          0.0217369968969749,
          0.42980960163838094,
          0.0217369968969749,
          0.557982543225246,
          0.0217369968969749,
          -0.009056632342542567,
          -1,
          -0.8023589122314593,
          -1,
          -0.009056632342542567,
          -1,
          -0.14644342703862653,
          -0.009056632342542567,
          -0.14644342703862653,
          -0.009056632342542567,
          0.557982543225246,
          -0.009056632342542567,
          0.42980960163838094,
          -0.009056632342542567,
          0.4629678215812413,
          -0.009056632342542567,
          0.31503229959011747,
          -0.009056632342542567,
          -0.8023589122314593,
          0.31503229959011747,
          0.42980960163838094,
          0.31503229959011747,
          0.557982543225246,
          0.31503229959011747,
          0.4629678215812413,
          0.31503229959011747,
          -0.14644342703862653,
          -0.14644342703862653,
          -0.14644342703862653,
          -0.14644342703862653,
          0.4629678215812413,
          -0.14644342703862653,
          0.557982543225246,
          -0.14644342703862653,
          0.42980960163838094,
          -0.14644342703862653,
          -0.8023589122314593,
          0.557982543225246,
          0.42980960163838094,
          0.557982543225246,
          0.557982543225246,
          0.557982543225246,
          0.4629678215812413,
          0.42980960163838094,
          0.4629678215812413,
          0.42980960163838094,
          0.42980960163838094,
          0.4629678215812413,
          0.4629678215812413
         ]
        },
        {
         "hoverinfo": "text",
         "marker": {
          "color": [
           19,
           14,
           13,
           12,
           12,
           11,
           14,
           15,
           15,
           13,
           18,
           8,
           18,
           13,
           20,
           8,
           15,
           16,
           16
          ],
          "colorbar": {
           "thickness": 100,
           "title": {
            "side": "right",
            "text": "Node Connections"
           },
           "xanchor": "left"
          },
          "colorscale": [
           [
            0,
            "rgb(255,255,217)"
           ],
           [
            0.125,
            "rgb(237,248,177)"
           ],
           [
            0.25,
            "rgb(199,233,180)"
           ],
           [
            0.375,
            "rgb(127,205,187)"
           ],
           [
            0.5,
            "rgb(65,182,196)"
           ],
           [
            0.625,
            "rgb(29,145,192)"
           ],
           [
            0.75,
            "rgb(34,94,168)"
           ],
           [
            0.875,
            "rgb(37,52,148)"
           ],
           [
            1,
            "rgb(8,29,88)"
           ]
          ],
          "showscale": true,
          "size": [
           38,
           28,
           26,
           24,
           24,
           22,
           28,
           30,
           30,
           26,
           36,
           16,
           36,
           26,
           40,
           16,
           30,
           32,
           32
          ]
         },
         "mode": "markers+text",
         "text": [
          "Ministry of Education (19 connections)",
          "NSFC (14 connections)",
          "Second Century Fund (13 connections)",
          "CONACYT (12 connections)",
          "NSF (12 connections)",
          "CNPq (11 connections)",
          "Mahidol University (14 connections)",
          "Faculty of Science (15 connections)",
          "National Science and Technology Development Agency (15 connections)",
          "Faculty of Medicine (13 connections)",
          "Thailand Research Fund (18 connections)",
          "CAPES (8 connections)",
          "NSTDA (18 connections)",
          "Ratchadaphiseksomphot Endowment Fund (13 connections)",
          "Chulalongkorn University (20 connections)",
          "FAPESP (8 connections)",
          "Thailand Science Research and Innovation (15 connections)",
          "National Research Council of Thailand (16 connections)",
          "Thailand (16 connections)"
         ],
         "textposition": "bottom center",
         "type": "scatter",
         "x": [
          -0.03187163483830564,
          -0.06233017344430309,
          -0.09662745844091798,
          0.19053882166508856,
          -0.0651011976574184,
          -0.48042316343287245,
          0.6024045339383101,
          -0.129978497414068,
          0.48929206420502575,
          0.21002808000018955,
          0.37065479583500394,
          -0.3263333703169403,
          -0.28501707156783374,
          -0.059174296789491605,
          0.1994874578530934,
          -0.6052177527444124,
          0.29527486874135966,
          0.10186147118683035,
          -0.3174674767783458
         ],
         "y": [
          -0.28906570554180716,
          -0.14810557748919823,
          0.6895118840489681,
          -0.7054139559616356,
          -0.7660102928517365,
          -0.3899978284110005,
          0.2878968280445714,
          0.13082903883167432,
          0.4670668425299542,
          0.8936184754808779,
          0.0217369968969749,
          -1,
          -0.009056632342542567,
          0.31503229959011747,
          -0.14644342703862653,
          -0.8023589122314593,
          0.557982543225246,
          0.42980960163838094,
          0.4629678215812413
         ]
        }
       ],
       "layout": {
        "hovermode": "closest",
        "showlegend": false,
        "template": {
         "data": {
          "bar": [
           {
            "error_x": {
             "color": "#2a3f5f"
            },
            "error_y": {
             "color": "#2a3f5f"
            },
            "marker": {
             "line": {
              "color": "#E5ECF6",
              "width": 0.5
             },
             "pattern": {
              "fillmode": "overlay",
              "size": 10,
              "solidity": 0.2
             }
            },
            "type": "bar"
           }
          ],
          "barpolar": [
           {
            "marker": {
             "line": {
              "color": "#E5ECF6",
              "width": 0.5
             },
             "pattern": {
              "fillmode": "overlay",
              "size": 10,
              "solidity": 0.2
             }
            },
            "type": "barpolar"
           }
          ],
          "carpet": [
           {
            "aaxis": {
             "endlinecolor": "#2a3f5f",
             "gridcolor": "white",
             "linecolor": "white",
             "minorgridcolor": "white",
             "startlinecolor": "#2a3f5f"
            },
            "baxis": {
             "endlinecolor": "#2a3f5f",
             "gridcolor": "white",
             "linecolor": "white",
             "minorgridcolor": "white",
             "startlinecolor": "#2a3f5f"
            },
            "type": "carpet"
           }
          ],
          "choropleth": [
           {
            "colorbar": {
             "outlinewidth": 0,
             "ticks": ""
            },
            "type": "choropleth"
           }
          ],
          "contour": [
           {
            "colorbar": {
             "outlinewidth": 0,
             "ticks": ""
            },
            "colorscale": [
             [
              0,
              "#0d0887"
             ],
             [
              0.1111111111111111,
              "#46039f"
             ],
             [
              0.2222222222222222,
              "#7201a8"
             ],
             [
              0.3333333333333333,
              "#9c179e"
             ],
             [
              0.4444444444444444,
              "#bd3786"
             ],
             [
              0.5555555555555556,
              "#d8576b"
             ],
             [
              0.6666666666666666,
              "#ed7953"
             ],
             [
              0.7777777777777778,
              "#fb9f3a"
             ],
             [
              0.8888888888888888,
              "#fdca26"
             ],
             [
              1,
              "#f0f921"
             ]
            ],
            "type": "contour"
           }
          ],
          "contourcarpet": [
           {
            "colorbar": {
             "outlinewidth": 0,
             "ticks": ""
            },
            "type": "contourcarpet"
           }
          ],
          "heatmap": [
           {
            "colorbar": {
             "outlinewidth": 0,
             "ticks": ""
            },
            "colorscale": [
             [
              0,
              "#0d0887"
             ],
             [
              0.1111111111111111,
              "#46039f"
             ],
             [
              0.2222222222222222,
              "#7201a8"
             ],
             [
              0.3333333333333333,
              "#9c179e"
             ],
             [
              0.4444444444444444,
              "#bd3786"
             ],
             [
              0.5555555555555556,
              "#d8576b"
             ],
             [
              0.6666666666666666,
              "#ed7953"
             ],
             [
              0.7777777777777778,
              "#fb9f3a"
             ],
             [
              0.8888888888888888,
              "#fdca26"
             ],
             [
              1,
              "#f0f921"
             ]
            ],
            "type": "heatmap"
           }
          ],
          "heatmapgl": [
           {
            "colorbar": {
             "outlinewidth": 0,
             "ticks": ""
            },
            "colorscale": [
             [
              0,
              "#0d0887"
             ],
             [
              0.1111111111111111,
              "#46039f"
             ],
             [
              0.2222222222222222,
              "#7201a8"
             ],
             [
              0.3333333333333333,
              "#9c179e"
             ],
             [
              0.4444444444444444,
              "#bd3786"
             ],
             [
              0.5555555555555556,
              "#d8576b"
             ],
             [
              0.6666666666666666,
              "#ed7953"
             ],
             [
              0.7777777777777778,
              "#fb9f3a"
             ],
             [
              0.8888888888888888,
              "#fdca26"
             ],
             [
              1,
              "#f0f921"
             ]
            ],
            "type": "heatmapgl"
           }
          ],
          "histogram": [
           {
            "marker": {
             "pattern": {
              "fillmode": "overlay",
              "size": 10,
              "solidity": 0.2
             }
            },
            "type": "histogram"
           }
          ],
          "histogram2d": [
           {
            "colorbar": {
             "outlinewidth": 0,
             "ticks": ""
            },
            "colorscale": [
             [
              0,
              "#0d0887"
             ],
             [
              0.1111111111111111,
              "#46039f"
             ],
             [
              0.2222222222222222,
              "#7201a8"
             ],
             [
              0.3333333333333333,
              "#9c179e"
             ],
             [
              0.4444444444444444,
              "#bd3786"
             ],
             [
              0.5555555555555556,
              "#d8576b"
             ],
             [
              0.6666666666666666,
              "#ed7953"
             ],
             [
              0.7777777777777778,
              "#fb9f3a"
             ],
             [
              0.8888888888888888,
              "#fdca26"
             ],
             [
              1,
              "#f0f921"
             ]
            ],
            "type": "histogram2d"
           }
          ],
          "histogram2dcontour": [
           {
            "colorbar": {
             "outlinewidth": 0,
             "ticks": ""
            },
            "colorscale": [
             [
              0,
              "#0d0887"
             ],
             [
              0.1111111111111111,
              "#46039f"
             ],
             [
              0.2222222222222222,
              "#7201a8"
             ],
             [
              0.3333333333333333,
              "#9c179e"
             ],
             [
              0.4444444444444444,
              "#bd3786"
             ],
             [
              0.5555555555555556,
              "#d8576b"
             ],
             [
              0.6666666666666666,
              "#ed7953"
             ],
             [
              0.7777777777777778,
              "#fb9f3a"
             ],
             [
              0.8888888888888888,
              "#fdca26"
             ],
             [
              1,
              "#f0f921"
             ]
            ],
            "type": "histogram2dcontour"
           }
          ],
          "mesh3d": [
           {
            "colorbar": {
             "outlinewidth": 0,
             "ticks": ""
            },
            "type": "mesh3d"
           }
          ],
          "parcoords": [
           {
            "line": {
             "colorbar": {
              "outlinewidth": 0,
              "ticks": ""
             }
            },
            "type": "parcoords"
           }
          ],
          "pie": [
           {
            "automargin": true,
            "type": "pie"
           }
          ],
          "scatter": [
           {
            "fillpattern": {
             "fillmode": "overlay",
             "size": 10,
             "solidity": 0.2
            },
            "type": "scatter"
           }
          ],
          "scatter3d": [
           {
            "line": {
             "colorbar": {
              "outlinewidth": 0,
              "ticks": ""
             }
            },
            "marker": {
             "colorbar": {
              "outlinewidth": 0,
              "ticks": ""
             }
            },
            "type": "scatter3d"
           }
          ],
          "scattercarpet": [
           {
            "marker": {
             "colorbar": {
              "outlinewidth": 0,
              "ticks": ""
             }
            },
            "type": "scattercarpet"
           }
          ],
          "scattergeo": [
           {
            "marker": {
             "colorbar": {
              "outlinewidth": 0,
              "ticks": ""
             }
            },
            "type": "scattergeo"
           }
          ],
          "scattergl": [
           {
            "marker": {
             "colorbar": {
              "outlinewidth": 0,
              "ticks": ""
             }
            },
            "type": "scattergl"
           }
          ],
          "scattermapbox": [
           {
            "marker": {
             "colorbar": {
              "outlinewidth": 0,
              "ticks": ""
             }
            },
            "type": "scattermapbox"
           }
          ],
          "scatterpolar": [
           {
            "marker": {
             "colorbar": {
              "outlinewidth": 0,
              "ticks": ""
             }
            },
            "type": "scatterpolar"
           }
          ],
          "scatterpolargl": [
           {
            "marker": {
             "colorbar": {
              "outlinewidth": 0,
              "ticks": ""
             }
            },
            "type": "scatterpolargl"
           }
          ],
          "scatterternary": [
           {
            "marker": {
             "colorbar": {
              "outlinewidth": 0,
              "ticks": ""
             }
            },
            "type": "scatterternary"
           }
          ],
          "surface": [
           {
            "colorbar": {
             "outlinewidth": 0,
             "ticks": ""
            },
            "colorscale": [
             [
              0,
              "#0d0887"
             ],
             [
              0.1111111111111111,
              "#46039f"
             ],
             [
              0.2222222222222222,
              "#7201a8"
             ],
             [
              0.3333333333333333,
              "#9c179e"
             ],
             [
              0.4444444444444444,
              "#bd3786"
             ],
             [
              0.5555555555555556,
              "#d8576b"
             ],
             [
              0.6666666666666666,
              "#ed7953"
             ],
             [
              0.7777777777777778,
              "#fb9f3a"
             ],
             [
              0.8888888888888888,
              "#fdca26"
             ],
             [
              1,
              "#f0f921"
             ]
            ],
            "type": "surface"
           }
          ],
          "table": [
           {
            "cells": {
             "fill": {
              "color": "#EBF0F8"
             },
             "line": {
              "color": "white"
             }
            },
            "header": {
             "fill": {
              "color": "#C8D4E3"
             },
             "line": {
              "color": "white"
             }
            },
            "type": "table"
           }
          ]
         },
         "layout": {
          "annotationdefaults": {
           "arrowcolor": "#2a3f5f",
           "arrowhead": 0,
           "arrowwidth": 1
          },
          "autotypenumbers": "strict",
          "coloraxis": {
           "colorbar": {
            "outlinewidth": 0,
            "ticks": ""
           }
          },
          "colorscale": {
           "diverging": [
            [
             0,
             "#8e0152"
            ],
            [
             0.1,
             "#c51b7d"
            ],
            [
             0.2,
             "#de77ae"
            ],
            [
             0.3,
             "#f1b6da"
            ],
            [
             0.4,
             "#fde0ef"
            ],
            [
             0.5,
             "#f7f7f7"
            ],
            [
             0.6,
             "#e6f5d0"
            ],
            [
             0.7,
             "#b8e186"
            ],
            [
             0.8,
             "#7fbc41"
            ],
            [
             0.9,
             "#4d9221"
            ],
            [
             1,
             "#276419"
            ]
           ],
           "sequential": [
            [
             0,
             "#0d0887"
            ],
            [
             0.1111111111111111,
             "#46039f"
            ],
            [
             0.2222222222222222,
             "#7201a8"
            ],
            [
             0.3333333333333333,
             "#9c179e"
            ],
            [
             0.4444444444444444,
             "#bd3786"
            ],
            [
             0.5555555555555556,
             "#d8576b"
            ],
            [
             0.6666666666666666,
             "#ed7953"
            ],
            [
             0.7777777777777778,
             "#fb9f3a"
            ],
            [
             0.8888888888888888,
             "#fdca26"
            ],
            [
             1,
             "#f0f921"
            ]
           ],
           "sequentialminus": [
            [
             0,
             "#0d0887"
            ],
            [
             0.1111111111111111,
             "#46039f"
            ],
            [
             0.2222222222222222,
             "#7201a8"
            ],
            [
             0.3333333333333333,
             "#9c179e"
            ],
            [
             0.4444444444444444,
             "#bd3786"
            ],
            [
             0.5555555555555556,
             "#d8576b"
            ],
            [
             0.6666666666666666,
             "#ed7953"
            ],
            [
             0.7777777777777778,
             "#fb9f3a"
            ],
            [
             0.8888888888888888,
             "#fdca26"
            ],
            [
             1,
             "#f0f921"
            ]
           ]
          },
          "colorway": [
           "#636efa",
           "#EF553B",
           "#00cc96",
           "#ab63fa",
           "#FFA15A",
           "#19d3f3",
           "#FF6692",
           "#B6E880",
           "#FF97FF",
           "#FECB52"
          ],
          "font": {
           "color": "#2a3f5f"
          },
          "geo": {
           "bgcolor": "white",
           "lakecolor": "white",
           "landcolor": "#E5ECF6",
           "showlakes": true,
           "showland": true,
           "subunitcolor": "white"
          },
          "hoverlabel": {
           "align": "left"
          },
          "hovermode": "closest",
          "mapbox": {
           "style": "light"
          },
          "paper_bgcolor": "white",
          "plot_bgcolor": "#E5ECF6",
          "polar": {
           "angularaxis": {
            "gridcolor": "white",
            "linecolor": "white",
            "ticks": ""
           },
           "bgcolor": "#E5ECF6",
           "radialaxis": {
            "gridcolor": "white",
            "linecolor": "white",
            "ticks": ""
           }
          },
          "scene": {
           "xaxis": {
            "backgroundcolor": "#E5ECF6",
            "gridcolor": "white",
            "gridwidth": 2,
            "linecolor": "white",
            "showbackground": true,
            "ticks": "",
            "zerolinecolor": "white"
           },
           "yaxis": {
            "backgroundcolor": "#E5ECF6",
            "gridcolor": "white",
            "gridwidth": 2,
            "linecolor": "white",
            "showbackground": true,
            "ticks": "",
            "zerolinecolor": "white"
           },
           "zaxis": {
            "backgroundcolor": "#E5ECF6",
            "gridcolor": "white",
            "gridwidth": 2,
            "linecolor": "white",
            "showbackground": true,
            "ticks": "",
            "zerolinecolor": "white"
           }
          },
          "shapedefaults": {
           "line": {
            "color": "#2a3f5f"
           }
          },
          "ternary": {
           "aaxis": {
            "gridcolor": "white",
            "linecolor": "white",
            "ticks": ""
           },
           "baxis": {
            "gridcolor": "white",
            "linecolor": "white",
            "ticks": ""
           },
           "bgcolor": "#E5ECF6",
           "caxis": {
            "gridcolor": "white",
            "linecolor": "white",
            "ticks": ""
           }
          },
          "title": {
           "x": 0.05
          },
          "xaxis": {
           "automargin": true,
           "gridcolor": "white",
           "linecolor": "white",
           "ticks": "",
           "title": {
            "standoff": 15
           },
           "zerolinecolor": "white",
           "zerolinewidth": 2
          },
          "yaxis": {
           "automargin": true,
           "gridcolor": "white",
           "linecolor": "white",
           "ticks": "",
           "title": {
            "standoff": 15
           },
           "zerolinecolor": "white",
           "zerolinewidth": 2
          }
         }
        },
        "title": {
         "font": {
          "size": 16
         },
         "text": "Simplified Funding Agencies Collaboration Network"
        },
        "xaxis": {
         "showgrid": false,
         "zeroline": false
        },
        "yaxis": {
         "showgrid": false,
         "zeroline": false
        }
       }
      }
     },
     "metadata": {},
     "output_type": "display_data"
    },
    {
     "name": "stdout",
     "output_type": "stream",
     "text": [
      "Graph saved as funding_agencies_network_with_labels.html\n",
      "Number of nodes (funding agencies): 19\n",
      "Number of edges (collaborations): 135\n"
     ]
    }
   ],
   "source": [
    "# Function to clean and preprocess funding agency data\n",
    "def preprocess_funding_agencies(data, column_name='Funding Agencies'):\n",
    "    data[column_name] = data[column_name].fillna('')\n",
    "    funding_agencies = data[column_name].str.split(',').explode().str.strip().dropna()\n",
    "    return funding_agencies\n",
    "\n",
    "# Function to count and filter the top N funding agencies\n",
    "def get_top_agencies(funding_agencies, top_n=10):\n",
    "    agency_count = funding_agencies.value_counts()\n",
    "    top_agencies = agency_count.head(top_n).index\n",
    "    return top_agencies\n",
    "\n",
    "# Function to create edges for the network graph\n",
    "def create_edges(data, column_name, top_agencies=None):\n",
    "    edges = set()  # Using a set to avoid duplicate pairs\n",
    "    # Ensure top_agencies is a list\n",
    "    if top_agencies is not None and isinstance(top_agencies, pd.Index):\n",
    "        top_agencies = top_agencies.tolist()\n",
    "        \n",
    "    for _, row in data.iterrows():\n",
    "        agencies = row[column_name]\n",
    "        if pd.notna(agencies) and agencies != '':\n",
    "            agencies_list = [agency.strip() for agency in agencies.split(',')]\n",
    "            # Filter to only include top agencies if provided\n",
    "            if top_agencies:\n",
    "                agencies_list = [agency for agency in agencies_list if agency in top_agencies]\n",
    "            # Create pairs only from filtered agencies\n",
    "            if len(agencies_list) > 1:\n",
    "                for i in range(len(agencies_list)):\n",
    "                    for j in range(i + 1, len(agencies_list)):\n",
    "                        edge = tuple(sorted([agencies_list[i], agencies_list[j]]))\n",
    "                        edges.add(edge)\n",
    "    return list(edges)\n",
    "\n",
    "# Function to create a network graph and calculate node positions\n",
    "def build_graph(edges):\n",
    "    G = nx.Graph()\n",
    "    G.add_edges_from(edges)\n",
    "    pos = nx.spring_layout(G, k=0.15, iterations=20)\n",
    "    return G, pos\n",
    "\n",
    "# Function to prepare Plotly traces for visualization\n",
    "def prepare_traces(G, pos):\n",
    "    # Prepare edges\n",
    "    edge_x, edge_y = [], []\n",
    "    for edge in G.edges():\n",
    "        x0, y0 = pos[edge[0]]\n",
    "        x1, y1 = pos[edge[1]]\n",
    "        edge_x.append(x0)\n",
    "        edge_x.append(x1)\n",
    "        edge_y.append(y0)\n",
    "        edge_y.append(y1)\n",
    "    \n",
    "    edge_trace = go.Scatter(\n",
    "        x=edge_x, y=edge_y,\n",
    "        line=dict(width=0.5, color='gray'),\n",
    "        hoverinfo='none',\n",
    "        mode='lines'\n",
    "    )\n",
    "    \n",
    "    # Prepare nodes\n",
    "    node_x, node_y = [], []\n",
    "    for node in G.nodes():\n",
    "        x, y = pos[node]\n",
    "        node_x.append(x)\n",
    "        node_y.append(y)\n",
    "    \n",
    "    node_trace = go.Scatter(\n",
    "        x=node_x, y=node_y,\n",
    "        mode='markers+text',\n",
    "        hoverinfo='text',\n",
    "        textposition='bottom center',\n",
    "        marker=dict(\n",
    "            showscale=True,\n",
    "            colorscale='YlGnBu',\n",
    "            size=[G.degree(node) * 2 for node in G.nodes()],\n",
    "            colorbar=dict(\n",
    "                thickness=100,\n",
    "                title='Node Connections',\n",
    "                xanchor='left',\n",
    "                titleside='right'\n",
    "            )\n",
    "        )\n",
    "    )\n",
    "    # Add node labels to hoverinfo\n",
    "    node_text = [f\"{node} ({G.degree(node)} connections)\" for node in G.nodes()]\n",
    "    node_trace.marker.color = [G.degree(node) for node in G.nodes()]\n",
    "    node_trace.text = node_text\n",
    "    \n",
    "    return edge_trace, node_trace\n",
    "\n",
    "# Function to create and display/save the graph\n",
    "def visualize_network(edge_trace, node_trace, output_file=\"funding_agencies_network_with_labels.html\"):\n",
    "    fig = go.Figure(\n",
    "        data=[edge_trace, node_trace],\n",
    "        layout=go.Layout(\n",
    "            title='Simplified Funding Agencies Collaboration Network',\n",
    "            titlefont_size=16,\n",
    "            showlegend=False,\n",
    "            hovermode='closest',\n",
    "            xaxis=dict(showgrid=False, zeroline=False),\n",
    "            yaxis=dict(showgrid=False, zeroline=False)\n",
    "        )\n",
    "    )\n",
    "    # fig.write_html(output_file)\n",
    "    fig.show()\n",
    "    print(f\"Graph saved as {output_file}\")\n",
    "\n",
    "# Main function to execute the workflow\n",
    "def main(data, column_name='Funding Agencies', top_n=10, output_file=\"funding_agencies_network_with_labels.html\"):\n",
    "    # Step 1: Preprocess data\n",
    "    funding_agencies = preprocess_funding_agencies(data, column_name)\n",
    "    \n",
    "    # Step 2: Get top N agencies\n",
    "    top_agencies = get_top_agencies(funding_agencies, top_n)\n",
    "    \n",
    "    # Step 3: Create edges\n",
    "    edges = create_edges(data, column_name, top_agencies)\n",
    "    \n",
    "    # Step 4: Build graph\n",
    "    G, pos = build_graph(edges)\n",
    "    \n",
    "    # Step 5: Prepare Plotly traces\n",
    "    edge_trace, node_trace = prepare_traces(G, pos)\n",
    "    \n",
    "    # Step 6: Visualize network\n",
    "    visualize_network(edge_trace, node_trace, output_file)\n",
    "    \n",
    "    # Optional: Print summary stats\n",
    "    print(f\"Number of nodes (funding agencies): {len(G.nodes())}\")\n",
    "    print(f\"Number of edges (collaborations): {len(G.edges())}\")\n",
    "\n",
    "# Example usage (assuming `data` is your DataFrame)\n",
    "main(data, column_name='Funding Agencies', top_n=20)\n"
   ]
  },
  {
   "cell_type": "code",
   "execution_count": 8,
   "metadata": {},
   "outputs": [
    {
     "data": {
      "application/vnd.plotly.v1+json": {
       "config": {
        "plotlyServerURL": "https://plot.ly"
       },
       "data": [
        {
         "alignmentgroup": "True",
         "hovertemplate": "Funding Agency=%{x}<br>Co-occurrence Count=%{marker.color}<extra></extra>",
         "legendgroup": "",
         "marker": {
          "color": [
           1095,
           862,
           668,
           560,
           555,
           404,
           333,
           304,
           296,
           295
          ],
          "coloraxis": "coloraxis",
          "pattern": {
           "shape": ""
          }
         },
         "name": "",
         "offsetgroup": "",
         "orientation": "v",
         "showlegend": false,
         "textposition": "auto",
         "type": "bar",
         "x": [
          "Thailand Research Fund",
          "National Research Council of Thailand",
          "Second Century Fund",
          "Faculty of Medicine",
          "Ratchadaphiseksomphot Endowment Fund",
          "NSTDA",
          "National Science and Technology Development Agency",
          "Ratchadapisek Sompoch Endowment Fund",
          "European Research Council",
          "CNRS"
         ],
         "xaxis": "x",
         "y": [
          1095,
          862,
          668,
          560,
          555,
          404,
          333,
          304,
          296,
          295
         ],
         "yaxis": "y"
        }
       ],
       "layout": {
        "barmode": "relative",
        "coloraxis": {
         "colorbar": {
          "title": {
           "text": "Co-occurrence Count"
          }
         },
         "colorscale": [
          [
           0,
           "#440154"
          ],
          [
           0.1111111111111111,
           "#482878"
          ],
          [
           0.2222222222222222,
           "#3e4989"
          ],
          [
           0.3333333333333333,
           "#31688e"
          ],
          [
           0.4444444444444444,
           "#26828e"
          ],
          [
           0.5555555555555556,
           "#1f9e89"
          ],
          [
           0.6666666666666666,
           "#35b779"
          ],
          [
           0.7777777777777778,
           "#6ece58"
          ],
          [
           0.8888888888888888,
           "#b5de2b"
          ],
          [
           1,
           "#fde725"
          ]
         ]
        },
        "legend": {
         "tracegroupgap": 0
        },
        "template": {
         "data": {
          "bar": [
           {
            "error_x": {
             "color": "#2a3f5f"
            },
            "error_y": {
             "color": "#2a3f5f"
            },
            "marker": {
             "line": {
              "color": "#E5ECF6",
              "width": 0.5
             },
             "pattern": {
              "fillmode": "overlay",
              "size": 10,
              "solidity": 0.2
             }
            },
            "type": "bar"
           }
          ],
          "barpolar": [
           {
            "marker": {
             "line": {
              "color": "#E5ECF6",
              "width": 0.5
             },
             "pattern": {
              "fillmode": "overlay",
              "size": 10,
              "solidity": 0.2
             }
            },
            "type": "barpolar"
           }
          ],
          "carpet": [
           {
            "aaxis": {
             "endlinecolor": "#2a3f5f",
             "gridcolor": "white",
             "linecolor": "white",
             "minorgridcolor": "white",
             "startlinecolor": "#2a3f5f"
            },
            "baxis": {
             "endlinecolor": "#2a3f5f",
             "gridcolor": "white",
             "linecolor": "white",
             "minorgridcolor": "white",
             "startlinecolor": "#2a3f5f"
            },
            "type": "carpet"
           }
          ],
          "choropleth": [
           {
            "colorbar": {
             "outlinewidth": 0,
             "ticks": ""
            },
            "type": "choropleth"
           }
          ],
          "contour": [
           {
            "colorbar": {
             "outlinewidth": 0,
             "ticks": ""
            },
            "colorscale": [
             [
              0,
              "#0d0887"
             ],
             [
              0.1111111111111111,
              "#46039f"
             ],
             [
              0.2222222222222222,
              "#7201a8"
             ],
             [
              0.3333333333333333,
              "#9c179e"
             ],
             [
              0.4444444444444444,
              "#bd3786"
             ],
             [
              0.5555555555555556,
              "#d8576b"
             ],
             [
              0.6666666666666666,
              "#ed7953"
             ],
             [
              0.7777777777777778,
              "#fb9f3a"
             ],
             [
              0.8888888888888888,
              "#fdca26"
             ],
             [
              1,
              "#f0f921"
             ]
            ],
            "type": "contour"
           }
          ],
          "contourcarpet": [
           {
            "colorbar": {
             "outlinewidth": 0,
             "ticks": ""
            },
            "type": "contourcarpet"
           }
          ],
          "heatmap": [
           {
            "colorbar": {
             "outlinewidth": 0,
             "ticks": ""
            },
            "colorscale": [
             [
              0,
              "#0d0887"
             ],
             [
              0.1111111111111111,
              "#46039f"
             ],
             [
              0.2222222222222222,
              "#7201a8"
             ],
             [
              0.3333333333333333,
              "#9c179e"
             ],
             [
              0.4444444444444444,
              "#bd3786"
             ],
             [
              0.5555555555555556,
              "#d8576b"
             ],
             [
              0.6666666666666666,
              "#ed7953"
             ],
             [
              0.7777777777777778,
              "#fb9f3a"
             ],
             [
              0.8888888888888888,
              "#fdca26"
             ],
             [
              1,
              "#f0f921"
             ]
            ],
            "type": "heatmap"
           }
          ],
          "heatmapgl": [
           {
            "colorbar": {
             "outlinewidth": 0,
             "ticks": ""
            },
            "colorscale": [
             [
              0,
              "#0d0887"
             ],
             [
              0.1111111111111111,
              "#46039f"
             ],
             [
              0.2222222222222222,
              "#7201a8"
             ],
             [
              0.3333333333333333,
              "#9c179e"
             ],
             [
              0.4444444444444444,
              "#bd3786"
             ],
             [
              0.5555555555555556,
              "#d8576b"
             ],
             [
              0.6666666666666666,
              "#ed7953"
             ],
             [
              0.7777777777777778,
              "#fb9f3a"
             ],
             [
              0.8888888888888888,
              "#fdca26"
             ],
             [
              1,
              "#f0f921"
             ]
            ],
            "type": "heatmapgl"
           }
          ],
          "histogram": [
           {
            "marker": {
             "pattern": {
              "fillmode": "overlay",
              "size": 10,
              "solidity": 0.2
             }
            },
            "type": "histogram"
           }
          ],
          "histogram2d": [
           {
            "colorbar": {
             "outlinewidth": 0,
             "ticks": ""
            },
            "colorscale": [
             [
              0,
              "#0d0887"
             ],
             [
              0.1111111111111111,
              "#46039f"
             ],
             [
              0.2222222222222222,
              "#7201a8"
             ],
             [
              0.3333333333333333,
              "#9c179e"
             ],
             [
              0.4444444444444444,
              "#bd3786"
             ],
             [
              0.5555555555555556,
              "#d8576b"
             ],
             [
              0.6666666666666666,
              "#ed7953"
             ],
             [
              0.7777777777777778,
              "#fb9f3a"
             ],
             [
              0.8888888888888888,
              "#fdca26"
             ],
             [
              1,
              "#f0f921"
             ]
            ],
            "type": "histogram2d"
           }
          ],
          "histogram2dcontour": [
           {
            "colorbar": {
             "outlinewidth": 0,
             "ticks": ""
            },
            "colorscale": [
             [
              0,
              "#0d0887"
             ],
             [
              0.1111111111111111,
              "#46039f"
             ],
             [
              0.2222222222222222,
              "#7201a8"
             ],
             [
              0.3333333333333333,
              "#9c179e"
             ],
             [
              0.4444444444444444,
              "#bd3786"
             ],
             [
              0.5555555555555556,
              "#d8576b"
             ],
             [
              0.6666666666666666,
              "#ed7953"
             ],
             [
              0.7777777777777778,
              "#fb9f3a"
             ],
             [
              0.8888888888888888,
              "#fdca26"
             ],
             [
              1,
              "#f0f921"
             ]
            ],
            "type": "histogram2dcontour"
           }
          ],
          "mesh3d": [
           {
            "colorbar": {
             "outlinewidth": 0,
             "ticks": ""
            },
            "type": "mesh3d"
           }
          ],
          "parcoords": [
           {
            "line": {
             "colorbar": {
              "outlinewidth": 0,
              "ticks": ""
             }
            },
            "type": "parcoords"
           }
          ],
          "pie": [
           {
            "automargin": true,
            "type": "pie"
           }
          ],
          "scatter": [
           {
            "fillpattern": {
             "fillmode": "overlay",
             "size": 10,
             "solidity": 0.2
            },
            "type": "scatter"
           }
          ],
          "scatter3d": [
           {
            "line": {
             "colorbar": {
              "outlinewidth": 0,
              "ticks": ""
             }
            },
            "marker": {
             "colorbar": {
              "outlinewidth": 0,
              "ticks": ""
             }
            },
            "type": "scatter3d"
           }
          ],
          "scattercarpet": [
           {
            "marker": {
             "colorbar": {
              "outlinewidth": 0,
              "ticks": ""
             }
            },
            "type": "scattercarpet"
           }
          ],
          "scattergeo": [
           {
            "marker": {
             "colorbar": {
              "outlinewidth": 0,
              "ticks": ""
             }
            },
            "type": "scattergeo"
           }
          ],
          "scattergl": [
           {
            "marker": {
             "colorbar": {
              "outlinewidth": 0,
              "ticks": ""
             }
            },
            "type": "scattergl"
           }
          ],
          "scattermapbox": [
           {
            "marker": {
             "colorbar": {
              "outlinewidth": 0,
              "ticks": ""
             }
            },
            "type": "scattermapbox"
           }
          ],
          "scatterpolar": [
           {
            "marker": {
             "colorbar": {
              "outlinewidth": 0,
              "ticks": ""
             }
            },
            "type": "scatterpolar"
           }
          ],
          "scatterpolargl": [
           {
            "marker": {
             "colorbar": {
              "outlinewidth": 0,
              "ticks": ""
             }
            },
            "type": "scatterpolargl"
           }
          ],
          "scatterternary": [
           {
            "marker": {
             "colorbar": {
              "outlinewidth": 0,
              "ticks": ""
             }
            },
            "type": "scatterternary"
           }
          ],
          "surface": [
           {
            "colorbar": {
             "outlinewidth": 0,
             "ticks": ""
            },
            "colorscale": [
             [
              0,
              "#0d0887"
             ],
             [
              0.1111111111111111,
              "#46039f"
             ],
             [
              0.2222222222222222,
              "#7201a8"
             ],
             [
              0.3333333333333333,
              "#9c179e"
             ],
             [
              0.4444444444444444,
              "#bd3786"
             ],
             [
              0.5555555555555556,
              "#d8576b"
             ],
             [
              0.6666666666666666,
              "#ed7953"
             ],
             [
              0.7777777777777778,
              "#fb9f3a"
             ],
             [
              0.8888888888888888,
              "#fdca26"
             ],
             [
              1,
              "#f0f921"
             ]
            ],
            "type": "surface"
           }
          ],
          "table": [
           {
            "cells": {
             "fill": {
              "color": "#EBF0F8"
             },
             "line": {
              "color": "white"
             }
            },
            "header": {
             "fill": {
              "color": "#C8D4E3"
             },
             "line": {
              "color": "white"
             }
            },
            "type": "table"
           }
          ]
         },
         "layout": {
          "annotationdefaults": {
           "arrowcolor": "#2a3f5f",
           "arrowhead": 0,
           "arrowwidth": 1
          },
          "autotypenumbers": "strict",
          "coloraxis": {
           "colorbar": {
            "outlinewidth": 0,
            "ticks": ""
           }
          },
          "colorscale": {
           "diverging": [
            [
             0,
             "#8e0152"
            ],
            [
             0.1,
             "#c51b7d"
            ],
            [
             0.2,
             "#de77ae"
            ],
            [
             0.3,
             "#f1b6da"
            ],
            [
             0.4,
             "#fde0ef"
            ],
            [
             0.5,
             "#f7f7f7"
            ],
            [
             0.6,
             "#e6f5d0"
            ],
            [
             0.7,
             "#b8e186"
            ],
            [
             0.8,
             "#7fbc41"
            ],
            [
             0.9,
             "#4d9221"
            ],
            [
             1,
             "#276419"
            ]
           ],
           "sequential": [
            [
             0,
             "#0d0887"
            ],
            [
             0.1111111111111111,
             "#46039f"
            ],
            [
             0.2222222222222222,
             "#7201a8"
            ],
            [
             0.3333333333333333,
             "#9c179e"
            ],
            [
             0.4444444444444444,
             "#bd3786"
            ],
            [
             0.5555555555555556,
             "#d8576b"
            ],
            [
             0.6666666666666666,
             "#ed7953"
            ],
            [
             0.7777777777777778,
             "#fb9f3a"
            ],
            [
             0.8888888888888888,
             "#fdca26"
            ],
            [
             1,
             "#f0f921"
            ]
           ],
           "sequentialminus": [
            [
             0,
             "#0d0887"
            ],
            [
             0.1111111111111111,
             "#46039f"
            ],
            [
             0.2222222222222222,
             "#7201a8"
            ],
            [
             0.3333333333333333,
             "#9c179e"
            ],
            [
             0.4444444444444444,
             "#bd3786"
            ],
            [
             0.5555555555555556,
             "#d8576b"
            ],
            [
             0.6666666666666666,
             "#ed7953"
            ],
            [
             0.7777777777777778,
             "#fb9f3a"
            ],
            [
             0.8888888888888888,
             "#fdca26"
            ],
            [
             1,
             "#f0f921"
            ]
           ]
          },
          "colorway": [
           "#636efa",
           "#EF553B",
           "#00cc96",
           "#ab63fa",
           "#FFA15A",
           "#19d3f3",
           "#FF6692",
           "#B6E880",
           "#FF97FF",
           "#FECB52"
          ],
          "font": {
           "color": "#2a3f5f"
          },
          "geo": {
           "bgcolor": "white",
           "lakecolor": "white",
           "landcolor": "#E5ECF6",
           "showlakes": true,
           "showland": true,
           "subunitcolor": "white"
          },
          "hoverlabel": {
           "align": "left"
          },
          "hovermode": "closest",
          "mapbox": {
           "style": "light"
          },
          "paper_bgcolor": "white",
          "plot_bgcolor": "#E5ECF6",
          "polar": {
           "angularaxis": {
            "gridcolor": "white",
            "linecolor": "white",
            "ticks": ""
           },
           "bgcolor": "#E5ECF6",
           "radialaxis": {
            "gridcolor": "white",
            "linecolor": "white",
            "ticks": ""
           }
          },
          "scene": {
           "xaxis": {
            "backgroundcolor": "#E5ECF6",
            "gridcolor": "white",
            "gridwidth": 2,
            "linecolor": "white",
            "showbackground": true,
            "ticks": "",
            "zerolinecolor": "white"
           },
           "yaxis": {
            "backgroundcolor": "#E5ECF6",
            "gridcolor": "white",
            "gridwidth": 2,
            "linecolor": "white",
            "showbackground": true,
            "ticks": "",
            "zerolinecolor": "white"
           },
           "zaxis": {
            "backgroundcolor": "#E5ECF6",
            "gridcolor": "white",
            "gridwidth": 2,
            "linecolor": "white",
            "showbackground": true,
            "ticks": "",
            "zerolinecolor": "white"
           }
          },
          "shapedefaults": {
           "line": {
            "color": "#2a3f5f"
           }
          },
          "ternary": {
           "aaxis": {
            "gridcolor": "white",
            "linecolor": "white",
            "ticks": ""
           },
           "baxis": {
            "gridcolor": "white",
            "linecolor": "white",
            "ticks": ""
           },
           "bgcolor": "#E5ECF6",
           "caxis": {
            "gridcolor": "white",
            "linecolor": "white",
            "ticks": ""
           }
          },
          "title": {
           "x": 0.05
          },
          "xaxis": {
           "automargin": true,
           "gridcolor": "white",
           "linecolor": "white",
           "ticks": "",
           "title": {
            "standoff": 15
           },
           "zerolinecolor": "white",
           "zerolinewidth": 2
          },
          "yaxis": {
           "automargin": true,
           "gridcolor": "white",
           "linecolor": "white",
           "ticks": "",
           "title": {
            "standoff": 15
           },
           "zerolinecolor": "white",
           "zerolinewidth": 2
          }
         }
        },
        "title": {
         "text": "Top 10 Funding Agencies Most Related to Chulalongkorn"
        },
        "xaxis": {
         "anchor": "y",
         "domain": [
          0,
          1
         ],
         "title": {
          "text": "Funding Agency"
         }
        },
        "yaxis": {
         "anchor": "x",
         "domain": [
          0,
          1
         ],
         "title": {
          "text": "Co-occurrence Count"
         }
        }
       }
      }
     },
     "metadata": {},
     "output_type": "display_data"
    },
    {
     "data": {
      "text/plain": [
       "Funding Agencies\n",
       "                                                                  6271\n",
       "Chulalongkorn University                                          1321\n",
       "Thailand Research Fund                                             209\n",
       "Chulalongkorn University,Thailand Research Fund                    157\n",
       "Second Century Fund,Chulalongkorn University                       128\n",
       "Ratchadaphiseksomphot Endowment Fund,Chulalongkorn University      115\n",
       "National Research Council of Thailand                              102\n",
       "Chulalongkorn University,National Research Council of Thailand      83\n",
       "Ratchadapisek Sompoch Endowment Fund,Chulalongkorn University       66\n",
       "Mahidol University                                                  52\n",
       "Name: count, dtype: int64"
      ]
     },
     "execution_count": 8,
     "metadata": {},
     "output_type": "execute_result"
    }
   ],
   "source": [
    "# Function to filter rows containing a specific keyword in the Funding Agencies column\n",
    "def filter_by_funding_agency(data, keyword, column_name='Funding Agencies'):\n",
    "    return data[data[column_name].str.contains(keyword, case=False, na=False)]\n",
    "\n",
    "# Function to extract co-occurring funding agencies (excluding a specific keyword)\n",
    "def extract_co_occurring_agencies(filtered_data, keyword, column_name='Funding Agencies'):\n",
    "    co_occurring_agencies = []\n",
    "    for _, row in filtered_data.iterrows():\n",
    "        agencies = row[column_name].split(',')\n",
    "        # Exclude the keyword from the agency list\n",
    "        agencies = [agency.strip() for agency in agencies if keyword.lower() not in agency.lower()]\n",
    "        co_occurring_agencies.extend(agencies)\n",
    "    return co_occurring_agencies\n",
    "\n",
    "# Function to count the frequency of co-occurring agencies\n",
    "def count_co_occurrences(co_occurring_agencies):\n",
    "    return Counter(co_occurring_agencies)\n",
    "\n",
    "# Function to prepare a DataFrame for visualization\n",
    "def prepare_top_agencies_df(co_occurrence_count, top_n):\n",
    "    top_co_occurring_agencies = co_occurrence_count.most_common(top_n)\n",
    "    return pd.DataFrame(top_co_occurring_agencies, columns=['Agency', 'Count'])\n",
    "\n",
    "# Function to create a bar plot using Plotly\n",
    "def plot_top_agencies(top_agencies_df, top_n, keyword):\n",
    "    fig = px.bar(\n",
    "        top_agencies_df, \n",
    "        x='Agency', \n",
    "        y='Count',\n",
    "        title=f\"Top {top_n} Funding Agencies Most Related to {keyword}\",\n",
    "        labels={'Agency': 'Funding Agency', 'Count': 'Co-occurrence Count'},\n",
    "        color='Count', \n",
    "        color_continuous_scale='Viridis'\n",
    "    )\n",
    "    fig.show()\n",
    "\n",
    "# Renamed main function for workflow execution\n",
    "def analyze_funding_agencies(data, keyword='Chulalongkorn', column_name='Funding Agencies', top_n=10):\n",
    "    # Step 1: Filter data by keyword\n",
    "    filtered_data = filter_by_funding_agency(data, keyword, column_name)\n",
    "    \n",
    "    # Step 2: Extract co-occurring agencies\n",
    "    co_occurring_agencies = extract_co_occurring_agencies(filtered_data, keyword, column_name)\n",
    "    \n",
    "    # Step 3: Count co-occurrence frequencies\n",
    "    co_occurrence_count = count_co_occurrences(co_occurring_agencies)\n",
    "    \n",
    "    # Step 4: Prepare a DataFrame for the top N agencies\n",
    "    top_agencies_df = prepare_top_agencies_df(co_occurrence_count, top_n)\n",
    "    \n",
    "    # Step 5: Plot the results\n",
    "    plot_top_agencies(top_agencies_df, top_n, keyword)\n",
    "\n",
    "# Example usage (assuming `data` is your DataFrame)\n",
    "analyze_funding_agencies(data, keyword='Chulalongkorn', column_name='Funding Agencies', top_n=10)\n",
    "data['Funding Agencies'].value_counts().head(10)\n"
   ]
  },
  {
   "cell_type": "code",
   "execution_count": 9,
   "metadata": {},
   "outputs": [],
   "source": [
    "funding_counts = data['Funding Agencies'].value_counts().head(10)"
   ]
  },
  {
   "cell_type": "code",
   "execution_count": 10,
   "metadata": {},
   "outputs": [
    {
     "data": {
      "text/plain": [
       "Funding Agencies\n",
       "                                                                  6271\n",
       "Chulalongkorn University                                          1321\n",
       "Thailand Research Fund                                             209\n",
       "Chulalongkorn University,Thailand Research Fund                    157\n",
       "Second Century Fund,Chulalongkorn University                       128\n",
       "Ratchadaphiseksomphot Endowment Fund,Chulalongkorn University      115\n",
       "National Research Council of Thailand                              102\n",
       "Chulalongkorn University,National Research Council of Thailand      83\n",
       "Ratchadapisek Sompoch Endowment Fund,Chulalongkorn University       66\n",
       "Mahidol University                                                  52\n",
       "Name: count, dtype: int64"
      ]
     },
     "execution_count": 10,
     "metadata": {},
     "output_type": "execute_result"
    }
   ],
   "source": [
    "funding_counts"
   ]
  },
  {
   "cell_type": "code",
   "execution_count": 11,
   "metadata": {},
   "outputs": [
    {
     "data": {
      "text/plain": [
       "0        Department of Preventive and Social Medicine,F...\n",
       "1        Department of Electrical Engineering,Wireless ...\n",
       "2        Center of Excellence in Catalysis and Catalyti...\n",
       "3        Department of Chemistry,Faculty of Science and...\n",
       "4        Program in Petrochemistry,Faculty of Science,C...\n",
       "                               ...                        \n",
       "20168    Department of Chemistry,Faculty of Science,Chu...\n",
       "20169    Centre for Education and International Develop...\n",
       "20170    Program of Fisheries Science,Faculty of Interd...\n",
       "20171    Faculty of Applied Science and Center for Prof...\n",
       "20172    Metallurgy and Materials Science Research Inst...\n",
       "Name: Organizations, Length: 20173, dtype: object"
      ]
     },
     "execution_count": 11,
     "metadata": {},
     "output_type": "execute_result"
    }
   ],
   "source": [
    "data['Organizations']"
   ]
  },
  {
   "cell_type": "markdown",
   "metadata": {},
   "source": [
    "## Article per year"
   ]
  },
  {
   "cell_type": "code",
   "execution_count": 12,
   "metadata": {},
   "outputs": [
    {
     "data": {
      "application/vnd.plotly.v1+json": {
       "config": {
        "plotlyServerURL": "https://plot.ly"
       },
       "data": [
        {
         "hovertemplate": "variable=0<br>Year=%{x}<br>value=%{y}<extra></extra>",
         "legendgroup": "0",
         "line": {
          "color": "#636efa",
          "dash": "solid"
         },
         "marker": {
          "symbol": "circle"
         },
         "mode": "lines",
         "name": "0",
         "orientation": "v",
         "showlegend": true,
         "type": "scatter",
         "x": [
          2018,
          2019,
          2020,
          2021,
          2022,
          2023
         ],
         "xaxis": "x",
         "y": [
          2784,
          3075,
          3385,
          3805,
          4236,
          2888
         ],
         "yaxis": "y"
        }
       ],
       "layout": {
        "annotations": [
         {
          "showarrow": false,
          "text": "Pandemic Year",
          "x": 2020,
          "xanchor": "left",
          "xref": "x",
          "y": 1,
          "yanchor": "top",
          "yref": "y domain"
         }
        ],
        "legend": {
         "title": {
          "text": "variable"
         },
         "tracegroupgap": 0
        },
        "shapes": [
         {
          "line": {
           "color": "purple",
           "dash": "dash",
           "width": 2
          },
          "type": "line",
          "x0": 2020,
          "x1": 2020,
          "xref": "x",
          "y0": 0,
          "y1": 1,
          "yref": "y domain"
         }
        ],
        "template": {
         "data": {
          "bar": [
           {
            "error_x": {
             "color": "#2a3f5f"
            },
            "error_y": {
             "color": "#2a3f5f"
            },
            "marker": {
             "line": {
              "color": "#E5ECF6",
              "width": 0.5
             },
             "pattern": {
              "fillmode": "overlay",
              "size": 10,
              "solidity": 0.2
             }
            },
            "type": "bar"
           }
          ],
          "barpolar": [
           {
            "marker": {
             "line": {
              "color": "#E5ECF6",
              "width": 0.5
             },
             "pattern": {
              "fillmode": "overlay",
              "size": 10,
              "solidity": 0.2
             }
            },
            "type": "barpolar"
           }
          ],
          "carpet": [
           {
            "aaxis": {
             "endlinecolor": "#2a3f5f",
             "gridcolor": "white",
             "linecolor": "white",
             "minorgridcolor": "white",
             "startlinecolor": "#2a3f5f"
            },
            "baxis": {
             "endlinecolor": "#2a3f5f",
             "gridcolor": "white",
             "linecolor": "white",
             "minorgridcolor": "white",
             "startlinecolor": "#2a3f5f"
            },
            "type": "carpet"
           }
          ],
          "choropleth": [
           {
            "colorbar": {
             "outlinewidth": 0,
             "ticks": ""
            },
            "type": "choropleth"
           }
          ],
          "contour": [
           {
            "colorbar": {
             "outlinewidth": 0,
             "ticks": ""
            },
            "colorscale": [
             [
              0,
              "#0d0887"
             ],
             [
              0.1111111111111111,
              "#46039f"
             ],
             [
              0.2222222222222222,
              "#7201a8"
             ],
             [
              0.3333333333333333,
              "#9c179e"
             ],
             [
              0.4444444444444444,
              "#bd3786"
             ],
             [
              0.5555555555555556,
              "#d8576b"
             ],
             [
              0.6666666666666666,
              "#ed7953"
             ],
             [
              0.7777777777777778,
              "#fb9f3a"
             ],
             [
              0.8888888888888888,
              "#fdca26"
             ],
             [
              1,
              "#f0f921"
             ]
            ],
            "type": "contour"
           }
          ],
          "contourcarpet": [
           {
            "colorbar": {
             "outlinewidth": 0,
             "ticks": ""
            },
            "type": "contourcarpet"
           }
          ],
          "heatmap": [
           {
            "colorbar": {
             "outlinewidth": 0,
             "ticks": ""
            },
            "colorscale": [
             [
              0,
              "#0d0887"
             ],
             [
              0.1111111111111111,
              "#46039f"
             ],
             [
              0.2222222222222222,
              "#7201a8"
             ],
             [
              0.3333333333333333,
              "#9c179e"
             ],
             [
              0.4444444444444444,
              "#bd3786"
             ],
             [
              0.5555555555555556,
              "#d8576b"
             ],
             [
              0.6666666666666666,
              "#ed7953"
             ],
             [
              0.7777777777777778,
              "#fb9f3a"
             ],
             [
              0.8888888888888888,
              "#fdca26"
             ],
             [
              1,
              "#f0f921"
             ]
            ],
            "type": "heatmap"
           }
          ],
          "heatmapgl": [
           {
            "colorbar": {
             "outlinewidth": 0,
             "ticks": ""
            },
            "colorscale": [
             [
              0,
              "#0d0887"
             ],
             [
              0.1111111111111111,
              "#46039f"
             ],
             [
              0.2222222222222222,
              "#7201a8"
             ],
             [
              0.3333333333333333,
              "#9c179e"
             ],
             [
              0.4444444444444444,
              "#bd3786"
             ],
             [
              0.5555555555555556,
              "#d8576b"
             ],
             [
              0.6666666666666666,
              "#ed7953"
             ],
             [
              0.7777777777777778,
              "#fb9f3a"
             ],
             [
              0.8888888888888888,
              "#fdca26"
             ],
             [
              1,
              "#f0f921"
             ]
            ],
            "type": "heatmapgl"
           }
          ],
          "histogram": [
           {
            "marker": {
             "pattern": {
              "fillmode": "overlay",
              "size": 10,
              "solidity": 0.2
             }
            },
            "type": "histogram"
           }
          ],
          "histogram2d": [
           {
            "colorbar": {
             "outlinewidth": 0,
             "ticks": ""
            },
            "colorscale": [
             [
              0,
              "#0d0887"
             ],
             [
              0.1111111111111111,
              "#46039f"
             ],
             [
              0.2222222222222222,
              "#7201a8"
             ],
             [
              0.3333333333333333,
              "#9c179e"
             ],
             [
              0.4444444444444444,
              "#bd3786"
             ],
             [
              0.5555555555555556,
              "#d8576b"
             ],
             [
              0.6666666666666666,
              "#ed7953"
             ],
             [
              0.7777777777777778,
              "#fb9f3a"
             ],
             [
              0.8888888888888888,
              "#fdca26"
             ],
             [
              1,
              "#f0f921"
             ]
            ],
            "type": "histogram2d"
           }
          ],
          "histogram2dcontour": [
           {
            "colorbar": {
             "outlinewidth": 0,
             "ticks": ""
            },
            "colorscale": [
             [
              0,
              "#0d0887"
             ],
             [
              0.1111111111111111,
              "#46039f"
             ],
             [
              0.2222222222222222,
              "#7201a8"
             ],
             [
              0.3333333333333333,
              "#9c179e"
             ],
             [
              0.4444444444444444,
              "#bd3786"
             ],
             [
              0.5555555555555556,
              "#d8576b"
             ],
             [
              0.6666666666666666,
              "#ed7953"
             ],
             [
              0.7777777777777778,
              "#fb9f3a"
             ],
             [
              0.8888888888888888,
              "#fdca26"
             ],
             [
              1,
              "#f0f921"
             ]
            ],
            "type": "histogram2dcontour"
           }
          ],
          "mesh3d": [
           {
            "colorbar": {
             "outlinewidth": 0,
             "ticks": ""
            },
            "type": "mesh3d"
           }
          ],
          "parcoords": [
           {
            "line": {
             "colorbar": {
              "outlinewidth": 0,
              "ticks": ""
             }
            },
            "type": "parcoords"
           }
          ],
          "pie": [
           {
            "automargin": true,
            "type": "pie"
           }
          ],
          "scatter": [
           {
            "fillpattern": {
             "fillmode": "overlay",
             "size": 10,
             "solidity": 0.2
            },
            "type": "scatter"
           }
          ],
          "scatter3d": [
           {
            "line": {
             "colorbar": {
              "outlinewidth": 0,
              "ticks": ""
             }
            },
            "marker": {
             "colorbar": {
              "outlinewidth": 0,
              "ticks": ""
             }
            },
            "type": "scatter3d"
           }
          ],
          "scattercarpet": [
           {
            "marker": {
             "colorbar": {
              "outlinewidth": 0,
              "ticks": ""
             }
            },
            "type": "scattercarpet"
           }
          ],
          "scattergeo": [
           {
            "marker": {
             "colorbar": {
              "outlinewidth": 0,
              "ticks": ""
             }
            },
            "type": "scattergeo"
           }
          ],
          "scattergl": [
           {
            "marker": {
             "colorbar": {
              "outlinewidth": 0,
              "ticks": ""
             }
            },
            "type": "scattergl"
           }
          ],
          "scattermapbox": [
           {
            "marker": {
             "colorbar": {
              "outlinewidth": 0,
              "ticks": ""
             }
            },
            "type": "scattermapbox"
           }
          ],
          "scatterpolar": [
           {
            "marker": {
             "colorbar": {
              "outlinewidth": 0,
              "ticks": ""
             }
            },
            "type": "scatterpolar"
           }
          ],
          "scatterpolargl": [
           {
            "marker": {
             "colorbar": {
              "outlinewidth": 0,
              "ticks": ""
             }
            },
            "type": "scatterpolargl"
           }
          ],
          "scatterternary": [
           {
            "marker": {
             "colorbar": {
              "outlinewidth": 0,
              "ticks": ""
             }
            },
            "type": "scatterternary"
           }
          ],
          "surface": [
           {
            "colorbar": {
             "outlinewidth": 0,
             "ticks": ""
            },
            "colorscale": [
             [
              0,
              "#0d0887"
             ],
             [
              0.1111111111111111,
              "#46039f"
             ],
             [
              0.2222222222222222,
              "#7201a8"
             ],
             [
              0.3333333333333333,
              "#9c179e"
             ],
             [
              0.4444444444444444,
              "#bd3786"
             ],
             [
              0.5555555555555556,
              "#d8576b"
             ],
             [
              0.6666666666666666,
              "#ed7953"
             ],
             [
              0.7777777777777778,
              "#fb9f3a"
             ],
             [
              0.8888888888888888,
              "#fdca26"
             ],
             [
              1,
              "#f0f921"
             ]
            ],
            "type": "surface"
           }
          ],
          "table": [
           {
            "cells": {
             "fill": {
              "color": "#EBF0F8"
             },
             "line": {
              "color": "white"
             }
            },
            "header": {
             "fill": {
              "color": "#C8D4E3"
             },
             "line": {
              "color": "white"
             }
            },
            "type": "table"
           }
          ]
         },
         "layout": {
          "annotationdefaults": {
           "arrowcolor": "#2a3f5f",
           "arrowhead": 0,
           "arrowwidth": 1
          },
          "autotypenumbers": "strict",
          "coloraxis": {
           "colorbar": {
            "outlinewidth": 0,
            "ticks": ""
           }
          },
          "colorscale": {
           "diverging": [
            [
             0,
             "#8e0152"
            ],
            [
             0.1,
             "#c51b7d"
            ],
            [
             0.2,
             "#de77ae"
            ],
            [
             0.3,
             "#f1b6da"
            ],
            [
             0.4,
             "#fde0ef"
            ],
            [
             0.5,
             "#f7f7f7"
            ],
            [
             0.6,
             "#e6f5d0"
            ],
            [
             0.7,
             "#b8e186"
            ],
            [
             0.8,
             "#7fbc41"
            ],
            [
             0.9,
             "#4d9221"
            ],
            [
             1,
             "#276419"
            ]
           ],
           "sequential": [
            [
             0,
             "#0d0887"
            ],
            [
             0.1111111111111111,
             "#46039f"
            ],
            [
             0.2222222222222222,
             "#7201a8"
            ],
            [
             0.3333333333333333,
             "#9c179e"
            ],
            [
             0.4444444444444444,
             "#bd3786"
            ],
            [
             0.5555555555555556,
             "#d8576b"
            ],
            [
             0.6666666666666666,
             "#ed7953"
            ],
            [
             0.7777777777777778,
             "#fb9f3a"
            ],
            [
             0.8888888888888888,
             "#fdca26"
            ],
            [
             1,
             "#f0f921"
            ]
           ],
           "sequentialminus": [
            [
             0,
             "#0d0887"
            ],
            [
             0.1111111111111111,
             "#46039f"
            ],
            [
             0.2222222222222222,
             "#7201a8"
            ],
            [
             0.3333333333333333,
             "#9c179e"
            ],
            [
             0.4444444444444444,
             "#bd3786"
            ],
            [
             0.5555555555555556,
             "#d8576b"
            ],
            [
             0.6666666666666666,
             "#ed7953"
            ],
            [
             0.7777777777777778,
             "#fb9f3a"
            ],
            [
             0.8888888888888888,
             "#fdca26"
            ],
            [
             1,
             "#f0f921"
            ]
           ]
          },
          "colorway": [
           "#636efa",
           "#EF553B",
           "#00cc96",
           "#ab63fa",
           "#FFA15A",
           "#19d3f3",
           "#FF6692",
           "#B6E880",
           "#FF97FF",
           "#FECB52"
          ],
          "font": {
           "color": "#2a3f5f"
          },
          "geo": {
           "bgcolor": "white",
           "lakecolor": "white",
           "landcolor": "#E5ECF6",
           "showlakes": true,
           "showland": true,
           "subunitcolor": "white"
          },
          "hoverlabel": {
           "align": "left"
          },
          "hovermode": "closest",
          "mapbox": {
           "style": "light"
          },
          "paper_bgcolor": "white",
          "plot_bgcolor": "#E5ECF6",
          "polar": {
           "angularaxis": {
            "gridcolor": "white",
            "linecolor": "white",
            "ticks": ""
           },
           "bgcolor": "#E5ECF6",
           "radialaxis": {
            "gridcolor": "white",
            "linecolor": "white",
            "ticks": ""
           }
          },
          "scene": {
           "xaxis": {
            "backgroundcolor": "#E5ECF6",
            "gridcolor": "white",
            "gridwidth": 2,
            "linecolor": "white",
            "showbackground": true,
            "ticks": "",
            "zerolinecolor": "white"
           },
           "yaxis": {
            "backgroundcolor": "#E5ECF6",
            "gridcolor": "white",
            "gridwidth": 2,
            "linecolor": "white",
            "showbackground": true,
            "ticks": "",
            "zerolinecolor": "white"
           },
           "zaxis": {
            "backgroundcolor": "#E5ECF6",
            "gridcolor": "white",
            "gridwidth": 2,
            "linecolor": "white",
            "showbackground": true,
            "ticks": "",
            "zerolinecolor": "white"
           }
          },
          "shapedefaults": {
           "line": {
            "color": "#2a3f5f"
           }
          },
          "ternary": {
           "aaxis": {
            "gridcolor": "white",
            "linecolor": "white",
            "ticks": ""
           },
           "baxis": {
            "gridcolor": "white",
            "linecolor": "white",
            "ticks": ""
           },
           "bgcolor": "#E5ECF6",
           "caxis": {
            "gridcolor": "white",
            "linecolor": "white",
            "ticks": ""
           }
          },
          "title": {
           "x": 0.05
          },
          "xaxis": {
           "automargin": true,
           "gridcolor": "white",
           "linecolor": "white",
           "ticks": "",
           "title": {
            "standoff": 15
           },
           "zerolinecolor": "white",
           "zerolinewidth": 2
          },
          "yaxis": {
           "automargin": true,
           "gridcolor": "white",
           "linecolor": "white",
           "ticks": "",
           "title": {
            "standoff": 15
           },
           "zerolinecolor": "white",
           "zerolinewidth": 2
          }
         }
        },
        "title": {
         "text": "Number of Articles Published per Year"
        },
        "xaxis": {
         "anchor": "y",
         "domain": [
          0,
          1
         ],
         "title": {
          "text": "Year"
         }
        },
        "yaxis": {
         "anchor": "x",
         "domain": [
          0,
          1
         ],
         "title": {
          "text": "value"
         }
        }
       }
      }
     },
     "metadata": {},
     "output_type": "display_data"
    }
   ],
   "source": [
    "\n",
    "def article_per_year(data):\n",
    "    articles_per_year = data.groupby('year').size()\n",
    "\n",
    "    # Create the line plot\n",
    "    fig = px.line(articles_per_year, title='Number of Articles Published per Year', labels={'year': 'Year', '0': 'Number of Articles'})\n",
    "    return fig \n",
    "\n",
    "fig1 = article_per_year(data)\n",
    "# Add annotations or vertical lines (optional)\n",
    "fig1.add_vline(x=2020, line=dict(color='purple', width=2, dash='dash'), annotation_text=\"Pandemic Year\", annotation_position=\"top right\")\n",
    "\n",
    "# Show the plot\n",
    "fig1.show()\n"
   ]
  },
  {
   "cell_type": "markdown",
   "metadata": {},
   "source": [
    "## Model "
   ]
  },
  {
   "cell_type": "code",
   "execution_count": 20,
   "metadata": {},
   "outputs": [
    {
     "data": {
      "application/vnd.plotly.v1+json": {
       "config": {
        "plotlyServerURL": "https://plot.ly"
       },
       "data": [
        {
         "domain": {
          "x": [
           0,
           1
          ],
          "y": [
           0,
           1
          ]
         },
         "hovertemplate": "Keyword=%{label}<br>Count=%{value}<extra></extra>",
         "labels": [
          "Thailand",
          "COVID-19",
          "Hadron-Hadron scattering (experiments)",
          "Inflammation",
          "SARS-CoV-2",
          "HIV",
          "CMS",
          "Oxidative stress",
          "Asia",
          "Machine learning"
         ],
         "legendgroup": "",
         "name": "",
         "showlegend": true,
         "type": "pie",
         "values": [
          747,
          282,
          152,
          130,
          115,
          114,
          98,
          83,
          81,
          78
         ]
        }
       ],
       "layout": {
        "legend": {
         "tracegroupgap": 0
        },
        "template": {
         "data": {
          "bar": [
           {
            "error_x": {
             "color": "#2a3f5f"
            },
            "error_y": {
             "color": "#2a3f5f"
            },
            "marker": {
             "line": {
              "color": "#E5ECF6",
              "width": 0.5
             },
             "pattern": {
              "fillmode": "overlay",
              "size": 10,
              "solidity": 0.2
             }
            },
            "type": "bar"
           }
          ],
          "barpolar": [
           {
            "marker": {
             "line": {
              "color": "#E5ECF6",
              "width": 0.5
             },
             "pattern": {
              "fillmode": "overlay",
              "size": 10,
              "solidity": 0.2
             }
            },
            "type": "barpolar"
           }
          ],
          "carpet": [
           {
            "aaxis": {
             "endlinecolor": "#2a3f5f",
             "gridcolor": "white",
             "linecolor": "white",
             "minorgridcolor": "white",
             "startlinecolor": "#2a3f5f"
            },
            "baxis": {
             "endlinecolor": "#2a3f5f",
             "gridcolor": "white",
             "linecolor": "white",
             "minorgridcolor": "white",
             "startlinecolor": "#2a3f5f"
            },
            "type": "carpet"
           }
          ],
          "choropleth": [
           {
            "colorbar": {
             "outlinewidth": 0,
             "ticks": ""
            },
            "type": "choropleth"
           }
          ],
          "contour": [
           {
            "colorbar": {
             "outlinewidth": 0,
             "ticks": ""
            },
            "colorscale": [
             [
              0,
              "#0d0887"
             ],
             [
              0.1111111111111111,
              "#46039f"
             ],
             [
              0.2222222222222222,
              "#7201a8"
             ],
             [
              0.3333333333333333,
              "#9c179e"
             ],
             [
              0.4444444444444444,
              "#bd3786"
             ],
             [
              0.5555555555555556,
              "#d8576b"
             ],
             [
              0.6666666666666666,
              "#ed7953"
             ],
             [
              0.7777777777777778,
              "#fb9f3a"
             ],
             [
              0.8888888888888888,
              "#fdca26"
             ],
             [
              1,
              "#f0f921"
             ]
            ],
            "type": "contour"
           }
          ],
          "contourcarpet": [
           {
            "colorbar": {
             "outlinewidth": 0,
             "ticks": ""
            },
            "type": "contourcarpet"
           }
          ],
          "heatmap": [
           {
            "colorbar": {
             "outlinewidth": 0,
             "ticks": ""
            },
            "colorscale": [
             [
              0,
              "#0d0887"
             ],
             [
              0.1111111111111111,
              "#46039f"
             ],
             [
              0.2222222222222222,
              "#7201a8"
             ],
             [
              0.3333333333333333,
              "#9c179e"
             ],
             [
              0.4444444444444444,
              "#bd3786"
             ],
             [
              0.5555555555555556,
              "#d8576b"
             ],
             [
              0.6666666666666666,
              "#ed7953"
             ],
             [
              0.7777777777777778,
              "#fb9f3a"
             ],
             [
              0.8888888888888888,
              "#fdca26"
             ],
             [
              1,
              "#f0f921"
             ]
            ],
            "type": "heatmap"
           }
          ],
          "heatmapgl": [
           {
            "colorbar": {
             "outlinewidth": 0,
             "ticks": ""
            },
            "colorscale": [
             [
              0,
              "#0d0887"
             ],
             [
              0.1111111111111111,
              "#46039f"
             ],
             [
              0.2222222222222222,
              "#7201a8"
             ],
             [
              0.3333333333333333,
              "#9c179e"
             ],
             [
              0.4444444444444444,
              "#bd3786"
             ],
             [
              0.5555555555555556,
              "#d8576b"
             ],
             [
              0.6666666666666666,
              "#ed7953"
             ],
             [
              0.7777777777777778,
              "#fb9f3a"
             ],
             [
              0.8888888888888888,
              "#fdca26"
             ],
             [
              1,
              "#f0f921"
             ]
            ],
            "type": "heatmapgl"
           }
          ],
          "histogram": [
           {
            "marker": {
             "pattern": {
              "fillmode": "overlay",
              "size": 10,
              "solidity": 0.2
             }
            },
            "type": "histogram"
           }
          ],
          "histogram2d": [
           {
            "colorbar": {
             "outlinewidth": 0,
             "ticks": ""
            },
            "colorscale": [
             [
              0,
              "#0d0887"
             ],
             [
              0.1111111111111111,
              "#46039f"
             ],
             [
              0.2222222222222222,
              "#7201a8"
             ],
             [
              0.3333333333333333,
              "#9c179e"
             ],
             [
              0.4444444444444444,
              "#bd3786"
             ],
             [
              0.5555555555555556,
              "#d8576b"
             ],
             [
              0.6666666666666666,
              "#ed7953"
             ],
             [
              0.7777777777777778,
              "#fb9f3a"
             ],
             [
              0.8888888888888888,
              "#fdca26"
             ],
             [
              1,
              "#f0f921"
             ]
            ],
            "type": "histogram2d"
           }
          ],
          "histogram2dcontour": [
           {
            "colorbar": {
             "outlinewidth": 0,
             "ticks": ""
            },
            "colorscale": [
             [
              0,
              "#0d0887"
             ],
             [
              0.1111111111111111,
              "#46039f"
             ],
             [
              0.2222222222222222,
              "#7201a8"
             ],
             [
              0.3333333333333333,
              "#9c179e"
             ],
             [
              0.4444444444444444,
              "#bd3786"
             ],
             [
              0.5555555555555556,
              "#d8576b"
             ],
             [
              0.6666666666666666,
              "#ed7953"
             ],
             [
              0.7777777777777778,
              "#fb9f3a"
             ],
             [
              0.8888888888888888,
              "#fdca26"
             ],
             [
              1,
              "#f0f921"
             ]
            ],
            "type": "histogram2dcontour"
           }
          ],
          "mesh3d": [
           {
            "colorbar": {
             "outlinewidth": 0,
             "ticks": ""
            },
            "type": "mesh3d"
           }
          ],
          "parcoords": [
           {
            "line": {
             "colorbar": {
              "outlinewidth": 0,
              "ticks": ""
             }
            },
            "type": "parcoords"
           }
          ],
          "pie": [
           {
            "automargin": true,
            "type": "pie"
           }
          ],
          "scatter": [
           {
            "fillpattern": {
             "fillmode": "overlay",
             "size": 10,
             "solidity": 0.2
            },
            "type": "scatter"
           }
          ],
          "scatter3d": [
           {
            "line": {
             "colorbar": {
              "outlinewidth": 0,
              "ticks": ""
             }
            },
            "marker": {
             "colorbar": {
              "outlinewidth": 0,
              "ticks": ""
             }
            },
            "type": "scatter3d"
           }
          ],
          "scattercarpet": [
           {
            "marker": {
             "colorbar": {
              "outlinewidth": 0,
              "ticks": ""
             }
            },
            "type": "scattercarpet"
           }
          ],
          "scattergeo": [
           {
            "marker": {
             "colorbar": {
              "outlinewidth": 0,
              "ticks": ""
             }
            },
            "type": "scattergeo"
           }
          ],
          "scattergl": [
           {
            "marker": {
             "colorbar": {
              "outlinewidth": 0,
              "ticks": ""
             }
            },
            "type": "scattergl"
           }
          ],
          "scattermapbox": [
           {
            "marker": {
             "colorbar": {
              "outlinewidth": 0,
              "ticks": ""
             }
            },
            "type": "scattermapbox"
           }
          ],
          "scatterpolar": [
           {
            "marker": {
             "colorbar": {
              "outlinewidth": 0,
              "ticks": ""
             }
            },
            "type": "scatterpolar"
           }
          ],
          "scatterpolargl": [
           {
            "marker": {
             "colorbar": {
              "outlinewidth": 0,
              "ticks": ""
             }
            },
            "type": "scatterpolargl"
           }
          ],
          "scatterternary": [
           {
            "marker": {
             "colorbar": {
              "outlinewidth": 0,
              "ticks": ""
             }
            },
            "type": "scatterternary"
           }
          ],
          "surface": [
           {
            "colorbar": {
             "outlinewidth": 0,
             "ticks": ""
            },
            "colorscale": [
             [
              0,
              "#0d0887"
             ],
             [
              0.1111111111111111,
              "#46039f"
             ],
             [
              0.2222222222222222,
              "#7201a8"
             ],
             [
              0.3333333333333333,
              "#9c179e"
             ],
             [
              0.4444444444444444,
              "#bd3786"
             ],
             [
              0.5555555555555556,
              "#d8576b"
             ],
             [
              0.6666666666666666,
              "#ed7953"
             ],
             [
              0.7777777777777778,
              "#fb9f3a"
             ],
             [
              0.8888888888888888,
              "#fdca26"
             ],
             [
              1,
              "#f0f921"
             ]
            ],
            "type": "surface"
           }
          ],
          "table": [
           {
            "cells": {
             "fill": {
              "color": "#EBF0F8"
             },
             "line": {
              "color": "white"
             }
            },
            "header": {
             "fill": {
              "color": "#C8D4E3"
             },
             "line": {
              "color": "white"
             }
            },
            "type": "table"
           }
          ]
         },
         "layout": {
          "annotationdefaults": {
           "arrowcolor": "#2a3f5f",
           "arrowhead": 0,
           "arrowwidth": 1
          },
          "autotypenumbers": "strict",
          "coloraxis": {
           "colorbar": {
            "outlinewidth": 0,
            "ticks": ""
           }
          },
          "colorscale": {
           "diverging": [
            [
             0,
             "#8e0152"
            ],
            [
             0.1,
             "#c51b7d"
            ],
            [
             0.2,
             "#de77ae"
            ],
            [
             0.3,
             "#f1b6da"
            ],
            [
             0.4,
             "#fde0ef"
            ],
            [
             0.5,
             "#f7f7f7"
            ],
            [
             0.6,
             "#e6f5d0"
            ],
            [
             0.7,
             "#b8e186"
            ],
            [
             0.8,
             "#7fbc41"
            ],
            [
             0.9,
             "#4d9221"
            ],
            [
             1,
             "#276419"
            ]
           ],
           "sequential": [
            [
             0,
             "#0d0887"
            ],
            [
             0.1111111111111111,
             "#46039f"
            ],
            [
             0.2222222222222222,
             "#7201a8"
            ],
            [
             0.3333333333333333,
             "#9c179e"
            ],
            [
             0.4444444444444444,
             "#bd3786"
            ],
            [
             0.5555555555555556,
             "#d8576b"
            ],
            [
             0.6666666666666666,
             "#ed7953"
            ],
            [
             0.7777777777777778,
             "#fb9f3a"
            ],
            [
             0.8888888888888888,
             "#fdca26"
            ],
            [
             1,
             "#f0f921"
            ]
           ],
           "sequentialminus": [
            [
             0,
             "#0d0887"
            ],
            [
             0.1111111111111111,
             "#46039f"
            ],
            [
             0.2222222222222222,
             "#7201a8"
            ],
            [
             0.3333333333333333,
             "#9c179e"
            ],
            [
             0.4444444444444444,
             "#bd3786"
            ],
            [
             0.5555555555555556,
             "#d8576b"
            ],
            [
             0.6666666666666666,
             "#ed7953"
            ],
            [
             0.7777777777777778,
             "#fb9f3a"
            ],
            [
             0.8888888888888888,
             "#fdca26"
            ],
            [
             1,
             "#f0f921"
            ]
           ]
          },
          "colorway": [
           "#636efa",
           "#EF553B",
           "#00cc96",
           "#ab63fa",
           "#FFA15A",
           "#19d3f3",
           "#FF6692",
           "#B6E880",
           "#FF97FF",
           "#FECB52"
          ],
          "font": {
           "color": "#2a3f5f"
          },
          "geo": {
           "bgcolor": "white",
           "lakecolor": "white",
           "landcolor": "#E5ECF6",
           "showlakes": true,
           "showland": true,
           "subunitcolor": "white"
          },
          "hoverlabel": {
           "align": "left"
          },
          "hovermode": "closest",
          "mapbox": {
           "style": "light"
          },
          "paper_bgcolor": "white",
          "plot_bgcolor": "#E5ECF6",
          "polar": {
           "angularaxis": {
            "gridcolor": "white",
            "linecolor": "white",
            "ticks": ""
           },
           "bgcolor": "#E5ECF6",
           "radialaxis": {
            "gridcolor": "white",
            "linecolor": "white",
            "ticks": ""
           }
          },
          "scene": {
           "xaxis": {
            "backgroundcolor": "#E5ECF6",
            "gridcolor": "white",
            "gridwidth": 2,
            "linecolor": "white",
            "showbackground": true,
            "ticks": "",
            "zerolinecolor": "white"
           },
           "yaxis": {
            "backgroundcolor": "#E5ECF6",
            "gridcolor": "white",
            "gridwidth": 2,
            "linecolor": "white",
            "showbackground": true,
            "ticks": "",
            "zerolinecolor": "white"
           },
           "zaxis": {
            "backgroundcolor": "#E5ECF6",
            "gridcolor": "white",
            "gridwidth": 2,
            "linecolor": "white",
            "showbackground": true,
            "ticks": "",
            "zerolinecolor": "white"
           }
          },
          "shapedefaults": {
           "line": {
            "color": "#2a3f5f"
           }
          },
          "ternary": {
           "aaxis": {
            "gridcolor": "white",
            "linecolor": "white",
            "ticks": ""
           },
           "baxis": {
            "gridcolor": "white",
            "linecolor": "white",
            "ticks": ""
           },
           "bgcolor": "#E5ECF6",
           "caxis": {
            "gridcolor": "white",
            "linecolor": "white",
            "ticks": ""
           }
          },
          "title": {
           "x": 0.05
          },
          "xaxis": {
           "automargin": true,
           "gridcolor": "white",
           "linecolor": "white",
           "ticks": "",
           "title": {
            "standoff": 15
           },
           "zerolinecolor": "white",
           "zerolinewidth": 2
          },
          "yaxis": {
           "automargin": true,
           "gridcolor": "white",
           "linecolor": "white",
           "ticks": "",
           "title": {
            "standoff": 15
           },
           "zerolinecolor": "white",
           "zerolinewidth": 2
          }
         }
        },
        "title": {
         "text": "Top 10 Keywords in 'auth-keywords'"
        }
       }
      }
     },
     "metadata": {},
     "output_type": "display_data"
    },
    {
     "data": {
      "application/vnd.plotly.v1+json": {
       "config": {
        "plotlyServerURL": "https://plot.ly"
       },
       "data": [
        {
         "domain": {
          "x": [
           0,
           1
          ],
          "y": [
           0,
           1
          ]
         },
         "hovertemplate": "Keyword=%{label}<br>Count=%{value}<extra></extra>",
         "labels": [
          "Chulalongkorn University",
          "Thailand Research Fund",
          "National Research Council of Thailand",
          "Second Century Fund",
          "Faculty of Medicine",
          "Ratchadaphiseksomphot Endowment Fund",
          "NSTDA",
          "National Science and Technology Development Agency",
          "Thailand",
          "Mahidol University"
         ],
         "legendgroup": "",
         "name": "",
         "showlegend": true,
         "type": "pie",
         "values": [
          8272,
          1928,
          1328,
          676,
          616,
          584,
          566,
          531,
          517,
          504
         ]
        }
       ],
       "layout": {
        "legend": {
         "tracegroupgap": 0
        },
        "template": {
         "data": {
          "bar": [
           {
            "error_x": {
             "color": "#2a3f5f"
            },
            "error_y": {
             "color": "#2a3f5f"
            },
            "marker": {
             "line": {
              "color": "#E5ECF6",
              "width": 0.5
             },
             "pattern": {
              "fillmode": "overlay",
              "size": 10,
              "solidity": 0.2
             }
            },
            "type": "bar"
           }
          ],
          "barpolar": [
           {
            "marker": {
             "line": {
              "color": "#E5ECF6",
              "width": 0.5
             },
             "pattern": {
              "fillmode": "overlay",
              "size": 10,
              "solidity": 0.2
             }
            },
            "type": "barpolar"
           }
          ],
          "carpet": [
           {
            "aaxis": {
             "endlinecolor": "#2a3f5f",
             "gridcolor": "white",
             "linecolor": "white",
             "minorgridcolor": "white",
             "startlinecolor": "#2a3f5f"
            },
            "baxis": {
             "endlinecolor": "#2a3f5f",
             "gridcolor": "white",
             "linecolor": "white",
             "minorgridcolor": "white",
             "startlinecolor": "#2a3f5f"
            },
            "type": "carpet"
           }
          ],
          "choropleth": [
           {
            "colorbar": {
             "outlinewidth": 0,
             "ticks": ""
            },
            "type": "choropleth"
           }
          ],
          "contour": [
           {
            "colorbar": {
             "outlinewidth": 0,
             "ticks": ""
            },
            "colorscale": [
             [
              0,
              "#0d0887"
             ],
             [
              0.1111111111111111,
              "#46039f"
             ],
             [
              0.2222222222222222,
              "#7201a8"
             ],
             [
              0.3333333333333333,
              "#9c179e"
             ],
             [
              0.4444444444444444,
              "#bd3786"
             ],
             [
              0.5555555555555556,
              "#d8576b"
             ],
             [
              0.6666666666666666,
              "#ed7953"
             ],
             [
              0.7777777777777778,
              "#fb9f3a"
             ],
             [
              0.8888888888888888,
              "#fdca26"
             ],
             [
              1,
              "#f0f921"
             ]
            ],
            "type": "contour"
           }
          ],
          "contourcarpet": [
           {
            "colorbar": {
             "outlinewidth": 0,
             "ticks": ""
            },
            "type": "contourcarpet"
           }
          ],
          "heatmap": [
           {
            "colorbar": {
             "outlinewidth": 0,
             "ticks": ""
            },
            "colorscale": [
             [
              0,
              "#0d0887"
             ],
             [
              0.1111111111111111,
              "#46039f"
             ],
             [
              0.2222222222222222,
              "#7201a8"
             ],
             [
              0.3333333333333333,
              "#9c179e"
             ],
             [
              0.4444444444444444,
              "#bd3786"
             ],
             [
              0.5555555555555556,
              "#d8576b"
             ],
             [
              0.6666666666666666,
              "#ed7953"
             ],
             [
              0.7777777777777778,
              "#fb9f3a"
             ],
             [
              0.8888888888888888,
              "#fdca26"
             ],
             [
              1,
              "#f0f921"
             ]
            ],
            "type": "heatmap"
           }
          ],
          "heatmapgl": [
           {
            "colorbar": {
             "outlinewidth": 0,
             "ticks": ""
            },
            "colorscale": [
             [
              0,
              "#0d0887"
             ],
             [
              0.1111111111111111,
              "#46039f"
             ],
             [
              0.2222222222222222,
              "#7201a8"
             ],
             [
              0.3333333333333333,
              "#9c179e"
             ],
             [
              0.4444444444444444,
              "#bd3786"
             ],
             [
              0.5555555555555556,
              "#d8576b"
             ],
             [
              0.6666666666666666,
              "#ed7953"
             ],
             [
              0.7777777777777778,
              "#fb9f3a"
             ],
             [
              0.8888888888888888,
              "#fdca26"
             ],
             [
              1,
              "#f0f921"
             ]
            ],
            "type": "heatmapgl"
           }
          ],
          "histogram": [
           {
            "marker": {
             "pattern": {
              "fillmode": "overlay",
              "size": 10,
              "solidity": 0.2
             }
            },
            "type": "histogram"
           }
          ],
          "histogram2d": [
           {
            "colorbar": {
             "outlinewidth": 0,
             "ticks": ""
            },
            "colorscale": [
             [
              0,
              "#0d0887"
             ],
             [
              0.1111111111111111,
              "#46039f"
             ],
             [
              0.2222222222222222,
              "#7201a8"
             ],
             [
              0.3333333333333333,
              "#9c179e"
             ],
             [
              0.4444444444444444,
              "#bd3786"
             ],
             [
              0.5555555555555556,
              "#d8576b"
             ],
             [
              0.6666666666666666,
              "#ed7953"
             ],
             [
              0.7777777777777778,
              "#fb9f3a"
             ],
             [
              0.8888888888888888,
              "#fdca26"
             ],
             [
              1,
              "#f0f921"
             ]
            ],
            "type": "histogram2d"
           }
          ],
          "histogram2dcontour": [
           {
            "colorbar": {
             "outlinewidth": 0,
             "ticks": ""
            },
            "colorscale": [
             [
              0,
              "#0d0887"
             ],
             [
              0.1111111111111111,
              "#46039f"
             ],
             [
              0.2222222222222222,
              "#7201a8"
             ],
             [
              0.3333333333333333,
              "#9c179e"
             ],
             [
              0.4444444444444444,
              "#bd3786"
             ],
             [
              0.5555555555555556,
              "#d8576b"
             ],
             [
              0.6666666666666666,
              "#ed7953"
             ],
             [
              0.7777777777777778,
              "#fb9f3a"
             ],
             [
              0.8888888888888888,
              "#fdca26"
             ],
             [
              1,
              "#f0f921"
             ]
            ],
            "type": "histogram2dcontour"
           }
          ],
          "mesh3d": [
           {
            "colorbar": {
             "outlinewidth": 0,
             "ticks": ""
            },
            "type": "mesh3d"
           }
          ],
          "parcoords": [
           {
            "line": {
             "colorbar": {
              "outlinewidth": 0,
              "ticks": ""
             }
            },
            "type": "parcoords"
           }
          ],
          "pie": [
           {
            "automargin": true,
            "type": "pie"
           }
          ],
          "scatter": [
           {
            "fillpattern": {
             "fillmode": "overlay",
             "size": 10,
             "solidity": 0.2
            },
            "type": "scatter"
           }
          ],
          "scatter3d": [
           {
            "line": {
             "colorbar": {
              "outlinewidth": 0,
              "ticks": ""
             }
            },
            "marker": {
             "colorbar": {
              "outlinewidth": 0,
              "ticks": ""
             }
            },
            "type": "scatter3d"
           }
          ],
          "scattercarpet": [
           {
            "marker": {
             "colorbar": {
              "outlinewidth": 0,
              "ticks": ""
             }
            },
            "type": "scattercarpet"
           }
          ],
          "scattergeo": [
           {
            "marker": {
             "colorbar": {
              "outlinewidth": 0,
              "ticks": ""
             }
            },
            "type": "scattergeo"
           }
          ],
          "scattergl": [
           {
            "marker": {
             "colorbar": {
              "outlinewidth": 0,
              "ticks": ""
             }
            },
            "type": "scattergl"
           }
          ],
          "scattermapbox": [
           {
            "marker": {
             "colorbar": {
              "outlinewidth": 0,
              "ticks": ""
             }
            },
            "type": "scattermapbox"
           }
          ],
          "scatterpolar": [
           {
            "marker": {
             "colorbar": {
              "outlinewidth": 0,
              "ticks": ""
             }
            },
            "type": "scatterpolar"
           }
          ],
          "scatterpolargl": [
           {
            "marker": {
             "colorbar": {
              "outlinewidth": 0,
              "ticks": ""
             }
            },
            "type": "scatterpolargl"
           }
          ],
          "scatterternary": [
           {
            "marker": {
             "colorbar": {
              "outlinewidth": 0,
              "ticks": ""
             }
            },
            "type": "scatterternary"
           }
          ],
          "surface": [
           {
            "colorbar": {
             "outlinewidth": 0,
             "ticks": ""
            },
            "colorscale": [
             [
              0,
              "#0d0887"
             ],
             [
              0.1111111111111111,
              "#46039f"
             ],
             [
              0.2222222222222222,
              "#7201a8"
             ],
             [
              0.3333333333333333,
              "#9c179e"
             ],
             [
              0.4444444444444444,
              "#bd3786"
             ],
             [
              0.5555555555555556,
              "#d8576b"
             ],
             [
              0.6666666666666666,
              "#ed7953"
             ],
             [
              0.7777777777777778,
              "#fb9f3a"
             ],
             [
              0.8888888888888888,
              "#fdca26"
             ],
             [
              1,
              "#f0f921"
             ]
            ],
            "type": "surface"
           }
          ],
          "table": [
           {
            "cells": {
             "fill": {
              "color": "#EBF0F8"
             },
             "line": {
              "color": "white"
             }
            },
            "header": {
             "fill": {
              "color": "#C8D4E3"
             },
             "line": {
              "color": "white"
             }
            },
            "type": "table"
           }
          ]
         },
         "layout": {
          "annotationdefaults": {
           "arrowcolor": "#2a3f5f",
           "arrowhead": 0,
           "arrowwidth": 1
          },
          "autotypenumbers": "strict",
          "coloraxis": {
           "colorbar": {
            "outlinewidth": 0,
            "ticks": ""
           }
          },
          "colorscale": {
           "diverging": [
            [
             0,
             "#8e0152"
            ],
            [
             0.1,
             "#c51b7d"
            ],
            [
             0.2,
             "#de77ae"
            ],
            [
             0.3,
             "#f1b6da"
            ],
            [
             0.4,
             "#fde0ef"
            ],
            [
             0.5,
             "#f7f7f7"
            ],
            [
             0.6,
             "#e6f5d0"
            ],
            [
             0.7,
             "#b8e186"
            ],
            [
             0.8,
             "#7fbc41"
            ],
            [
             0.9,
             "#4d9221"
            ],
            [
             1,
             "#276419"
            ]
           ],
           "sequential": [
            [
             0,
             "#0d0887"
            ],
            [
             0.1111111111111111,
             "#46039f"
            ],
            [
             0.2222222222222222,
             "#7201a8"
            ],
            [
             0.3333333333333333,
             "#9c179e"
            ],
            [
             0.4444444444444444,
             "#bd3786"
            ],
            [
             0.5555555555555556,
             "#d8576b"
            ],
            [
             0.6666666666666666,
             "#ed7953"
            ],
            [
             0.7777777777777778,
             "#fb9f3a"
            ],
            [
             0.8888888888888888,
             "#fdca26"
            ],
            [
             1,
             "#f0f921"
            ]
           ],
           "sequentialminus": [
            [
             0,
             "#0d0887"
            ],
            [
             0.1111111111111111,
             "#46039f"
            ],
            [
             0.2222222222222222,
             "#7201a8"
            ],
            [
             0.3333333333333333,
             "#9c179e"
            ],
            [
             0.4444444444444444,
             "#bd3786"
            ],
            [
             0.5555555555555556,
             "#d8576b"
            ],
            [
             0.6666666666666666,
             "#ed7953"
            ],
            [
             0.7777777777777778,
             "#fb9f3a"
            ],
            [
             0.8888888888888888,
             "#fdca26"
            ],
            [
             1,
             "#f0f921"
            ]
           ]
          },
          "colorway": [
           "#636efa",
           "#EF553B",
           "#00cc96",
           "#ab63fa",
           "#FFA15A",
           "#19d3f3",
           "#FF6692",
           "#B6E880",
           "#FF97FF",
           "#FECB52"
          ],
          "font": {
           "color": "#2a3f5f"
          },
          "geo": {
           "bgcolor": "white",
           "lakecolor": "white",
           "landcolor": "#E5ECF6",
           "showlakes": true,
           "showland": true,
           "subunitcolor": "white"
          },
          "hoverlabel": {
           "align": "left"
          },
          "hovermode": "closest",
          "mapbox": {
           "style": "light"
          },
          "paper_bgcolor": "white",
          "plot_bgcolor": "#E5ECF6",
          "polar": {
           "angularaxis": {
            "gridcolor": "white",
            "linecolor": "white",
            "ticks": ""
           },
           "bgcolor": "#E5ECF6",
           "radialaxis": {
            "gridcolor": "white",
            "linecolor": "white",
            "ticks": ""
           }
          },
          "scene": {
           "xaxis": {
            "backgroundcolor": "#E5ECF6",
            "gridcolor": "white",
            "gridwidth": 2,
            "linecolor": "white",
            "showbackground": true,
            "ticks": "",
            "zerolinecolor": "white"
           },
           "yaxis": {
            "backgroundcolor": "#E5ECF6",
            "gridcolor": "white",
            "gridwidth": 2,
            "linecolor": "white",
            "showbackground": true,
            "ticks": "",
            "zerolinecolor": "white"
           },
           "zaxis": {
            "backgroundcolor": "#E5ECF6",
            "gridcolor": "white",
            "gridwidth": 2,
            "linecolor": "white",
            "showbackground": true,
            "ticks": "",
            "zerolinecolor": "white"
           }
          },
          "shapedefaults": {
           "line": {
            "color": "#2a3f5f"
           }
          },
          "ternary": {
           "aaxis": {
            "gridcolor": "white",
            "linecolor": "white",
            "ticks": ""
           },
           "baxis": {
            "gridcolor": "white",
            "linecolor": "white",
            "ticks": ""
           },
           "bgcolor": "#E5ECF6",
           "caxis": {
            "gridcolor": "white",
            "linecolor": "white",
            "ticks": ""
           }
          },
          "title": {
           "x": 0.05
          },
          "xaxis": {
           "automargin": true,
           "gridcolor": "white",
           "linecolor": "white",
           "ticks": "",
           "title": {
            "standoff": 15
           },
           "zerolinecolor": "white",
           "zerolinewidth": 2
          },
          "yaxis": {
           "automargin": true,
           "gridcolor": "white",
           "linecolor": "white",
           "ticks": "",
           "title": {
            "standoff": 15
           },
           "zerolinecolor": "white",
           "zerolinewidth": 2
          }
         }
        },
        "title": {
         "text": "Top 10 Keywords in 'Funding Agencies'"
        }
       }
      }
     },
     "metadata": {},
     "output_type": "display_data"
    },
    {
     "data": {
      "application/vnd.plotly.v1+json": {
       "config": {
        "plotlyServerURL": "https://plot.ly"
       },
       "data": [
        {
         "domain": {
          "x": [
           0,
           1
          ],
          "y": [
           0,
           1
          ]
         },
         "hovertemplate": "Keyword=%{label}<br>Count=%{value}<extra></extra>",
         "labels": [
          "Chulalongkorn University",
          "Faculty of Medicine",
          "Faculty of Science",
          "Faculty of Engineering",
          "Department of Physics",
          "Department of Medicine",
          "Mahidol University",
          "University of California",
          "King Chulalongkorn Memorial Hospital",
          "Department of Chemistry"
         ],
         "legendgroup": "",
         "name": "",
         "showlegend": true,
         "type": "pie",
         "values": [
          31474,
          9874,
          9174,
          4550,
          4034,
          3552,
          2948,
          2879,
          2355,
          2115
         ]
        }
       ],
       "layout": {
        "legend": {
         "tracegroupgap": 0
        },
        "template": {
         "data": {
          "bar": [
           {
            "error_x": {
             "color": "#2a3f5f"
            },
            "error_y": {
             "color": "#2a3f5f"
            },
            "marker": {
             "line": {
              "color": "#E5ECF6",
              "width": 0.5
             },
             "pattern": {
              "fillmode": "overlay",
              "size": 10,
              "solidity": 0.2
             }
            },
            "type": "bar"
           }
          ],
          "barpolar": [
           {
            "marker": {
             "line": {
              "color": "#E5ECF6",
              "width": 0.5
             },
             "pattern": {
              "fillmode": "overlay",
              "size": 10,
              "solidity": 0.2
             }
            },
            "type": "barpolar"
           }
          ],
          "carpet": [
           {
            "aaxis": {
             "endlinecolor": "#2a3f5f",
             "gridcolor": "white",
             "linecolor": "white",
             "minorgridcolor": "white",
             "startlinecolor": "#2a3f5f"
            },
            "baxis": {
             "endlinecolor": "#2a3f5f",
             "gridcolor": "white",
             "linecolor": "white",
             "minorgridcolor": "white",
             "startlinecolor": "#2a3f5f"
            },
            "type": "carpet"
           }
          ],
          "choropleth": [
           {
            "colorbar": {
             "outlinewidth": 0,
             "ticks": ""
            },
            "type": "choropleth"
           }
          ],
          "contour": [
           {
            "colorbar": {
             "outlinewidth": 0,
             "ticks": ""
            },
            "colorscale": [
             [
              0,
              "#0d0887"
             ],
             [
              0.1111111111111111,
              "#46039f"
             ],
             [
              0.2222222222222222,
              "#7201a8"
             ],
             [
              0.3333333333333333,
              "#9c179e"
             ],
             [
              0.4444444444444444,
              "#bd3786"
             ],
             [
              0.5555555555555556,
              "#d8576b"
             ],
             [
              0.6666666666666666,
              "#ed7953"
             ],
             [
              0.7777777777777778,
              "#fb9f3a"
             ],
             [
              0.8888888888888888,
              "#fdca26"
             ],
             [
              1,
              "#f0f921"
             ]
            ],
            "type": "contour"
           }
          ],
          "contourcarpet": [
           {
            "colorbar": {
             "outlinewidth": 0,
             "ticks": ""
            },
            "type": "contourcarpet"
           }
          ],
          "heatmap": [
           {
            "colorbar": {
             "outlinewidth": 0,
             "ticks": ""
            },
            "colorscale": [
             [
              0,
              "#0d0887"
             ],
             [
              0.1111111111111111,
              "#46039f"
             ],
             [
              0.2222222222222222,
              "#7201a8"
             ],
             [
              0.3333333333333333,
              "#9c179e"
             ],
             [
              0.4444444444444444,
              "#bd3786"
             ],
             [
              0.5555555555555556,
              "#d8576b"
             ],
             [
              0.6666666666666666,
              "#ed7953"
             ],
             [
              0.7777777777777778,
              "#fb9f3a"
             ],
             [
              0.8888888888888888,
              "#fdca26"
             ],
             [
              1,
              "#f0f921"
             ]
            ],
            "type": "heatmap"
           }
          ],
          "heatmapgl": [
           {
            "colorbar": {
             "outlinewidth": 0,
             "ticks": ""
            },
            "colorscale": [
             [
              0,
              "#0d0887"
             ],
             [
              0.1111111111111111,
              "#46039f"
             ],
             [
              0.2222222222222222,
              "#7201a8"
             ],
             [
              0.3333333333333333,
              "#9c179e"
             ],
             [
              0.4444444444444444,
              "#bd3786"
             ],
             [
              0.5555555555555556,
              "#d8576b"
             ],
             [
              0.6666666666666666,
              "#ed7953"
             ],
             [
              0.7777777777777778,
              "#fb9f3a"
             ],
             [
              0.8888888888888888,
              "#fdca26"
             ],
             [
              1,
              "#f0f921"
             ]
            ],
            "type": "heatmapgl"
           }
          ],
          "histogram": [
           {
            "marker": {
             "pattern": {
              "fillmode": "overlay",
              "size": 10,
              "solidity": 0.2
             }
            },
            "type": "histogram"
           }
          ],
          "histogram2d": [
           {
            "colorbar": {
             "outlinewidth": 0,
             "ticks": ""
            },
            "colorscale": [
             [
              0,
              "#0d0887"
             ],
             [
              0.1111111111111111,
              "#46039f"
             ],
             [
              0.2222222222222222,
              "#7201a8"
             ],
             [
              0.3333333333333333,
              "#9c179e"
             ],
             [
              0.4444444444444444,
              "#bd3786"
             ],
             [
              0.5555555555555556,
              "#d8576b"
             ],
             [
              0.6666666666666666,
              "#ed7953"
             ],
             [
              0.7777777777777778,
              "#fb9f3a"
             ],
             [
              0.8888888888888888,
              "#fdca26"
             ],
             [
              1,
              "#f0f921"
             ]
            ],
            "type": "histogram2d"
           }
          ],
          "histogram2dcontour": [
           {
            "colorbar": {
             "outlinewidth": 0,
             "ticks": ""
            },
            "colorscale": [
             [
              0,
              "#0d0887"
             ],
             [
              0.1111111111111111,
              "#46039f"
             ],
             [
              0.2222222222222222,
              "#7201a8"
             ],
             [
              0.3333333333333333,
              "#9c179e"
             ],
             [
              0.4444444444444444,
              "#bd3786"
             ],
             [
              0.5555555555555556,
              "#d8576b"
             ],
             [
              0.6666666666666666,
              "#ed7953"
             ],
             [
              0.7777777777777778,
              "#fb9f3a"
             ],
             [
              0.8888888888888888,
              "#fdca26"
             ],
             [
              1,
              "#f0f921"
             ]
            ],
            "type": "histogram2dcontour"
           }
          ],
          "mesh3d": [
           {
            "colorbar": {
             "outlinewidth": 0,
             "ticks": ""
            },
            "type": "mesh3d"
           }
          ],
          "parcoords": [
           {
            "line": {
             "colorbar": {
              "outlinewidth": 0,
              "ticks": ""
             }
            },
            "type": "parcoords"
           }
          ],
          "pie": [
           {
            "automargin": true,
            "type": "pie"
           }
          ],
          "scatter": [
           {
            "fillpattern": {
             "fillmode": "overlay",
             "size": 10,
             "solidity": 0.2
            },
            "type": "scatter"
           }
          ],
          "scatter3d": [
           {
            "line": {
             "colorbar": {
              "outlinewidth": 0,
              "ticks": ""
             }
            },
            "marker": {
             "colorbar": {
              "outlinewidth": 0,
              "ticks": ""
             }
            },
            "type": "scatter3d"
           }
          ],
          "scattercarpet": [
           {
            "marker": {
             "colorbar": {
              "outlinewidth": 0,
              "ticks": ""
             }
            },
            "type": "scattercarpet"
           }
          ],
          "scattergeo": [
           {
            "marker": {
             "colorbar": {
              "outlinewidth": 0,
              "ticks": ""
             }
            },
            "type": "scattergeo"
           }
          ],
          "scattergl": [
           {
            "marker": {
             "colorbar": {
              "outlinewidth": 0,
              "ticks": ""
             }
            },
            "type": "scattergl"
           }
          ],
          "scattermapbox": [
           {
            "marker": {
             "colorbar": {
              "outlinewidth": 0,
              "ticks": ""
             }
            },
            "type": "scattermapbox"
           }
          ],
          "scatterpolar": [
           {
            "marker": {
             "colorbar": {
              "outlinewidth": 0,
              "ticks": ""
             }
            },
            "type": "scatterpolar"
           }
          ],
          "scatterpolargl": [
           {
            "marker": {
             "colorbar": {
              "outlinewidth": 0,
              "ticks": ""
             }
            },
            "type": "scatterpolargl"
           }
          ],
          "scatterternary": [
           {
            "marker": {
             "colorbar": {
              "outlinewidth": 0,
              "ticks": ""
             }
            },
            "type": "scatterternary"
           }
          ],
          "surface": [
           {
            "colorbar": {
             "outlinewidth": 0,
             "ticks": ""
            },
            "colorscale": [
             [
              0,
              "#0d0887"
             ],
             [
              0.1111111111111111,
              "#46039f"
             ],
             [
              0.2222222222222222,
              "#7201a8"
             ],
             [
              0.3333333333333333,
              "#9c179e"
             ],
             [
              0.4444444444444444,
              "#bd3786"
             ],
             [
              0.5555555555555556,
              "#d8576b"
             ],
             [
              0.6666666666666666,
              "#ed7953"
             ],
             [
              0.7777777777777778,
              "#fb9f3a"
             ],
             [
              0.8888888888888888,
              "#fdca26"
             ],
             [
              1,
              "#f0f921"
             ]
            ],
            "type": "surface"
           }
          ],
          "table": [
           {
            "cells": {
             "fill": {
              "color": "#EBF0F8"
             },
             "line": {
              "color": "white"
             }
            },
            "header": {
             "fill": {
              "color": "#C8D4E3"
             },
             "line": {
              "color": "white"
             }
            },
            "type": "table"
           }
          ]
         },
         "layout": {
          "annotationdefaults": {
           "arrowcolor": "#2a3f5f",
           "arrowhead": 0,
           "arrowwidth": 1
          },
          "autotypenumbers": "strict",
          "coloraxis": {
           "colorbar": {
            "outlinewidth": 0,
            "ticks": ""
           }
          },
          "colorscale": {
           "diverging": [
            [
             0,
             "#8e0152"
            ],
            [
             0.1,
             "#c51b7d"
            ],
            [
             0.2,
             "#de77ae"
            ],
            [
             0.3,
             "#f1b6da"
            ],
            [
             0.4,
             "#fde0ef"
            ],
            [
             0.5,
             "#f7f7f7"
            ],
            [
             0.6,
             "#e6f5d0"
            ],
            [
             0.7,
             "#b8e186"
            ],
            [
             0.8,
             "#7fbc41"
            ],
            [
             0.9,
             "#4d9221"
            ],
            [
             1,
             "#276419"
            ]
           ],
           "sequential": [
            [
             0,
             "#0d0887"
            ],
            [
             0.1111111111111111,
             "#46039f"
            ],
            [
             0.2222222222222222,
             "#7201a8"
            ],
            [
             0.3333333333333333,
             "#9c179e"
            ],
            [
             0.4444444444444444,
             "#bd3786"
            ],
            [
             0.5555555555555556,
             "#d8576b"
            ],
            [
             0.6666666666666666,
             "#ed7953"
            ],
            [
             0.7777777777777778,
             "#fb9f3a"
            ],
            [
             0.8888888888888888,
             "#fdca26"
            ],
            [
             1,
             "#f0f921"
            ]
           ],
           "sequentialminus": [
            [
             0,
             "#0d0887"
            ],
            [
             0.1111111111111111,
             "#46039f"
            ],
            [
             0.2222222222222222,
             "#7201a8"
            ],
            [
             0.3333333333333333,
             "#9c179e"
            ],
            [
             0.4444444444444444,
             "#bd3786"
            ],
            [
             0.5555555555555556,
             "#d8576b"
            ],
            [
             0.6666666666666666,
             "#ed7953"
            ],
            [
             0.7777777777777778,
             "#fb9f3a"
            ],
            [
             0.8888888888888888,
             "#fdca26"
            ],
            [
             1,
             "#f0f921"
            ]
           ]
          },
          "colorway": [
           "#636efa",
           "#EF553B",
           "#00cc96",
           "#ab63fa",
           "#FFA15A",
           "#19d3f3",
           "#FF6692",
           "#B6E880",
           "#FF97FF",
           "#FECB52"
          ],
          "font": {
           "color": "#2a3f5f"
          },
          "geo": {
           "bgcolor": "white",
           "lakecolor": "white",
           "landcolor": "#E5ECF6",
           "showlakes": true,
           "showland": true,
           "subunitcolor": "white"
          },
          "hoverlabel": {
           "align": "left"
          },
          "hovermode": "closest",
          "mapbox": {
           "style": "light"
          },
          "paper_bgcolor": "white",
          "plot_bgcolor": "#E5ECF6",
          "polar": {
           "angularaxis": {
            "gridcolor": "white",
            "linecolor": "white",
            "ticks": ""
           },
           "bgcolor": "#E5ECF6",
           "radialaxis": {
            "gridcolor": "white",
            "linecolor": "white",
            "ticks": ""
           }
          },
          "scene": {
           "xaxis": {
            "backgroundcolor": "#E5ECF6",
            "gridcolor": "white",
            "gridwidth": 2,
            "linecolor": "white",
            "showbackground": true,
            "ticks": "",
            "zerolinecolor": "white"
           },
           "yaxis": {
            "backgroundcolor": "#E5ECF6",
            "gridcolor": "white",
            "gridwidth": 2,
            "linecolor": "white",
            "showbackground": true,
            "ticks": "",
            "zerolinecolor": "white"
           },
           "zaxis": {
            "backgroundcolor": "#E5ECF6",
            "gridcolor": "white",
            "gridwidth": 2,
            "linecolor": "white",
            "showbackground": true,
            "ticks": "",
            "zerolinecolor": "white"
           }
          },
          "shapedefaults": {
           "line": {
            "color": "#2a3f5f"
           }
          },
          "ternary": {
           "aaxis": {
            "gridcolor": "white",
            "linecolor": "white",
            "ticks": ""
           },
           "baxis": {
            "gridcolor": "white",
            "linecolor": "white",
            "ticks": ""
           },
           "bgcolor": "#E5ECF6",
           "caxis": {
            "gridcolor": "white",
            "linecolor": "white",
            "ticks": ""
           }
          },
          "title": {
           "x": 0.05
          },
          "xaxis": {
           "automargin": true,
           "gridcolor": "white",
           "linecolor": "white",
           "ticks": "",
           "title": {
            "standoff": 15
           },
           "zerolinecolor": "white",
           "zerolinewidth": 2
          },
          "yaxis": {
           "automargin": true,
           "gridcolor": "white",
           "linecolor": "white",
           "ticks": "",
           "title": {
            "standoff": 15
           },
           "zerolinecolor": "white",
           "zerolinewidth": 2
          }
         }
        },
        "title": {
         "text": "Top 10 Keywords in 'Organizations'"
        }
       }
      }
     },
     "metadata": {},
     "output_type": "display_data"
    }
   ],
   "source": [
    "def preprocess_keywords(data, column_name='auth-keywords'):\n",
    "    data = data[data[column_name] != '']  # Drop rows where the value is an empty string\n",
    "    return data\n",
    "\n",
    "# Function to get the top N most frequent keywords\n",
    "def get_top_keywords(data, column_name='auth-keywords', top_n=10):\n",
    "    # Split keywords by commas, explode them into individual keywords, and clean up spaces\n",
    "    keywords = data[column_name].str.split(',').explode().str.strip().dropna()\n",
    "    \n",
    "    # Count the frequency of each keyword\n",
    "    keyword_counts = keywords.value_counts().head(top_n)\n",
    "    keyword_counts_df = pd.DataFrame({'Keyword': keyword_counts.index, 'Count': keyword_counts.values})\n",
    "    # Convert the result into a DataFrame for Plotly\n",
    "    return keyword_counts_df\n",
    "\n",
    "# Function to create a pie chart using Plotly\n",
    "def create_keyword_pie_chart(keyword_counts_df, title=\"Top Keywords in 'auth-keywords'\"):\n",
    "    fig = px.pie(\n",
    "        keyword_counts_df, \n",
    "        names='Keyword', \n",
    "        values='Count', \n",
    "        title=title\n",
    "    )\n",
    "    fig.show()\n",
    "\n",
    "# Main function to execute the workflow\n",
    "def analyze_top_keywords(data, column_name='auth-keywords', top_n=10):\n",
    "    # Step 1: Preprocess the data\n",
    "    data = preprocess_keywords(data, column_name)\n",
    "    \n",
    "    # Step 2: Get the top N keywords\n",
    "    top_keywords = get_top_keywords(data, column_name, top_n)\n",
    "    \n",
    "    # Step 3: Create and display the pie chart\n",
    "    create_keyword_pie_chart(\n",
    "        top_keywords, \n",
    "        title=f\"Top {top_n} Keywords in '{column_name}'\"\n",
    "    )\n",
    "\n",
    "# Example usage (assuming `data` is your DataFrame):\n",
    "analyze_top_keywords(data, column_name='auth-keywords', top_n=10)\n",
    "analyze_top_keywords(data, column_name='Funding Agencies', top_n=10)\n",
    "analyze_top_keywords(data, column_name='Organizations',top_n=10)\n"
   ]
  },
  {
   "cell_type": "code",
   "execution_count": 19,
   "metadata": {},
   "outputs": [
    {
     "data": {
      "text/html": [
       "<div>\n",
       "<style scoped>\n",
       "    .dataframe tbody tr th:only-of-type {\n",
       "        vertical-align: middle;\n",
       "    }\n",
       "\n",
       "    .dataframe tbody tr th {\n",
       "        vertical-align: top;\n",
       "    }\n",
       "\n",
       "    .dataframe thead th {\n",
       "        text-align: right;\n",
       "    }\n",
       "</style>\n",
       "<table border=\"1\" class=\"dataframe\">\n",
       "  <thead>\n",
       "    <tr style=\"text-align: right;\">\n",
       "      <th></th>\n",
       "      <th>Count</th>\n",
       "      <th>count</th>\n",
       "    </tr>\n",
       "  </thead>\n",
       "  <tbody>\n",
       "    <tr>\n",
       "      <th>0</th>\n",
       "      <td>Thailand</td>\n",
       "      <td>747</td>\n",
       "    </tr>\n",
       "    <tr>\n",
       "      <th>1</th>\n",
       "      <td>COVID-19</td>\n",
       "      <td>282</td>\n",
       "    </tr>\n",
       "    <tr>\n",
       "      <th>2</th>\n",
       "      <td>Hadron-Hadron scattering (experiments)</td>\n",
       "      <td>152</td>\n",
       "    </tr>\n",
       "    <tr>\n",
       "      <th>3</th>\n",
       "      <td>Inflammation</td>\n",
       "      <td>130</td>\n",
       "    </tr>\n",
       "    <tr>\n",
       "      <th>4</th>\n",
       "      <td>SARS-CoV-2</td>\n",
       "      <td>115</td>\n",
       "    </tr>\n",
       "    <tr>\n",
       "      <th>5</th>\n",
       "      <td>HIV</td>\n",
       "      <td>114</td>\n",
       "    </tr>\n",
       "    <tr>\n",
       "      <th>6</th>\n",
       "      <td>CMS</td>\n",
       "      <td>98</td>\n",
       "    </tr>\n",
       "    <tr>\n",
       "      <th>7</th>\n",
       "      <td>Oxidative stress</td>\n",
       "      <td>83</td>\n",
       "    </tr>\n",
       "    <tr>\n",
       "      <th>8</th>\n",
       "      <td>Asia</td>\n",
       "      <td>81</td>\n",
       "    </tr>\n",
       "    <tr>\n",
       "      <th>9</th>\n",
       "      <td>Machine learning</td>\n",
       "      <td>78</td>\n",
       "    </tr>\n",
       "  </tbody>\n",
       "</table>\n",
       "</div>"
      ],
      "text/plain": [
       "                                    Count  count\n",
       "0                                Thailand    747\n",
       "1                                COVID-19    282\n",
       "2  Hadron-Hadron scattering (experiments)    152\n",
       "3                            Inflammation    130\n",
       "4                              SARS-CoV-2    115\n",
       "5                                     HIV    114\n",
       "6                                     CMS     98\n",
       "7                        Oxidative stress     83\n",
       "8                                    Asia     81\n",
       "9                        Machine learning     78"
      ]
     },
     "execution_count": 19,
     "metadata": {},
     "output_type": "execute_result"
    }
   ],
   "source": [
    "get_top_keywords(df)"
   ]
  },
  {
   "cell_type": "code",
   "execution_count": 15,
   "metadata": {},
   "outputs": [
    {
     "data": {
      "text/plain": [
       "0                                                      NaN\n",
       "1                                                      NaN\n",
       "2        Circulating fluidized bed,Computational fluid ...\n",
       "3        Encapsulation,Fluoroalkylsilane,Natural rubber...\n",
       "4        acpcPNA,Electrochemical impedance spectroscopy...\n",
       "                               ...                        \n",
       "20168    Biological hazards,chemical hazards,food conta...\n",
       "20169    conflict,Education,peacebuilding,social justic...\n",
       "20170    Anabas testudineus,Black soldier fly,fish meal...\n",
       "20171    Cambodia,consumption,expenditure,Impact,inequa...\n",
       "20172    Alzheimer's disease,Hydrogel colorimetric sens...\n",
       "Name: auth-keywords, Length: 20173, dtype: object"
      ]
     },
     "execution_count": 15,
     "metadata": {},
     "output_type": "execute_result"
    }
   ],
   "source": [
    "df['auth-keywords']"
   ]
  },
  {
   "cell_type": "code",
   "execution_count": null,
   "metadata": {},
   "outputs": [],
   "source": []
  },
  {
   "cell_type": "code",
   "execution_count": null,
   "metadata": {},
   "outputs": [
    {
     "data": {
      "text/plain": [
       "Index(['srctype', 'eid', 'prism:coverDate', 'prism:aggregationType',\n",
       "       'prism:url', 'subtypeDescription', 'prism:isbn',\n",
       "       'prism:publicationName', 'source-id', 'citedby-count', 'subtype',\n",
       "       'prism:pageRange', 'dc:title', 'prism:endingPage', 'openaccess',\n",
       "       'openaccessFlag', 'prism:doi', 'prism:startingPage', 'dc:identifier',\n",
       "       'dc:publisher', 'creator_given_name', 'creator_surname', 'creator_auid',\n",
       "       'link_self', 'link_scopus', 'Countries', 'Organizations',\n",
       "       'Funding Agencies', 'auth-keywords', 'dc:description', 'prism:volume',\n",
       "       'prism:issn', 'publishercopyright', 'article-number', 'pii',\n",
       "       'pubmed-id', 'prism:issueIdentifier', 'year'],\n",
       "      dtype='object')"
      ]
     },
     "execution_count": 15,
     "metadata": {},
     "output_type": "execute_result"
    }
   ],
   "source": [
    "data.columns"
   ]
  },
  {
   "cell_type": "code",
   "execution_count": null,
   "metadata": {},
   "outputs": [
    {
     "data": {
      "image/png": "[encoded data removed]",
      "text/plain": [
       "<Figure size 720x432 with 1 Axes>"
      ]
     },
     "metadata": {
      "needs_background": "light"
     },
     "output_type": "display_data"
    },
    {
     "name": "stdout",
     "output_type": "stream",
     "text": [
      "               Funding Agency  Total Citations\n",
      "2    Chulalongkorn University          75953.0\n",
      "0                                      45659.0\n",
      "5      Thailand Research Fund          22889.0\n",
      "191     Ministry of Education          14641.0\n",
      "25                       CNPq          14330.0\n",
      "88                     FAPESP          14065.0\n",
      "107                     NSTDA          13843.0\n",
      "92                      CAPES          13598.0\n",
      "93         Academy of Finland          13408.0\n",
      "98                    CONACYT          13367.0\n"
     ]
    }
   ],
   "source": [
    "import pandas as pd\n",
    "import matplotlib.pyplot as plt\n",
    "\n",
    "\n",
    "# Fill missing values in the 'Funding Agencies' and 'citedby-count' columns\n",
    "data['Funding Agencies'] = data['Funding Agencies'].fillna('')\n",
    "data['citedby-count'] = data['citedby-count'].fillna(0)\n",
    "\n",
    "# 1. Clean and split the 'Funding Agencies' column to handle multiple agencies per project\n",
    "data['Funding Agencies'] = data['Funding Agencies'].str.split(',')\n",
    "\n",
    "# 2. Create a list of all funding agencies and their citation counts\n",
    "funding_agency_citations = {}\n",
    "\n",
    "for index, row in data.iterrows():\n",
    "    citations = row['citedby-count']\n",
    "    agencies = row['Funding Agencies']\n",
    "    \n",
    "    for agency in agencies:\n",
    "        agency = agency.strip()  # Remove extra spaces\n",
    "        if agency in funding_agency_citations:\n",
    "            funding_agency_citations[agency] += citations  # Add citations to existing agency\n",
    "        else:\n",
    "            funding_agency_citations[agency] = citations  # Initialize with citation count\n",
    "\n",
    "# 3. Convert the dictionary to a DataFrame for easy handling\n",
    "funding_df = pd.DataFrame(funding_agency_citations.items(), columns=['Funding Agency', 'Total Citations'])\n",
    "\n",
    "# 4. Sort the data by the number of citations (descending)\n",
    "funding_df = funding_df.sort_values(by='Total Citations', ascending=False)\n",
    "\n",
    "# 5. Display the top funding agencies\n",
    "top_funding_agencies = funding_df.head(10)\n",
    "\n",
    "# 6. Plot the top funding agencies with citations\n",
    "plt.figure(figsize=(10, 6))\n",
    "plt.bar(top_funding_agencies['Funding Agency'], top_funding_agencies['Total Citations'], color='skyblue')\n",
    "plt.xlabel('Funding Agencies')\n",
    "plt.ylabel('Total Citations')\n",
    "plt.title('Top Funding Agencies by Total Citations')\n",
    "plt.xticks(rotation=45, ha='right')\n",
    "plt.tight_layout()\n",
    "plt.show()\n",
    "\n",
    "# Optionally, display the data for the top agencies\n",
    "print(top_funding_agencies)\n",
    "\n"
   ]
  },
  {
   "cell_type": "code",
   "execution_count": null,
   "metadata": {},
   "outputs": [],
   "source": []
  },
  {
   "cell_type": "code",
   "execution_count": 16,
   "metadata": {},
   "outputs": [
    {
     "ename": "ModuleNotFoundError",
     "evalue": "No module named 'geopy'",
     "output_type": "error",
     "traceback": [
      "\u001b[1;31m---------------------------------------------------------------------------\u001b[0m",
      "\u001b[1;31mModuleNotFoundError\u001b[0m                       Traceback (most recent call last)",
      "Cell \u001b[1;32mIn[16], line 1\u001b[0m\n\u001b[1;32m----> 1\u001b[0m \u001b[38;5;28;01mfrom\u001b[39;00m \u001b[38;5;21;01mgeopy\u001b[39;00m\u001b[38;5;21;01m.\u001b[39;00m\u001b[38;5;21;01mgeocoders\u001b[39;00m \u001b[38;5;28;01mimport\u001b[39;00m Nominatim\n\u001b[0;32m      2\u001b[0m \u001b[38;5;28;01mimport\u001b[39;00m \u001b[38;5;21;01mpycountry\u001b[39;00m\n\u001b[0;32m      4\u001b[0m \u001b[38;5;28;01mdef\u001b[39;00m \u001b[38;5;21mget_coordinates\u001b[39m(country):\n",
      "\u001b[1;31mModuleNotFoundError\u001b[0m: No module named 'geopy'"
     ]
    }
   ],
   "source": [
    "from geopy.geocoders import Nominatim\n",
    "import pycountry\n",
    "\n",
    "def get_coordinates(country):\n",
    "    try:\n",
    "        country_obj = pycountry.countries.get(name=country)\n",
    "        geolocator = Nominatim(user_agent=\"my-application\")\n",
    "        location = geolocator.geocode(country_obj.name)\n",
    "        return location.latitude, location.longitude\n",
    "    except AttributeError:\n",
    "        return None, None"
   ]
  },
  {
   "cell_type": "code",
   "execution_count": null,
   "metadata": {},
   "outputs": [
    {
     "name": "stdout",
     "output_type": "stream",
     "text": [
      "<class 'float'>\n"
     ]
    },
    {
     "data": {
      "text/html": [
       "<div>\n",
       "<style scoped>\n",
       "    .dataframe tbody tr th:only-of-type {\n",
       "        vertical-align: middle;\n",
       "    }\n",
       "\n",
       "    .dataframe tbody tr th {\n",
       "        vertical-align: top;\n",
       "    }\n",
       "\n",
       "    .dataframe thead th {\n",
       "        text-align: right;\n",
       "    }\n",
       "</style>\n",
       "<table border=\"1\" class=\"dataframe\">\n",
       "  <thead>\n",
       "    <tr style=\"text-align: right;\">\n",
       "      <th></th>\n",
       "      <th>srctype</th>\n",
       "      <th>eid</th>\n",
       "      <th>prism:coverDate</th>\n",
       "      <th>prism:aggregationType</th>\n",
       "      <th>prism:url</th>\n",
       "      <th>subtypeDescription</th>\n",
       "      <th>prism:isbn</th>\n",
       "      <th>prism:publicationName</th>\n",
       "      <th>source-id</th>\n",
       "      <th>citedby-count</th>\n",
       "      <th>...</th>\n",
       "      <th>auth-keywords</th>\n",
       "      <th>dc:description</th>\n",
       "      <th>prism:volume</th>\n",
       "      <th>prism:issn</th>\n",
       "      <th>publishercopyright</th>\n",
       "      <th>article-number</th>\n",
       "      <th>pii</th>\n",
       "      <th>pubmed-id</th>\n",
       "      <th>prism:issueIdentifier</th>\n",
       "      <th>year</th>\n",
       "    </tr>\n",
       "  </thead>\n",
       "  <tbody>\n",
       "    <tr>\n",
       "      <th>0</th>\n",
       "      <td>b</td>\n",
       "      <td>2-s2.0-85077976956</td>\n",
       "      <td>2018-12-31</td>\n",
       "      <td>Book</td>\n",
       "      <td>https://api.elsevier.com/content/abstract/scop...</td>\n",
       "      <td>Book Chapter</td>\n",
       "      <td>[{'$': '9783319984858'}, {'$': '9783319984841'}]</td>\n",
       "      <td>Radiology in Global Health: Strategies, Implem...</td>\n",
       "      <td>21100942340</td>\n",
       "      <td>1.0</td>\n",
       "      <td>...</td>\n",
       "      <td>NaN</td>\n",
       "      <td>NaN</td>\n",
       "      <td>NaN</td>\n",
       "      <td>NaN</td>\n",
       "      <td>NaN</td>\n",
       "      <td>NaN</td>\n",
       "      <td>NaN</td>\n",
       "      <td>NaN</td>\n",
       "      <td>NaN</td>\n",
       "      <td>2018</td>\n",
       "    </tr>\n",
       "    <tr>\n",
       "      <th>1</th>\n",
       "      <td>p</td>\n",
       "      <td>2-s2.0-85060936020</td>\n",
       "      <td>2018-12-31</td>\n",
       "      <td>Conference Proceeding</td>\n",
       "      <td>https://api.elsevier.com/content/abstract/scop...</td>\n",
       "      <td>Conference Paper</td>\n",
       "      <td>9784885523151</td>\n",
       "      <td>Progress in Electromagnetics Research Symposium</td>\n",
       "      <td>21000195302</td>\n",
       "      <td>1.0</td>\n",
       "      <td>...</td>\n",
       "      <td>NaN</td>\n",
       "      <td>This paper presents the development of a flexi...</td>\n",
       "      <td>2018-August</td>\n",
       "      <td>19317360 15599450</td>\n",
       "      <td>© 2018 The Institute of Electronics, Informati...</td>\n",
       "      <td>8597669</td>\n",
       "      <td>NaN</td>\n",
       "      <td>NaN</td>\n",
       "      <td>NaN</td>\n",
       "      <td>2018</td>\n",
       "    </tr>\n",
       "    <tr>\n",
       "      <th>2</th>\n",
       "      <td>j</td>\n",
       "      <td>2-s2.0-85052201238</td>\n",
       "      <td>2018-12-31</td>\n",
       "      <td>Journal</td>\n",
       "      <td>https://api.elsevier.com/content/abstract/scop...</td>\n",
       "      <td>Article</td>\n",
       "      <td>NaN</td>\n",
       "      <td>Chemical Engineering Science</td>\n",
       "      <td>16413</td>\n",
       "      <td>21.0</td>\n",
       "      <td>...</td>\n",
       "      <td>Circulating fluidized bed,Computational fluid ...</td>\n",
       "      <td>Computational fluid dynamics was applied for s...</td>\n",
       "      <td>192</td>\n",
       "      <td>00092509</td>\n",
       "      <td>© 2018 Elsevier Ltd</td>\n",
       "      <td>NaN</td>\n",
       "      <td>S0009250918306183</td>\n",
       "      <td>NaN</td>\n",
       "      <td>NaN</td>\n",
       "      <td>2018</td>\n",
       "    </tr>\n",
       "    <tr>\n",
       "      <th>3</th>\n",
       "      <td>j</td>\n",
       "      <td>2-s2.0-85051498032</td>\n",
       "      <td>2018-12-31</td>\n",
       "      <td>Journal</td>\n",
       "      <td>https://api.elsevier.com/content/abstract/scop...</td>\n",
       "      <td>Article</td>\n",
       "      <td>NaN</td>\n",
       "      <td>Applied Surface Science</td>\n",
       "      <td>28983</td>\n",
       "      <td>37.0</td>\n",
       "      <td>...</td>\n",
       "      <td>Encapsulation,Fluoroalkylsilane,Natural rubber...</td>\n",
       "      <td>A superhydrophobic/superoleophilic mesh was su...</td>\n",
       "      <td>462</td>\n",
       "      <td>01694332</td>\n",
       "      <td>© 2018 Elsevier B.V.</td>\n",
       "      <td>NaN</td>\n",
       "      <td>S0169433218321792</td>\n",
       "      <td>NaN</td>\n",
       "      <td>NaN</td>\n",
       "      <td>2018</td>\n",
       "    </tr>\n",
       "    <tr>\n",
       "      <th>4</th>\n",
       "      <td>j</td>\n",
       "      <td>2-s2.0-85050678366</td>\n",
       "      <td>2018-12-31</td>\n",
       "      <td>Journal</td>\n",
       "      <td>https://api.elsevier.com/content/abstract/scop...</td>\n",
       "      <td>Article</td>\n",
       "      <td>NaN</td>\n",
       "      <td>Analytica Chimica Acta</td>\n",
       "      <td>23911</td>\n",
       "      <td>68.0</td>\n",
       "      <td>...</td>\n",
       "      <td>acpcPNA,Electrochemical impedance spectroscopy...</td>\n",
       "      <td>A label-free electrochemical DNA sensor based ...</td>\n",
       "      <td>1044</td>\n",
       "      <td>18734324 00032670</td>\n",
       "      <td>© 2018 Elsevier B.V.</td>\n",
       "      <td>NaN</td>\n",
       "      <td>S0003267018309097</td>\n",
       "      <td>30442390.0</td>\n",
       "      <td>NaN</td>\n",
       "      <td>2018</td>\n",
       "    </tr>\n",
       "  </tbody>\n",
       "</table>\n",
       "<p>5 rows × 38 columns</p>\n",
       "</div>"
      ],
      "text/plain": [
       "  srctype                 eid prism:coverDate  prism:aggregationType  \\\n",
       "0       b  2-s2.0-85077976956      2018-12-31                   Book   \n",
       "1       p  2-s2.0-85060936020      2018-12-31  Conference Proceeding   \n",
       "2       j  2-s2.0-85052201238      2018-12-31                Journal   \n",
       "3       j  2-s2.0-85051498032      2018-12-31                Journal   \n",
       "4       j  2-s2.0-85050678366      2018-12-31                Journal   \n",
       "\n",
       "                                           prism:url subtypeDescription  \\\n",
       "0  https://api.elsevier.com/content/abstract/scop...       Book Chapter   \n",
       "1  https://api.elsevier.com/content/abstract/scop...   Conference Paper   \n",
       "2  https://api.elsevier.com/content/abstract/scop...            Article   \n",
       "3  https://api.elsevier.com/content/abstract/scop...            Article   \n",
       "4  https://api.elsevier.com/content/abstract/scop...            Article   \n",
       "\n",
       "                                         prism:isbn  \\\n",
       "0  [{'$': '9783319984858'}, {'$': '9783319984841'}]   \n",
       "1                                     9784885523151   \n",
       "2                                               NaN   \n",
       "3                                               NaN   \n",
       "4                                               NaN   \n",
       "\n",
       "                               prism:publicationName    source-id  \\\n",
       "0  Radiology in Global Health: Strategies, Implem...  21100942340   \n",
       "1    Progress in Electromagnetics Research Symposium  21000195302   \n",
       "2                       Chemical Engineering Science        16413   \n",
       "3                            Applied Surface Science        28983   \n",
       "4                             Analytica Chimica Acta        23911   \n",
       "\n",
       "   citedby-count  ...                                      auth-keywords  \\\n",
       "0            1.0  ...                                                NaN   \n",
       "1            1.0  ...                                                NaN   \n",
       "2           21.0  ...  Circulating fluidized bed,Computational fluid ...   \n",
       "3           37.0  ...  Encapsulation,Fluoroalkylsilane,Natural rubber...   \n",
       "4           68.0  ...  acpcPNA,Electrochemical impedance spectroscopy...   \n",
       "\n",
       "                                      dc:description prism:volume  \\\n",
       "0                                                NaN          NaN   \n",
       "1  This paper presents the development of a flexi...  2018-August   \n",
       "2  Computational fluid dynamics was applied for s...          192   \n",
       "3  A superhydrophobic/superoleophilic mesh was su...          462   \n",
       "4  A label-free electrochemical DNA sensor based ...         1044   \n",
       "\n",
       "          prism:issn                                 publishercopyright  \\\n",
       "0                NaN                                                NaN   \n",
       "1  19317360 15599450  © 2018 The Institute of Electronics, Informati...   \n",
       "2           00092509                                © 2018 Elsevier Ltd   \n",
       "3           01694332                               © 2018 Elsevier B.V.   \n",
       "4  18734324 00032670                               © 2018 Elsevier B.V.   \n",
       "\n",
       "  article-number                pii   pubmed-id prism:issueIdentifier  year  \n",
       "0            NaN                NaN         NaN                   NaN  2018  \n",
       "1        8597669                NaN         NaN                   NaN  2018  \n",
       "2            NaN  S0009250918306183         NaN                   NaN  2018  \n",
       "3            NaN  S0169433218321792         NaN                   NaN  2018  \n",
       "4            NaN  S0003267018309097  30442390.0                   NaN  2018  \n",
       "\n",
       "[5 rows x 38 columns]"
      ]
     },
     "execution_count": 81,
     "metadata": {},
     "output_type": "execute_result"
    }
   ],
   "source": [
    "from geopy.geocoders import Nominatim\n",
    "\n",
    "# Update the user_agent to a custom value\n",
    "geolocator = Nominatim(user_agent=\"my_custom_user_agent\")\n",
    "country_record = pd.read_csv('./dataset/country-coord.csv')\n",
    "\n",
    "def get_coordinates2(country):\n",
    "    try:\n",
    "        # Ensure `country_record` is a valid DataFrame\n",
    "        if 'Country' not in country_record.columns or \\\n",
    "           'latitude' not in country_record.columns or \\\n",
    "           'longitude' not in country_record.columns:\n",
    "            raise ValueError(\"country_record must contain 'Country', 'latitude', and 'longitude' columns\")\n",
    "        \n",
    "        # Filter for the specified country\n",
    "        result = country_record[country_record['Country'] == country][['latitude', 'longitude']]\n",
    "        \n",
    "        # Check if the country exists in the DataFrame\n",
    "        if result.empty:\n",
    "            raise ValueError(f\"Country '{country}' not found in country_record\")\n",
    "        \n",
    "        # If there are multiple records, take the first one (or handle accordingly)\n",
    "        if len(result) > 1:\n",
    "            print(f\"Warning: Multiple records found for '{country}', returning the first match\")\n",
    "        \n",
    "        # Return the first record as a tuple\n",
    "        return result.iloc[0].latitude, result.iloc[0].longitude\n",
    "    \n",
    "    except ValueError as e:\n",
    "        # Handle missing or invalid cases\n",
    "        print(f\"Error: {e}\")\n",
    "        return None, None\n",
    "    except Exception as e:\n",
    "        # Catch any other unexpected errors\n",
    "        print(f\"Unexpected error: {e}\")\n",
    "        return None, None\n",
    "\n",
    "\n",
    "print(type(get_coordinates('United States')[0]))\n",
    "df.head()\n",
    "# df[['latitude', 'longitude']] = df['country'].apply(get_coordinates).apply(pd.Series)"
   ]
  },
  {
   "cell_type": "code",
   "execution_count": null,
   "metadata": {},
   "outputs": [
    {
     "data": {
      "text/plain": [
       "0    Thailand,United States,Thailand,United States,...\n",
       "1                                             Thailand\n",
       "2         Thailand,Thailand,Thailand,Thailand,Thailand\n",
       "3      Thailand,Japan,Japan,Thailand,Thailand,Thailand\n",
       "4    Thailand,Thailand,Thailand,Thailand,Thailand,U...\n",
       "Name: Countries, dtype: object"
      ]
     },
     "execution_count": 82,
     "metadata": {},
     "output_type": "execute_result"
    }
   ],
   "source": [
    "data['Countries'].head()"
   ]
  },
  {
   "cell_type": "code",
   "execution_count": null,
   "metadata": {},
   "outputs": [
    {
     "name": "stdout",
     "output_type": "stream",
     "text": [
      "(15.0, 100.0)\n",
      "(15.0, 100.0)\n",
      "(15.0, 100.0)\n",
      "(15.0, 100.0)\n",
      "(15.0, 100.0)\n",
      "(15.0, 100.0)\n",
      "(15.0, 100.0)\n",
      "(38.0, -97.0)\n",
      "(15.0, 100.0)\n",
      "(15.0, 100.0)\n",
      "(35.0, 105.0)\n",
      "(15.0, 100.0)\n",
      "(15.0, 100.0)\n",
      "(38.0, -97.0)\n",
      "(15.0, 100.0)\n",
      "(15.0, 100.0)\n",
      "(54.0, -2.0)\n",
      "(35.0, 105.0)\n",
      "(15.0, 100.0)\n",
      "(15.0, 100.0)\n",
      "(15.0, 100.0)\n",
      "(15.0, 100.0)\n",
      "(15.0, 100.0)\n",
      "(15.0, 100.0)\n",
      "(15.0, 100.0)\n",
      "(15.0, 100.0)\n",
      "(15.0, 100.0)\n",
      "(15.0, 100.0)\n",
      "(15.0, 100.0)\n",
      "(15.0, 100.0)\n",
      "(15.0, 100.0)\n",
      "(15.0, 100.0)\n",
      "(15.0, 100.0)\n",
      "(15.0, 100.0)\n",
      "(15.0, 100.0)\n",
      "(15.0, 100.0)\n",
      "(15.0, 100.0)\n",
      "(15.0, 100.0)\n",
      "(15.0, 100.0)\n",
      "(15.0, 100.0)\n",
      "(40.0, 45.0)\n",
      "(15.0, 100.0)\n",
      "(15.0, 100.0)\n",
      "(40.0, 45.0)\n",
      "(35.0, 105.0)\n",
      "(38.0, -97.0)\n",
      "(15.0, 100.0)\n",
      "(15.0, 100.0)\n",
      "(15.0, 100.0)\n",
      "(15.0, 100.0)\n"
     ]
    }
   ],
   "source": [
    "expanded_data = []\n",
    "num = 0\n",
    "\n",
    "\n",
    "for index, row in data.iterrows():\n",
    "    countries = row['Countries'].split(',')\n",
    "    \n",
    "    coords = [get_coordinates2(country) for country in countries]\n",
    "    print(coords[0])\n",
    "    for coord in coords:\n",
    "        expanded_data.append({\n",
    "            'Country': countries[coords.index(coord)],  # Country name\n",
    "            'latitude': coord[0],\n",
    "            'longitude': coord[1]\n",
    "        })\n",
    "    num += 1\n",
    "    if num == 100:\n",
    "        break\n",
    "expanded_df = pd.DataFrame(expanded_data)\n",
    "expanded_data\n",
    "\n",
    "# Save DataFrame to CSV\n",
    "expanded_df.to_csv('countries.csv', index=False)"
   ]
  },
  {
   "cell_type": "code",
   "execution_count": null,
   "metadata": {},
   "outputs": [
    {
     "name": "stdout",
     "output_type": "stream",
     "text": [
      "[(15.0, 100.0), (38.0, -97.0), (15.0, 100.0), (38.0, -97.0), (38.0, -97.0), (38.0, -97.0)]\n",
      "1\n",
      "[(15.0, 100.0)]\n",
      "2\n",
      "[(15.0, 100.0), (15.0, 100.0), (15.0, 100.0), (15.0, 100.0), (15.0, 100.0)]\n",
      "3\n",
      "[(15.0, 100.0), (36.0, 138.0), (36.0, 138.0), (15.0, 100.0), (15.0, 100.0), (15.0, 100.0)]\n",
      "4\n",
      "[(15.0, 100.0), (15.0, 100.0), (15.0, 100.0), (15.0, 100.0), (15.0, 100.0), (38.0, -97.0)]\n",
      "5\n",
      "[(15.0, 100.0)]\n",
      "6\n",
      "[(15.0, 100.0), (15.0, 100.0), (15.0, 100.0)]\n",
      "7\n",
      "[(38.0, -97.0), (38.0, -97.0), (15.0, 100.0)]\n",
      "8\n",
      "[(15.0, 100.0), (15.0, 100.0)]\n",
      "9\n",
      "[(15.0, 100.0), (15.0, 100.0)]\n",
      "10\n",
      "[(35.0, 105.0), (15.0, 100.0), (35.0, 105.0)]\n",
      "11\n",
      "[(15.0, 100.0)]\n",
      "12\n",
      "[(15.0, 100.0), (15.0, 100.0)]\n",
      "13\n",
      "[(38.0, -97.0), (38.0, -97.0), (36.0, 138.0), (15.0, 100.0), (54.0, -2.0), (38.0, -97.0), (38.0, -97.0), (38.0, -97.0), (38.0, -97.0), (38.0, -97.0), (38.0, -97.0), (38.0, -97.0), (24.0, 54.0), (38.0, -97.0), (38.0, -97.0), (60.0, 100.0), (54.0, -2.0), (54.0, -2.0), (35.0, 105.0), (-10.0, -55.0), (-10.0, -55.0)]\n",
      "14\n",
      "[(15.0, 100.0), (15.0, 100.0)]\n",
      "15\n",
      "[(15.0, 100.0)]\n",
      "16\n",
      "[(54.0, -2.0), (38.0, -97.0), (-41.0, 174.0), (62.0, 15.0), (38.0, -97.0), (15.0, 100.0), (38.0, -97.0)]\n",
      "17\n",
      "[(35.0, 105.0), (15.0, 100.0), (15.0, 100.0), (-30.0, -71.0)]\n",
      "18\n",
      "[(15.0, 100.0), (15.0, 100.0), (15.0, 100.0), (15.0, 100.0)]\n",
      "19\n",
      "[(15.0, 100.0), (15.0, 100.0)]\n",
      "20\n",
      "[(15.0, 100.0), (15.0, 100.0)]\n",
      "21\n",
      "[(15.0, 100.0), (15.0, 100.0)]\n",
      "22\n",
      "[(15.0, 100.0), (15.0, 100.0)]\n",
      "23\n",
      "[(15.0, 100.0)]\n",
      "24\n",
      "[(15.0, 100.0), (15.0, 100.0)]\n",
      "25\n",
      "[(15.0, 100.0), (15.0, 100.0), (15.0, 100.0)]\n",
      "26\n",
      "[(15.0, 100.0)]\n",
      "27\n",
      "[(15.0, 100.0), (15.0, 100.0)]\n",
      "28\n",
      "[(15.0, 100.0), (15.0, 100.0)]\n",
      "29\n",
      "[(15.0, 100.0)]\n",
      "30\n",
      "[(15.0, 100.0)]\n",
      "31\n",
      "[(15.0, 100.0)]\n",
      "32\n",
      "[(15.0, 100.0), (15.0, 100.0), (15.0, 100.0), (-5.0, 120.0)]\n",
      "33\n",
      "[(15.0, 100.0), (50.8333, 4.0)]\n",
      "34\n",
      "[(15.0, 100.0), (15.0, 100.0), (2.5, 112.5), (15.0, 100.0), (15.0, 100.0), (15.0, 100.0)]\n",
      "35\n",
      "[(15.0, 100.0), (15.0, 100.0)]\n",
      "36\n",
      "[(15.0, 100.0), (48.6667, 19.5)]\n",
      "37\n",
      "[(15.0, 100.0)]\n",
      "38\n",
      "[(15.0, 100.0)]\n",
      "39\n",
      "[(15.0, 100.0)]\n",
      "40\n",
      "[(40.0, 45.0), (47.3333, 13.3333), (53.0, 28.0), (50.8333, 4.0), (50.8333, 4.0), (50.8333, 4.0), (50.8333, 4.0), (50.8333, 4.0), (-10.0, -55.0), (-10.0, -55.0), (-10.0, -55.0), (-10.0, -55.0), (43.0, 25.0), (43.0, 25.0), (35.0, 105.0), (35.0, 105.0), (35.0, 105.0), (35.0, 105.0), (4.0, -72.0), (45.1667, 15.5), (45.1667, 15.5), (45.1667, 15.5), (35.0, 33.0), (49.75, 15.5), (-2.0, -77.5), (27.0, 30.0), (59.0, 26.0), (64.0, 26.0), (64.0, 26.0), (64.0, 26.0), (46.0, 2.0), (46.0, 2.0), (46.0, 2.0), (46.0, 2.0), (46.0, 2.0), (42.0, 43.5), (42.0, 43.5), (51.0, 9.0), (51.0, 9.0), (51.0, 9.0), (51.0, 9.0), (51.0, 9.0), (51.0, 9.0), (39.0, 22.0), (39.0, 22.0), (39.0, 22.0), (39.0, 22.0), (47.0, 20.0), (47.0, 20.0), (47.0, 20.0), (47.0, 20.0), (20.0, 77.0), (20.0, 77.0), (20.0, 77.0), (20.0, 77.0), (20.0, 77.0), (20.0, 77.0), (20.0, 77.0), (20.0, 77.0), (20.0, 77.0), (20.0, 77.0), (32.0, 53.0), (53.0, -8.0), (42.8333, 12.8333), (42.8333, 12.8333), (42.8333, 12.8333), (42.8333, 12.8333), (42.8333, 12.8333), (42.8333, 12.8333), (42.8333, 12.8333), (42.8333, 12.8333), (42.8333, 12.8333), (42.8333, 12.8333), (42.8333, 12.8333), (42.8333, 12.8333), (42.8333, 12.8333), (42.8333, 12.8333), (42.8333, 12.8333), (42.8333, 12.8333), (42.8333, 12.8333), (42.8333, 12.8333), (42.8333, 12.8333), (42.8333, 12.8333), (42.8333, 12.8333), (42.8333, 12.8333), (42.8333, 12.8333), (42.8333, 12.8333), (42.8333, 12.8333), (42.8333, 12.8333), (42.8333, 12.8333), (42.8333, 12.8333), (42.8333, 12.8333), (42.8333, 12.8333), (42.8333, 12.8333), (42.8333, 12.8333), (42.8333, 12.8333), (42.8333, 12.8333), (42.8333, 12.8333), (40.0, 127.0), (40.0, 127.0), (40.0, 127.0), (40.0, 127.0), (40.0, 127.0), (40.0, 127.0), (40.0, 127.0), (56.0, 24.0), (2.5, 112.5), (23.0, -102.0), (23.0, -102.0), (23.0, -102.0), (23.0, -102.0), (-41.0, 174.0), (-41.0, 174.0), (30.0, 70.0), (52.0, 20.0), (52.0, 20.0), (39.5, -8.0), (60.0, 100.0), (60.0, 100.0), (60.0, 100.0), (60.0, 100.0), (60.0, 100.0), (60.0, 100.0), (60.0, 100.0), (60.0, 100.0), (60.0, 100.0), (60.0, 100.0), (60.0, 100.0), (44.0, 21.0), (40.0, -4.0), (40.0, -4.0), (40.0, -4.0), (40.0, -4.0), (47.0, 8.0), (47.0, 8.0), (47.0, 8.0), (47.0, 8.0), (23.5, 121.0), (23.5, 121.0), (15.0, 100.0), (39.0, 35.0), (39.0, 35.0), (39.0, 35.0), (39.0, 35.0), (49.0, 32.0), (49.0, 32.0), (54.0, -2.0), (54.0, -2.0), (54.0, -2.0), (54.0, -2.0), (38.0, -97.0), (38.0, -97.0), (38.0, -97.0), (38.0, -97.0), (38.0, -97.0), (38.0, -97.0), (38.0, -97.0), (38.0, -97.0), (38.0, -97.0), (38.0, -97.0), (38.0, -97.0), (38.0, -97.0), (38.0, -97.0), (38.0, -97.0), (38.0, -97.0), (38.0, -97.0), (38.0, -97.0), (38.0, -97.0), (38.0, -97.0), (38.0, -97.0), (38.0, -97.0), (38.0, -97.0), (38.0, -97.0), (38.0, -97.0), (38.0, -97.0), (38.0, -97.0), (38.0, -97.0), (38.0, -97.0), (38.0, -97.0), (38.0, -97.0), (38.0, -97.0), (38.0, -97.0), (38.0, -97.0), (38.0, -97.0), (38.0, -97.0), (38.0, -97.0), (18.25, -66.5), (38.0, -97.0), (38.0, -97.0), (38.0, -97.0), (38.0, -97.0), (38.0, -97.0), (38.0, -97.0), (38.0, -97.0), (38.0, -97.0), (38.0, -97.0), (38.0, -97.0), (38.0, -97.0), (38.0, -97.0), (38.0, -97.0), (40.0, 127.0), (25.5, 51.25), (47.3333, 13.3333), (46.0, 2.0), (-10.0, -55.0), (-10.0, -55.0), (50.8333, 4.0), (60.0, 100.0), (60.0, 100.0), (27.0, 30.0), (27.0, 30.0), (27.0, 30.0), (27.0, 30.0), (25.0, 45.0), (46.0, 2.0), (60.0, 100.0), (42.0, 43.5), (47.0, 8.0), (51.0, 9.0), (51.0, 9.0), (51.0, 9.0), (47.0, 20.0), (47.0, 20.0), (47.0, 20.0), (20.0, 77.0), (20.0, 77.0), (20.0, 77.0), (20.0, 77.0), (7.0, 81.0), (32.0, 53.0), (32.0, 53.0), (32.0, 53.0), (42.8333, 12.8333), (42.8333, 12.8333), (2.5, 112.5), (2.5, 112.5), (23.0, -102.0), (52.0, 20.0), (60.0, 100.0), (60.0, 100.0), (60.0, 100.0), (38.0, -97.0), (60.0, 100.0), (60.0, 100.0), (44.0, 21.0), (44.0, 21.0), (42.8333, 12.8333), (39.0, 22.0), (57.0, 25.0), (47.0, 8.0), (47.0, 8.0), (39.0, 35.0), (39.0, 35.0), (39.0, 35.0), (39.0, 35.0), (39.0, 35.0), (39.0, 35.0), (39.0, 35.0), (39.0, 35.0), (39.0, 35.0), (39.0, 35.0), (54.0, -2.0), (54.0, -2.0), (-27.0, 133.0), (40.0, -4.0), (38.0, -97.0), (38.0, -97.0), (39.0, 35.0), (39.0, 35.0), (39.0, 35.0), (39.0, 35.0), (39.0, 35.0)]\n",
      "41\n",
      "[(15.0, 100.0), (62.0, 15.0), (15.0, 100.0), (62.0, 15.0)]\n",
      "42\n",
      "[(15.0, 100.0), (15.0, 100.0)]\n",
      "43\n",
      "[(40.0, 45.0), (47.3333, 13.3333), (53.0, 28.0), (50.8333, 4.0), (50.8333, 4.0), (50.8333, 4.0), (50.8333, 4.0), (50.8333, 4.0), (-10.0, -55.0), (-10.0, -55.0), (-10.0, -55.0), (-10.0, -55.0), (43.0, 25.0), (43.0, 25.0), (35.0, 105.0), (35.0, 105.0), (35.0, 105.0), (35.0, 105.0), (4.0, -72.0), (45.1667, 15.5), (45.1667, 15.5), (45.1667, 15.5), (35.0, 33.0), (49.75, 15.5), (-2.0, -77.5), (-2.0, -77.5), (27.0, 30.0), (59.0, 26.0), (64.0, 26.0), (64.0, 26.0), (64.0, 26.0), (46.0, 2.0), (46.0, 2.0), (46.0, 2.0), (46.0, 2.0), (46.0, 2.0), (42.0, 43.5), (42.0, 43.5), (51.0, 9.0), (51.0, 9.0), (51.0, 9.0), (51.0, 9.0), (51.0, 9.0), (51.0, 9.0), (39.0, 22.0), (39.0, 22.0), (39.0, 22.0), (39.0, 22.0), (47.0, 20.0), (47.0, 20.0), (47.0, 20.0), (47.0, 20.0), (20.0, 77.0), (20.0, 77.0), (20.0, 77.0), (20.0, 77.0), (20.0, 77.0), (20.0, 77.0), (20.0, 77.0), (20.0, 77.0), (20.0, 77.0), (20.0, 77.0), (32.0, 53.0), (53.0, -8.0), (42.8333, 12.8333), (42.8333, 12.8333), (42.8333, 12.8333), (42.8333, 12.8333), (42.8333, 12.8333), (42.8333, 12.8333), (42.8333, 12.8333), (42.8333, 12.8333), (42.8333, 12.8333), (42.8333, 12.8333), (42.8333, 12.8333), (42.8333, 12.8333), (42.8333, 12.8333), (42.8333, 12.8333), (42.8333, 12.8333), (42.8333, 12.8333), (42.8333, 12.8333), (42.8333, 12.8333), (42.8333, 12.8333), (42.8333, 12.8333), (42.8333, 12.8333), (42.8333, 12.8333), (42.8333, 12.8333), (42.8333, 12.8333), (42.8333, 12.8333), (42.8333, 12.8333), (42.8333, 12.8333), (42.8333, 12.8333), (42.8333, 12.8333), (42.8333, 12.8333), (42.8333, 12.8333), (42.8333, 12.8333), (42.8333, 12.8333), (42.8333, 12.8333), (42.8333, 12.8333), (40.0, 127.0), (40.0, 127.0), (40.0, 127.0), (40.0, 127.0), (40.0, 127.0), (40.0, 127.0), (40.0, 127.0), (40.0, 127.0), (56.0, 24.0), (2.5, 112.5), (23.0, -102.0), (23.0, -102.0), (23.0, -102.0), (23.0, -102.0), (23.0, -102.0), (-41.0, 174.0), (-41.0, 174.0), (30.0, 70.0), (52.0, 20.0), (52.0, 20.0), (39.5, -8.0), (60.0, 100.0), (60.0, 100.0), (60.0, 100.0), (60.0, 100.0), (60.0, 100.0), (60.0, 100.0), (60.0, 100.0), (60.0, 100.0), (60.0, 100.0), (60.0, 100.0), (60.0, 100.0), (44.0, 21.0), (40.0, -4.0), (40.0, -4.0), (40.0, -4.0), (40.0, -4.0), (7.0, 81.0), (47.0, 8.0), (47.0, 8.0), (47.0, 8.0), (47.0, 8.0), (23.5, 121.0), (23.5, 121.0), (15.0, 100.0), (39.0, 35.0), (39.0, 35.0), (39.0, 35.0), (39.0, 35.0), (49.0, 32.0), (49.0, 32.0), (54.0, -2.0), (54.0, -2.0), (54.0, -2.0), (54.0, -2.0), (38.0, -97.0), (38.0, -97.0), (38.0, -97.0), (38.0, -97.0), (38.0, -97.0), (38.0, -97.0), (38.0, -97.0), (38.0, -97.0), (38.0, -97.0), (38.0, -97.0), (38.0, -97.0), (38.0, -97.0), (38.0, -97.0), (38.0, -97.0), (38.0, -97.0), (38.0, -97.0), (38.0, -97.0), (38.0, -97.0), (38.0, -97.0), (38.0, -97.0), (38.0, -97.0), (38.0, -97.0), (38.0, -97.0), (38.0, -97.0), (38.0, -97.0), (38.0, -97.0), (38.0, -97.0), (38.0, -97.0), (38.0, -97.0), (38.0, -97.0), (38.0, -97.0), (38.0, -97.0), (38.0, -97.0), (38.0, -97.0), (38.0, -97.0), (38.0, -97.0), (18.25, -66.5), (38.0, -97.0), (38.0, -97.0), (38.0, -97.0), (38.0, -97.0), (38.0, -97.0), (38.0, -97.0), (38.0, -97.0), (38.0, -97.0), (38.0, -97.0), (38.0, -97.0), (38.0, -97.0), (38.0, -97.0), (40.0, 127.0), (25.5, 51.25), (47.3333, 13.3333), (46.0, 2.0), (-10.0, -55.0), (-10.0, -55.0), (50.8333, 4.0), (35.0, 105.0), (60.0, 100.0), (60.0, 100.0), (27.0, 30.0), (27.0, 30.0), (27.0, 30.0), (27.0, 30.0), (25.0, 45.0), (46.0, 2.0), (60.0, 100.0), (42.0, 43.5), (47.0, 8.0), (51.0, 9.0), (51.0, 9.0), (51.0, 9.0), (47.0, 20.0), (47.0, 20.0), (47.0, 20.0), (20.0, 77.0), (20.0, 77.0), (20.0, 77.0), (20.0, 77.0), (32.0, 53.0), (32.0, 53.0), (42.8333, 12.8333), (40.0, 127.0), (2.5, 112.5), (2.5, 112.5), (23.0, -102.0), (52.0, 20.0), (60.0, 100.0), (60.0, 100.0), (60.0, 100.0), (38.0, -97.0), (60.0, 100.0), (38.0, -97.0), (60.0, 100.0), (44.0, 21.0), (42.8333, 12.8333), (44.0, 21.0), (42.8333, 12.8333), (39.0, 22.0), (57.0, 25.0), (47.0, 8.0), (47.3333, 13.3333), (39.0, 35.0), (39.0, 35.0), (39.0, 35.0), (39.0, 35.0), (39.0, 35.0), (39.0, 35.0), (39.0, 35.0), (39.0, 35.0), (39.0, 35.0), (39.0, 35.0), (39.0, 35.0), (39.0, 35.0), (54.0, -2.0), (54.0, -2.0), (-27.0, 133.0), (38.0, -97.0), (39.0, 35.0), (38.0, -97.0), (38.0, -97.0), (39.0, 35.0), (39.0, 35.0), (39.0, 35.0), (39.0, 35.0)]\n",
      "44\n",
      "[(35.0, 105.0), (15.0, 100.0), (-30.0, -71.0)]\n",
      "45\n",
      "[(38.0, -97.0), (38.0, -97.0)]\n",
      "46\n",
      "[(15.0, 100.0), (36.0, 138.0)]\n",
      "47\n",
      "[(15.0, 100.0), (15.0, 100.0)]\n",
      "48\n",
      "[(15.0, 100.0), (15.0, 100.0), (15.0, 100.0)]\n",
      "49\n",
      "[(15.0, 100.0), (15.0, 100.0), (15.0, 100.0), (38.0, -97.0), (15.0, 100.0)]\n",
      "50\n",
      "<class 'list'>\n"
     ]
    }
   ],
   "source": [
    "import pydeck as pdk\n",
    "import streamlit as st\n",
    "\n",
    "# Initialize a PyDeck layer to hold the lines\n",
    "line_data = []\n",
    "num = 0\n",
    "\n",
    "# Loop through rows to link countries in the same row\n",
    "for index, row in data.iterrows():\n",
    "    countries = row['Countries'].split(',')\n",
    "    \n",
    "    # Get coordinates for each country in the row\n",
    "    coords = [get_coordinates2(country) for country in countries]\n",
    "    print(coords)\n",
    "    \n",
    "    # Link countries in the same row (draw lines between consecutive countries)\n",
    "    for i in range(len(coords) - 1):\n",
    "        line_data.append({\n",
    "            'start_lat': coords[i][0],\n",
    "            'start_lon': coords[i][1],\n",
    "            'end_lat': coords[i + 1][0],\n",
    "            'end_lon': coords[i + 1][1]\n",
    "        })\n",
    "    num += 1\n",
    "    print(num)\n",
    "    if num == 100:\n",
    "        break\n",
    "print(type(line_data))\n",
    "df_list = pd.DataFrame(line_data)\n",
    "\n",
    "# Save DataFrame to CSV\n",
    "df_list.to_csv('line_data_list.csv', index=False)\n",
    "\n"
   ]
  },
  {
   "cell_type": "code",
   "execution_count": null,
   "metadata": {},
   "outputs": [
    {
     "data": {
      "text/html": [
       "<div>\n",
       "<style scoped>\n",
       "    .dataframe tbody tr th:only-of-type {\n",
       "        vertical-align: middle;\n",
       "    }\n",
       "\n",
       "    .dataframe tbody tr th {\n",
       "        vertical-align: top;\n",
       "    }\n",
       "\n",
       "    .dataframe thead th {\n",
       "        text-align: right;\n",
       "    }\n",
       "</style>\n",
       "<table border=\"1\" class=\"dataframe\">\n",
       "  <thead>\n",
       "    <tr style=\"text-align: right;\">\n",
       "      <th></th>\n",
       "      <th>Country</th>\n",
       "      <th>Alpha-2 code</th>\n",
       "      <th>Alpha-3 code</th>\n",
       "      <th>Numeric code</th>\n",
       "      <th>latitude</th>\n",
       "      <th>longitude</th>\n",
       "    </tr>\n",
       "  </thead>\n",
       "  <tbody>\n",
       "    <tr>\n",
       "      <th>0</th>\n",
       "      <td>Albania</td>\n",
       "      <td>AL</td>\n",
       "      <td>ALB</td>\n",
       "      <td>8</td>\n",
       "      <td>41.0000</td>\n",
       "      <td>20.0</td>\n",
       "    </tr>\n",
       "    <tr>\n",
       "      <th>1</th>\n",
       "      <td>Algeria</td>\n",
       "      <td>DZ</td>\n",
       "      <td>DZA</td>\n",
       "      <td>12</td>\n",
       "      <td>28.0000</td>\n",
       "      <td>3.0</td>\n",
       "    </tr>\n",
       "    <tr>\n",
       "      <th>2</th>\n",
       "      <td>American Samoa</td>\n",
       "      <td>AS</td>\n",
       "      <td>ASM</td>\n",
       "      <td>16</td>\n",
       "      <td>-14.3333</td>\n",
       "      <td>-170.0</td>\n",
       "    </tr>\n",
       "    <tr>\n",
       "      <th>3</th>\n",
       "      <td>Andorra</td>\n",
       "      <td>AD</td>\n",
       "      <td>AND</td>\n",
       "      <td>20</td>\n",
       "      <td>42.5000</td>\n",
       "      <td>1.6</td>\n",
       "    </tr>\n",
       "    <tr>\n",
       "      <th>4</th>\n",
       "      <td>Angola</td>\n",
       "      <td>AO</td>\n",
       "      <td>AGO</td>\n",
       "      <td>24</td>\n",
       "      <td>-12.5000</td>\n",
       "      <td>18.5</td>\n",
       "    </tr>\n",
       "  </tbody>\n",
       "</table>\n",
       "</div>"
      ],
      "text/plain": [
       "          Country Alpha-2 code Alpha-3 code  Numeric code  latitude  longitude\n",
       "0         Albania           AL          ALB             8   41.0000       20.0\n",
       "1         Algeria           DZ          DZA            12   28.0000        3.0\n",
       "2  American Samoa           AS          ASM            16  -14.3333     -170.0\n",
       "3         Andorra           AD          AND            20   42.5000        1.6\n",
       "4          Angola           AO          AGO            24  -12.5000       18.5"
      ]
     },
     "execution_count": 86,
     "metadata": {},
     "output_type": "execute_result"
    }
   ],
   "source": [
    "country_record = pd.read_csv('./dataset/country-coord.csv')\n",
    "country_record.head()"
   ]
  },
  {
   "cell_type": "code",
   "execution_count": null,
   "metadata": {},
   "outputs": [],
   "source": []
  }
 ],
 "metadata": {
  "kernelspec": {
   "display_name": "datasci-project-SFttIcTv-py3.12",
   "language": "python",
   "name": "python3"
  },
  "language_info": {
   "codemirror_mode": {
    "name": "ipython",
    "version": 3
   },
   "file_extension": ".py",
   "mimetype": "text/x-python",
   "name": "python",
   "nbconvert_exporter": "python",
   "pygments_lexer": "ipython3",
   "version": "3.12.2"
  }
 },
 "nbformat": 4,
 "nbformat_minor": 2
}
